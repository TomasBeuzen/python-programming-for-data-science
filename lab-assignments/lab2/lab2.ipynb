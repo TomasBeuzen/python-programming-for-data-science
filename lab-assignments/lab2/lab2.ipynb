{
 "cells": [
  {
   "cell_type": "markdown",
   "metadata": {},
   "source": [
    "![](../../lectures/img/511_banner.png)"
   ]
  },
  {
   "cell_type": "markdown",
   "metadata": {},
   "source": [
    "# Lab 2: Tests, Classes, Style & Imports\n",
    "\n",
    "**Tomas Beuzen, September 2020**"
   ]
  },
  {
   "cell_type": "markdown",
   "metadata": {},
   "source": [
    "|||\n",
    "|---|---|\n",
    "|**IMPORTANT:<br>This is a group lab - you will complete this lab with your assigned partner(s).<br>You will share a single GitHub repository which you can all push to.<br>Only one person in the group needs to submit to Canvas.**|![](img/we_got_this.png)|\n",
    "\n",
    "**Please add a link to your GitHub repository here:**\n",
    "\n",
    "In this lab, you'll complete various exercises related to Python functions, tests, classes, & imports. This lab will help you write better functions in Python, build classes and subclasses, and write tests. The assignment is based on the task of simulating stock prices over time. Note that there are 9 Exercises, but only 6 are required. Only some Exercises are provided with tests for you to test your solutions. The final question of this lab is tough but is good practice for using Python classes!"
   ]
  },
  {
   "cell_type": "markdown",
   "metadata": {
    "toc": true
   },
   "source": [
    "<h2>Table of Contents<span class=\"tocSkip\"></span></h2>\n",
    "<div class=\"toc\"><ul class=\"toc-item\"><li><span><a href=\"#Exercise-1:-Geometric-Brownian-Motion\" data-toc-modified-id=\"Exercise-1:-Geometric-Brownian-Motion-2\">Exercise 1: Geometric Brownian Motion</a></span></li><li><span><a href=\"#Exercise-2:-Stock-Options\" data-toc-modified-id=\"Exercise-2:-Stock-Options-3\">Exercise 2: Stock Options</a></span></li><li><span><a href=\"#Exercise-3:-Option-Value-via-Monte-Carlo-Simulation\" data-toc-modified-id=\"Exercise-3:-Option-Value-via-Monte-Carlo-Simulation-4\">Exercise 3: Option Value via Monte Carlo Simulation</a></span></li><li><span><a href=\"#(OPTIONAL)-Exercise-4:-Black-Scholes\" data-toc-modified-id=\"(OPTIONAL)-Exercise-4:-Black-Scholes-5\">(OPTIONAL) Exercise 4: Black-Scholes</a></span></li><li><span><a href=\"#(OPTIONAL)-Exercise-5:-Theory-vs.-Practice\" data-toc-modified-id=\"(OPTIONAL)-Exercise-5:-Theory-vs.-Practice-6\">(OPTIONAL) Exercise 5: Theory vs. Practice</a></span></li><li><span><a href=\"#(OPTIONAL)-Exercise-6:-Smoothing-a-Curve\" data-toc-modified-id=\"(OPTIONAL)-Exercise-6:-Smoothing-a-Curve-7\">(OPTIONAL) Exercise 6: Smoothing a Curve</a></span></li><li><span><a href=\"#Exercise-7:-Putting-it-all-Together-with-Classes\" data-toc-modified-id=\"Exercise-7:-Putting-it-all-Together-with-Classes-8\">Exercise 7: Putting it all Together with Classes</a></span></li><li><span><a href=\"#Exercise-8:-Creating-a-Stock-Subclass\" data-toc-modified-id=\"Exercise-8:-Creating-a-Stock-Subclass-9\">Exercise 8: Creating a Stock Subclass</a></span></li><li><span><a href=\"#Exercise-9:-Creating-a-Portfolio\" data-toc-modified-id=\"Exercise-9:-Creating-a-Portfolio-10\">Exercise 9: Creating a Portfolio</a></span></li><li><span><a href=\"#Run-Autograding\" data-toc-modified-id=\"Run-Autograding-11\">Run Autograding</a></span></li><li><span><a href=\"#Submission-to-Canvas\" data-toc-modified-id=\"Submission-to-Canvas-12\">Submission to Canvas</a></span></li></ul></div>"
   ]
  },
  {
   "cell_type": "code",
   "execution_count": 1,
   "metadata": {},
   "outputs": [],
   "source": [
    "# Run this cell. These are imports we'll need for this lab\n",
    "import math\n",
    "from random import gauss\n",
    "import scipy.stats\n",
    "import matplotlib.pyplot as plt\n",
    "plt.style.use('ggplot')  # These lines are to do with plot formatting. We'll talk about them in a later lecture.\n",
    "plt.rcParams.update({'font.size': 16,\n",
    "                     'axes.labelweight': 'bold',\n",
    "                     'figure.figsize': (8,6)})"
   ]
  },
  {
   "cell_type": "markdown",
   "metadata": {
    "nbgrader": {
     "grade": false,
     "grade_id": "cell-cbb88b5728dbc768",
     "locked": true,
     "schema_version": 3,
     "solution": false,
     "task": false
    }
   },
   "source": [
    "## Exercise 1: Geometric Brownian Motion\n",
    "<hr>\n",
    "\n",
    "rubric={autograde:2}"
   ]
  },
  {
   "cell_type": "markdown",
   "metadata": {},
   "source": [
    "We will simulate a stock's price fluctuation over time by assuming the stock price follows a [_geometric Brownian motion_](https://en.wikipedia.org/wiki/Geometric_Brownian_motion). In Lab 1 you simulated a random walk which is essentially Brownian motion: at each time step you add a small random amount to your current position. In geometric Brownian motion, at each time step you _multiply_ your current state by a (positive) random amount. Note that in regular Brownian motion the position can be both positive or negative, but in geometric Brownian motion the position is always positive; this is good because stock prices are never negative. An example is shown in the figure below:\n",
    "\n",
    "![](img/stock.png)\n",
    "\n",
    "In our model of stock prices, the current price $S_t$ depends on the previous price $S_{t-1}$ as follows:\n",
    "\n",
    "$$\n",
    "S_t = S_{t-1} \\exp \\left( -0.5\\sigma^2 + \\sigma Z \\right)\n",
    "$$\n",
    "\n",
    "where $Z$ is a random number drawn from a standard [Gaussian distribution](https://en.wikipedia.org/wiki/Normal_distribution). You can generate these random draws with `gauss(0, 1)` (which we imported from the `random` module at the start of the lab). Python comes with a built-in module called `math` (which we imported at the start of the lab with `import math`). `math` contains a variety of useful math operations such as `math.exp()`, `math.sqrt()`, `math.log()`, and `math.pow()`, which you may use throughout this lab.\n",
    "\n",
    "The parameter $\\sigma$ is the _volatility_ of the stock. The volatility is analogous to the step size in a random walk: a larger volatility means more movement in a given amount of time. (Note that if $\\sigma=0$ then the stock price never changes, whereas if $\\sigma$ is large the stock price can change wildly). The figure above  was generated using $S_0=10$, $\\sigma=0.01$, and $T=1000$."
   ]
  },
  {
   "cell_type": "markdown",
   "metadata": {},
   "source": [
    "**Your tasks**\n",
    "<hr>\n",
    "\n",
    "1. Write a function `simulate(S0, σ, T)` that takes as arguments $S_0$, $\\sigma$, and $T$, that simulates the geometric Brownian motion for $T$ steps using the equation above, and then returns an array of size $T+1$ containing the stock price at each time step;\n",
    "2. You should write a docstring for your function.\n",
    "3. You are given some plotting code to test out your function.\n",
    "\n",
    "*Hints:*\n",
    "- *Start by initializing an empty list and then appending to it with a `for` loop.*\n",
    "- *Use `gauss(0, 1)` for $Z$, use `math.exp()` for $exp()$.*\n",
    "- *When writing your tests, it might be easiest to think about the scenarios that would not be random...*\n",
    "- *Do not use the NumPy library here (if you are already familiar with it) - we'll be doing that next lab.*"
   ]
  },
  {
   "cell_type": "code",
   "execution_count": 2,
   "metadata": {
    "nbgrader": {
     "grade": false,
     "grade_id": "cell-f44f56d7bed7b121",
     "locked": false,
     "schema_version": 3,
     "solution": true,
     "task": false
    }
   },
   "outputs": [],
   "source": [
    "def simulate(S0, σ, T):\n",
    "    pass  # remove this line if providing a solution\n",
    "# Your answer goes here."
   ]
  },
  {
   "cell_type": "code",
   "execution_count": 3,
   "metadata": {},
   "outputs": [
    {
     "name": "stdout",
     "output_type": "stream",
     "text": [
      "There was an error plotting your function output.\n"
     ]
    },
    {
     "data": {
      "image/png": "[encoded data removed]",
      "text/plain": [
       "<Figure size 576x432 with 1 Axes>"
      ]
     },
     "metadata": {},
     "output_type": "display_data"
    }
   ],
   "source": [
    "# Code you can use for plotting your function\n",
    "try:\n",
    "    trace = simulate(10, 0.01, 1000)\n",
    "    plt.plot(trace)\n",
    "    plt.xlabel(\"Time\")\n",
    "    plt.ylabel(\"Stock price ($)\");\n",
    "except:\n",
    "    print(\"There was an error plotting your function output.\")"
   ]
  },
  {
   "cell_type": "markdown",
   "metadata": {
    "nbgrader": {
     "grade": false,
     "grade_id": "cell-4f74ea6e784acdd4",
     "locked": true,
     "schema_version": 3,
     "solution": false,
     "task": false
    }
   },
   "source": [
    "## Exercise 2: Stock Options\n",
    "<hr>\n",
    "\n",
    "rubric={accuracy:2,quality:2}"
   ]
  },
  {
   "cell_type": "markdown",
   "metadata": {},
   "source": [
    "A _stock option_ or [_call option_](https://en.wikipedia.org/wiki/Call_option) is a promise that you will be allowed (but not obligated) to buy a certain stock for a certain price at a certain time. For example, I might have a stock option for 1 Google share with a _strike price_ of $500 and an _expiration date_ of one year from now. This means that, if I want to, I have the option to buy 1 Google share for $500 in one year. \n",
    "\n",
    "So, under what circumstances would I want to do that? Well, if the Google stock price one year from now is $400, then I certainly would not want to exercise my option to pay $500 when I could be paying $400 for the same thing! Therefore, we say that the option turned out to be worthless if the share price is below the strike price at the expiration date of the option.\n",
    "\n",
    "On the other hand, if the Google share price turned out to be $600 one year from now, then I'm in luck: by exercising my option to buy a share for $500, and then immediately selling it at the market price of $600, I have made a profit of $100. A representation of what we just said in mathematical symbols is that, at the expiration time $T$, the option's profit $P_T$ is a function of the strike price $X$ (defined at time $T$) and **the stock price at the expiration date $S_T$** given by\n",
    "\n",
    "$$\n",
    "P_T=\\max(0, S_T-X)\n",
    "$$\n",
    "\n",
    "Ponder this for a moment and make sure you understand how the math corresponds with the explanation above (*note: we are using the word profit a bit loosely; in reality, you would need to pay for the option in the first place. In general, please forgive any financial misdemeanors here*)."
   ]
  },
  {
   "cell_type": "markdown",
   "metadata": {},
   "source": [
    "**Your tasks**\n",
    "<hr>\n",
    "\n",
    "1. Write a function `option_profit(S, X)` that takes in a list of a simulated stock trace (i.e., $S$, the output of `simulate(S0, σ, T)` from Exercise 1), and an option strike price $X$, and returns the option's profit using the formula above (note that $S_T$ represents the end of the time series, which is what we want to compare $X$);\n",
    "2. You must also write at least two tests for your function.\n",
    "3. Write a docstring for your function."
   ]
  },
  {
   "cell_type": "code",
   "execution_count": 4,
   "metadata": {
    "nbgrader": {
     "grade": true,
     "grade_id": "cell-2158174bcf20baf7",
     "locked": false,
     "points": 0,
     "schema_version": 3,
     "solution": true,
     "task": false
    }
   },
   "outputs": [],
   "source": [
    "def option_profit():\n",
    "    pass  # remove this line if providing a solution\n",
    "# Your answer goes here."
   ]
  },
  {
   "cell_type": "markdown",
   "metadata": {
    "nbgrader": {
     "grade": false,
     "grade_id": "cell-18f81249ca7d5ba8",
     "locked": true,
     "schema_version": 3,
     "solution": false,
     "task": false
    }
   },
   "source": [
    "## Exercise 3: Option Value via Monte Carlo Simulation\n",
    "<hr>\n",
    "\n",
    "rubric={accuracy:3,quality:2}"
   ]
  },
  {
   "cell_type": "markdown",
   "metadata": {},
   "source": [
    "An important question that arises is, what is an option's fair value at the time it is issued ($t=0$), **before** we know what is going to happen to the stock price? To use our previous example, if Google shares currently trade at $500, how much would you pay for an option to buy it for $500 in one year? Or $600 in one year? Or $600 in two years? Indeed, the option value will depend on the strike price and the duration, among other things.\n",
    "\n",
    "Although the problem of valuing an option has been addressed theoretically (see Exercise 4), we will estimate it empirically by simulating the stock price with `simulate(S0, σ, T)`, and then computing the option profit $P_T$ with `option_profit(S, X)`. Sometimes the simulation will yield a worthless option (because the stock price is below the strike price), and other times it will be worth something (because the stock price is above the strike price). By repeating the simulation many times and taking the average, we can compute an \"expected\" or average value of the option, which we will take to be its fair value ($P_0$). This general approach of simulating a random process in order to understand its characteristics is called a [_Monte Carlo method_](https://en.wikipedia.org/wiki/Monte_Carlo_method)."
   ]
  },
  {
   "cell_type": "markdown",
   "metadata": {},
   "source": [
    "**Your tasks**\n",
    "<hr>\n",
    "\n",
    "1. Write a function `option_value_monte_carlo()` that takes as arguments $S_0$, $\\sigma$, $T$, $X$, and the number of simulations $N$, and returns the average option value (averaged over the $N$ simulations). You can specify $N$ as a keyword argument, with a default value of $100$;\n",
    "2. Your function should make use of `simulate()` and `option_profit()`;\n",
    "3. You must also write at least two tests for your function.\n",
    "4. Write a docstring for your function.\n",
    "\n",
    "*Hint: to find the mean of a list you can calculate the `sum()` and divide by the `len()`.*"
   ]
  },
  {
   "cell_type": "code",
   "execution_count": 5,
   "metadata": {
    "nbgrader": {
     "grade": true,
     "grade_id": "cell-395136a25b836504",
     "locked": false,
     "points": 0,
     "schema_version": 3,
     "solution": true,
     "task": false
    }
   },
   "outputs": [],
   "source": [
    "def option_value_monte_carlo():\n",
    "    pass  # remove this line if providing a solution\n",
    "# Your answer goes here."
   ]
  },
  {
   "cell_type": "markdown",
   "metadata": {
    "nbgrader": {
     "grade": false,
     "grade_id": "cell-f8da6ed5f8cfe5ed",
     "locked": true,
     "schema_version": 3,
     "solution": false,
     "task": false
    }
   },
   "source": [
    "## (OPTIONAL) Exercise 4: Black-Scholes\n",
    "<hr>\n",
    "\n",
    "rubric={accuracy:1}"
   ]
  },
  {
   "cell_type": "markdown",
   "metadata": {},
   "source": [
    "The famous [Black-Scholes formula](https://en.wikipedia.org/wiki/Black%E2%80%93Scholes_model) was derived by a theoretical analysis of the geometric Brownian motion model discussed above. It turns out that (in our oversimplified case of zero interest rate) the expected option price, $P_0$, is given by:\n",
    "\n",
    "$$P_0 = \\Phi(d_1)S_0 -\\Phi(d_2)X $$\n",
    "\n",
    "where\n",
    "\n",
    "$$d_1 = \\frac{1}{\\sigma \\sqrt{T}} \\left[ \\log \\left(\\frac{S_0}{X} \\right) + \\frac{\\sigma^2}{2}T\\right]$$ \n",
    "\n",
    "and\n",
    "\n",
    "$$d_2 = \\frac{1}{\\sigma \\sqrt{T}} \\left[ \\log \\left(\\frac{S_0}{X} \\right) - \\frac{\\sigma^2}{2}T\\right] $$\n",
    "\n",
    "and $\\Phi(\\cdot)$ is the cumulative distribution function of the Gaussian distribution, which can be computed with `scipy.stats.norm.cdf(x)`. Note: unless otherwise specified, $\\log$ refers to the natural logarithm.\n",
    "\n",
    "Your task: write a function `black_scholes` that takes as arguments $S_0$, $\\sigma$, $T$, and $X$, and returns the Black-Scholes option price given by the equation above. You must also write at least two tests for your function. \n",
    "\n",
    "**Your tasks**\n",
    "<hr>\n",
    "\n",
    "- Write a function `black_scholes(S0, σ, T, X)` that takes as arguments $S_0$, $\\sigma$, $T$, and $X$, and returns the Black-Scholes option price given by the equation above;\n",
    "- You must also write at least two tests for your function.\n",
    "- And don't forget to write a docstring!\n",
    "\n",
    "*Hints:*\n",
    "- *$\\Phi(\\cdot)$ can be calculated using `scipy.stats.norm.cdf(x)` (we imported `scipy.stats` at the start of this lab)*;\n",
    "- *Remember that the `math` module contains useful functions like `math.sqrt()`, `math.log()`, and `math.pow()`, some of which you'll need here. While operations like square root can be perform using `**` notation, e.g., `4 ** 0.5`, I still sometimes use the `math` functions because they can make my code more readable/[slightly faster](https://stackoverflow.com/questions/327002/which-is-faster-in-python-x-5-or-math-sqrtx).*"
   ]
  },
  {
   "cell_type": "code",
   "execution_count": 6,
   "metadata": {
    "nbgrader": {
     "grade": true,
     "grade_id": "cell-de0a7d90448b74da",
     "locked": false,
     "points": 0,
     "schema_version": 3,
     "solution": true,
     "task": false
    },
    "scrolled": true
   },
   "outputs": [],
   "source": [
    "def black_scholes():\n",
    "    pass  # remove this line if providing a solution\n",
    "# Your answer goes here."
   ]
  },
  {
   "cell_type": "markdown",
   "metadata": {
    "nbgrader": {
     "grade": false,
     "grade_id": "cell-d5bd9d1810f2fc43",
     "locked": true,
     "schema_version": 3,
     "solution": false,
     "task": false
    }
   },
   "source": [
    "## (OPTIONAL) Exercise 5: Theory vs. Practice\n",
    "<hr>\n",
    "\n",
    "rubric={reasoning:1}"
   ]
  },
  {
   "cell_type": "markdown",
   "metadata": {},
   "source": [
    "Compare your theoretical results from Exercise 4 with your empirical results from Exercise 3 - do they agree?"
   ]
  },
  {
   "cell_type": "code",
   "execution_count": 7,
   "metadata": {
    "nbgrader": {
     "grade": true,
     "grade_id": "cell-6b5cba71ed0e29aa",
     "locked": false,
     "points": 0,
     "schema_version": 3,
     "solution": true,
     "task": false
    }
   },
   "outputs": [],
   "source": [
    "# Your answer goes here."
   ]
  },
  {
   "cell_type": "markdown",
   "metadata": {
    "nbgrader": {
     "grade": false,
     "grade_id": "cell-8ac1e66571ef46ca",
     "locked": true,
     "schema_version": 3,
     "solution": false,
     "task": false
    }
   },
   "source": [
    "## (OPTIONAL) Exercise 6: Smoothing a Curve\n",
    "<hr>\n",
    "\n",
    "rubric={accuracy:1}"
   ]
  },
  {
   "cell_type": "markdown",
   "metadata": {},
   "source": [
    "Your simulation from Exercise 1 shows the stock price at every time step, and is therefore very \"bumpy\". Investors are often more interested in a _smoothed_ depiction of the stock price over time, in which small ups and downs are removed, leaving only the salient trends. The figure below shows a smoothed stock price in red, generated using a moving average window with $W=25$:\n",
    "\n",
    "![](img/stock_smooth.png)\n",
    "\n",
    "The smoothing is achieved by replacing the price at time $t$ with an average of all the prices from times $t-W$ to $t+W$ (inclusive), for some positive integer $W$ (thus, the total width of the window is $2W+1$). There are various options for dealing with the edges of the plot, here we will assume that when we do not have enough data for the entire window, the average is computed only over the portion of the window that is within the data range. For example, if $T=1000$ and $W=5$ then the smoothed curve at $t=0$ is the average of the prices from $t=0$ to $t=5$, the smoothed curve at $t=1$ is the average of the prices from $t=0$ to $t=6$, the smoothed curve at $t=10$ is the average of the prices from $t=5$ to $t=15$, and the smoothed curve at $t=997$ is the average of the prices from $t=992$ to $t=1000$.\n",
    "\n",
    "**Your tasks**\n",
    "<hr>\n",
    "\n",
    "1. Write a function `smooth` that takes in an array of values (such as the output of `simulate`) and the window width $W$, and returns a smoothed version the input array using the sliding window averaging scheme described above. Set the default value of $W$ to $25$. The returned array should be the same size as the input array.;\n",
    "2. You must also write at least two tests for your function.\n",
    "3. And don't forget to write a docstring!\n",
    "\n",
    "*Hint: start by initializing a numpy array and then fill it in using a loop. At each iteration of the loop, compute the two ends of the window, taking into account the special cases if you are near the edge of the array. Then, you can slice the input array to take only the values in the window, and finally you can take the mean of these with `np.mean`.*"
   ]
  },
  {
   "cell_type": "code",
   "execution_count": 8,
   "metadata": {
    "nbgrader": {
     "grade": true,
     "grade_id": "cell-632dee2968d4f87c",
     "locked": false,
     "points": 0,
     "schema_version": 3,
     "solution": true,
     "task": false
    }
   },
   "outputs": [],
   "source": [
    "def smooth():\n",
    "    pass  # remove this line if providing a solution\n",
    "# Your answer goes here."
   ]
  },
  {
   "cell_type": "code",
   "execution_count": 9,
   "metadata": {},
   "outputs": [
    {
     "name": "stdout",
     "output_type": "stream",
     "text": [
      "There was an error plotting your function output.\n"
     ]
    }
   ],
   "source": [
    "# Code you can use for plotting your function \n",
    "try:\n",
    "    trace = simulate(1, 0.01, 1000)\n",
    "    trace_smooth = smooth(trace, 30)\n",
    "    plt.plot(trace, label=\"Original\")\n",
    "    plt.plot(trace_smooth, lw=3, label=\"Smoothed\")\n",
    "    plt.xlabel(\"Time\")\n",
    "    plt.ylabel(\"Stock price ($)\")\n",
    "    plt.legend();\n",
    "except:\n",
    "    print(\"There was an error plotting your function output.\")"
   ]
  },
  {
   "cell_type": "markdown",
   "metadata": {
    "nbgrader": {
     "grade": false,
     "grade_id": "cell-3101216f972668b3",
     "locked": true,
     "schema_version": 3,
     "solution": false,
     "task": false
    }
   },
   "source": [
    "## Exercise 7: Putting it all Together with Classes\n",
    "<hr>\n",
    "\n",
    "rubric={autograde:2}"
   ]
  },
  {
   "cell_type": "markdown",
   "metadata": {},
   "source": [
    "Let's create a class to represent geometric Brownian motion. Below is the skeleton of a class `Brownian`. The constructor takes in two arguments, `price` (initial price) and `σ` (volatility) and should store these as instance attributes.\n",
    "\n",
    "**Your tasks**\n",
    "<hr>\n",
    "\n",
    "1. Complete the constructor method `__init__`;\n",
    "2. Write a method called `simulate()`, which takes in the number of time steps $T$ with a default value of 100, simulates the geometric Brownian motion for  $T$  steps, and returns a list of the simulated time series. It is fine to copy/paste a bunch of the code from the Exercises above.\n",
    "3. Be sure to write a docstring for your class and method."
   ]
  },
  {
   "cell_type": "code",
   "execution_count": 10,
   "metadata": {
    "nbgrader": {
     "grade": false,
     "grade_id": "cell-c5e56e1c8151d5ce",
     "locked": false,
     "schema_version": 3,
     "solution": true,
     "task": false
    }
   },
   "outputs": [],
   "source": [
    "class Brownian:\n",
    "    \"\"\"Geometric Brownian motion.\n",
    "\n",
    "    Parameters\n",
    "    ----------\n",
    "    price : float\n",
    "        the initial stock price\n",
    "    σ : float\n",
    "        stock volatility, should be non-negative\n",
    "\n",
    "    Examples\n",
    "    --------\n",
    "    >>> b = Brownian(1, 0.1)\n",
    "    \"\"\"\n",
    "\n",
    "    def __init__(self, price, σ):\n",
    "        \"\"\"See help(Brownian)\"\"\"\n",
    "        pass  # remove this line if providing a solution\n",
    "\n",
    "# Your answer goes here."
   ]
  },
  {
   "cell_type": "markdown",
   "metadata": {
    "nbgrader": {
     "grade": false,
     "grade_id": "cell-09b9621b0d2d1825",
     "locked": true,
     "schema_version": 3,
     "solution": false,
     "task": false
    }
   },
   "source": [
    "## Exercise 8: Creating a Stock Subclass\n",
    "<hr>\n",
    "\n",
    "rubric={accuracy:2,quality:2}"
   ]
  },
  {
   "cell_type": "markdown",
   "metadata": {},
   "source": [
    "Our `Brownian` class above is the perfect foundation for us to create a `Stock` subclass that inherits attributes/methods of `Brownian` but also adds some more stock-specific functionality.\n",
    "\n",
    "**Your tasks**\n",
    "<hr>\n",
    "\n",
    "1. Create a new class call `Stock` that **inherits** everything from the `Brownian` class from Exercise 7, but also has a `name` instance attribute which holds the name of the stock;\n",
    "2. Write a method called `simulate_price()`, which takes in the number of time steps $T$ and a keyword argument $N$ with a default value of 100, and uses Monte Carlo to estimate the stock price **after** $T$ time steps, averaged over $N$ trials and returns the result. Your method should _not_ modify `self.price` (*hint: your class is inheriting the `simulate()` code from `Brownian` which you can use with `self.simulate()`*).\n",
    "3. Be sure to write a docstring for your class and method."
   ]
  },
  {
   "cell_type": "code",
   "execution_count": 11,
   "metadata": {
    "code_folding": [],
    "nbgrader": {
     "grade": true,
     "grade_id": "cell-c12cb6415d4f3776",
     "locked": false,
     "points": 0,
     "schema_version": 3,
     "solution": true,
     "task": false
    }
   },
   "outputs": [],
   "source": [
    "class Stock(Brownian):\n",
    "    \"\"\"A stock that is traded on the stock market.\n",
    "\n",
    "    Parameters\n",
    "    ----------\n",
    "    price : float\n",
    "        the initial stock price\n",
    "    σ : float\n",
    "        stock volatility, should be non-negative\n",
    "    name : str\n",
    "        stock name\n",
    "\n",
    "    Examples\n",
    "    --------\n",
    "    >>> disney = Stock(550.0, 0.25, \"DIS\")\n",
    "    \"\"\"\n",
    "\n",
    "    def __init__(self, price, σ, name):\n",
    "        \"\"\"See help(Stock)\"\"\"\n",
    "        pass  # remove this line if providing a solution\n",
    "    \n",
    "# Your answer goes here."
   ]
  },
  {
   "cell_type": "markdown",
   "metadata": {
    "nbgrader": {
     "grade": false,
     "grade_id": "cell-34d06daf1786e02a",
     "locked": true,
     "schema_version": 3,
     "solution": false,
     "task": false
    }
   },
   "source": [
    "## Exercise 9: Creating a Portfolio\n",
    "<hr>\n",
    "\n",
    "rubric={accuracy:3,quality:3}"
   ]
  },
  {
   "cell_type": "markdown",
   "metadata": {},
   "source": [
    "Inheritance is a tricky subject so we're going to go through one more exercise for practice. This is definitely the hardest question of this lab, but should teach you some good Python skills! Only a bit of helper code is provided here, but I've provided some tests so that you can test whether your code is working as it should.\n",
    "\n",
    "The file `wallet.py` provided with your lab contains a basic class called `Wallet` that stores a cash balance and provides methods to `buy_item()` and `sell_item()`. We created this class together in Lecture 4.\n",
    "\n",
    "**Your tasks**\n",
    "<hr>\n",
    "\n",
    "Your task here is to build a new `Portfolio` class that inherits from `Wallet` and has the following:\n",
    "\n",
    "1. Overwrites the `item` class attribute with the value `\"Portfolio\"` (rather than `\"Wallet\"`);\n",
    "2. An instance attribute called `stocks_owned` which initializes as `Counter()` (I've done this for you in the starter code below). We did not cover `Counter()` in class but it's an easy way to keep track of your stocks. Its docs are [here](https://docs.python.org/3/library/collections.html#collections.Counter), but all you need to know is that it keeps count of any object you pass it (like a `Stock`), for example:\n",
    "\n",
    "```python\n",
    "c = Counter()\n",
    "apple = Stock(200, 0.1, \"AAPL\")\n",
    "c[apple] = 5\n",
    "c[apple]\n",
    "5\n",
    "c[apple] += 2\n",
    "c[apple]\n",
    "7\n",
    "```\n",
    "3. A method `buy_stock`, which takes in a `stock` instance and the number of stocks to buy. Bought stock should be added to the `stocks_owned` counter with `self.stocks_owned[stock] += number`. If you don't have enough money to buy the `number` of `stock` you want, a `InsufficientCashError` should be raised (this is already built-in to `Wallet.buy_item()` for you!).\n",
    "4. A method `sell_stock`, which takes in a `Stock` instance and the number of stocks to sell. Sold stock should be removed from the `stocks_owned` counter with `self.stocks_owned[stock] -= number`. If you don't have enough `stock` to sell, a `InsufficientStockError` (I've made this for you).\n",
    "4. A method `portfolio_value()`, which computes the current value of your portfolio, _including your cash_.\n",
    "5. A method `simulated_portfolio_value()`, which computes the value of your portfolio, _including your cash_, after time $T$ (make use of `stock.simulate_price()` to do this!)"
   ]
  },
  {
   "cell_type": "code",
   "execution_count": 12,
   "metadata": {
    "nbgrader": {
     "grade": true,
     "grade_id": "cell-df35e2473085e93e",
     "locked": false,
     "points": 0,
     "schema_version": 3,
     "solution": true,
     "task": false
    }
   },
   "outputs": [],
   "source": [
    "from wallet import Wallet, InsufficientCashError\n",
    "from collections import Counter\n",
    "\n",
    "class InsufficientStockError(Exception):\n",
    "    pass\n",
    "\n",
    "\n",
    "class Portfolio(Wallet):\n",
    "    \"\"\"An investment portfolio consisting of Stocks and cash.\"\"\"\n",
    "\n",
    "    def __init__(self, balance):\n",
    "        super().__init__(balance)\n",
    "        self.stocks_owned = Counter()\n",
    "        \n",
    "# Your answer goes here."
   ]
  },
  {
   "cell_type": "markdown",
   "metadata": {},
   "source": [
    "![](img/good_stuff.png)"
   ]
  }
 ],
 "metadata": {
  "anaconda-cloud": {},
  "celltoolbar": "Create Assignment",
  "kernelspec": {
   "display_name": "Python 3",
   "language": "python",
   "name": "python3"
  },
  "language_info": {
   "codemirror_mode": {
    "name": "ipython",
    "version": 3
   },
   "file_extension": ".py",
   "mimetype": "text/x-python",
   "name": "python",
   "nbconvert_exporter": "python",
   "pygments_lexer": "ipython3",
   "version": "3.7.8"
  },
  "toc": {
   "base_numbering": 1,
   "nav_menu": {},
   "number_sections": false,
   "sideBar": true,
   "skip_h1_title": true,
   "title_cell": "Table of Contents",
   "title_sidebar": "Contents",
   "toc_cell": true,
   "toc_position": {},
   "toc_section_display": true,
   "toc_window_display": true
  }
 },
 "nbformat": 4,
 "nbformat_minor": 4
}
