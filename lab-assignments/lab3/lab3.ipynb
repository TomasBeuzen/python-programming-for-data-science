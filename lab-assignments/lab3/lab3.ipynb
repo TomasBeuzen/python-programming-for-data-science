{
 "cells": [
  {
   "cell_type": "markdown",
   "metadata": {},
   "source": [
    "![](img/511_banner.png)"
   ]
  },
  {
   "cell_type": "markdown",
   "metadata": {},
   "source": [
    "# Lab 3: Introduction to NumPy and Pandas\n",
    "\n",
    "**Tomas Beuzen, September 2020**"
   ]
  },
  {
   "cell_type": "markdown",
   "metadata": {},
   "source": [
    "In this lab, you'll complete various exercises using your new best friends NumPy and Pandas! These two packages are the foundation of data science in Python, providing you with the tools to create, load, operate on and generally wrangle data in practically any way imaginable! Broadly speaking, NumPy focuses on array-like data, while Pandas focuses on tabular data - you'll be using plenty of both throughout MDS!\n",
    "\n",
    "![](img/fun.png)"
   ]
  },
  {
   "cell_type": "markdown",
   "metadata": {
    "toc": true
   },
   "source": [
    "<h2>Table of Contents<span class=\"tocSkip\"></span></h2>\n",
    "<div class=\"toc\"><ul class=\"toc-item\"><li><span><a href=\"#Exercise-1:-NumPy-Warm-Up\" data-toc-modified-id=\"Exercise-1:-NumPy-Warm-Up-2\">Exercise 1: NumPy Warm Up</a></span></li><li><span><a href=\"#Exercise-2:-Vectorizing-Geometric-Brownian-Motion\" data-toc-modified-id=\"Exercise-2:-Vectorizing-Geometric-Brownian-Motion-7\">Exercise 2: Vectorizing Geometric Brownian Motion</a></span></li><li><span><a href=\"#Exercise-3:-NumPy-Wrangling\" data-toc-modified-id=\"Exercise-3:-NumPy-Wrangling-8\">Exercise 3: NumPy Wrangling</a></span></li><li><span><a href=\"#Exercise-4:-Reading-Data-with-Pandas\" data-toc-modified-id=\"Exercise-4:-Reading-Data-with-Pandas-13\">Exercise 4: Reading Data with Pandas</a></span></li><li><span><a href=\"#Exercise-5:-Treasure-Hunt-with-Pandas\" data-toc-modified-id=\"Exercise-5:-Treasure-Hunt-with-Pandas-14\">Exercise 5: Treasure Hunt with Pandas</a></span></li><li><span><a href=\"#Exercise-6:-Mind-the-Gap\" data-toc-modified-id=\"Exercise-6:-Mind-the-Gap-16\">Exercise 6: Mind the Gap</a></span></li></ul></div>"
   ]
  },
  {
   "cell_type": "code",
   "execution_count": 1,
   "metadata": {},
   "outputs": [],
   "source": [
    "# Import for this lab\n",
    "import time\n",
    "import numpy as np\n",
    "import pandas as pd\n",
    "import math\n",
    "from random import gauss\n",
    "import matplotlib.pyplot as plt\n",
    "plt.style.use('ggplot')\n",
    "plt.rcParams.update({'font.size': 16,\n",
    "                     'axes.labelweight': 'bold',\n",
    "                     'figure.figsize': (8,6),\n",
    "                     'axes.grid': False})"
   ]
  },
  {
   "cell_type": "markdown",
   "metadata": {
    "nbgrader": {
     "grade": false,
     "grade_id": "cell-cbb88b5728dbc768",
     "locked": true,
     "schema_version": 3,
     "solution": false,
     "task": false
    }
   },
   "source": [
    "## Exercise 1: NumPy Warm Up\n",
    "<hr>\n",
    "\n",
    ">**I will demonstrate the solutions to these exercises in lab class and post the video to [Canvas](https://canvas.ubc.ca/courses/53659/external_tools/187).**"
   ]
  },
  {
   "cell_type": "markdown",
   "metadata": {},
   "source": [
    "Just a few quick exercises to get you in the NumPy mind-set!"
   ]
  },
  {
   "cell_type": "markdown",
   "metadata": {},
   "source": [
    "### 1.1\n",
    "rubric={autograde:1}"
   ]
  },
  {
   "cell_type": "markdown",
   "metadata": {},
   "source": [
    "Create the following array and save it as a variable `ex1_1`:\n",
    "\n",
    "```python\n",
    "array([[1, 2],\n",
    "       [3, 4],\n",
    "       [5, 6]])\n",
    "```"
   ]
  },
  {
   "cell_type": "code",
   "execution_count": 2,
   "metadata": {},
   "outputs": [],
   "source": [
    "ex1_1 = None\n",
    "# Your answer goes here."
   ]
  },
  {
   "cell_type": "markdown",
   "metadata": {},
   "source": [
    "### 1.2\n",
    "rubric={autograde:1}"
   ]
  },
  {
   "cell_type": "markdown",
   "metadata": {},
   "source": [
    "Reshape the following `arr` into shape `(6, 1)` and save the result as `ex1_2`."
   ]
  },
  {
   "cell_type": "code",
   "execution_count": 3,
   "metadata": {},
   "outputs": [],
   "source": [
    "arr = np.array([[1, 2], [3, 4], [5, 6]])\n",
    "ex1_2 = None\n",
    "# Your answer goes here."
   ]
  },
  {
   "cell_type": "markdown",
   "metadata": {},
   "source": [
    "### 1.3\n",
    "rubric={autograde:1}"
   ]
  },
  {
   "cell_type": "markdown",
   "metadata": {},
   "source": [
    "Create a `(6, 6)` matrix by multiplying the following `arr` by itself (hint: leverage broadcasting here). The first element (top left corner) should be 1, and the last element (bottom right corner) should be 36."
   ]
  },
  {
   "cell_type": "code",
   "execution_count": 4,
   "metadata": {},
   "outputs": [],
   "source": [
    "arr = np.arange(1, 7)[None, :]\n",
    "ex1_3 = None\n",
    "# Your answer goes here."
   ]
  },
  {
   "cell_type": "markdown",
   "metadata": {},
   "source": [
    "### 1.4\n",
    "rubric={autograde:1}"
   ]
  },
  {
   "cell_type": "markdown",
   "metadata": {},
   "source": [
    "\"Center\" the following `arr` by subtracting the mean from every element, then flatten it to shape `(20,)` and sort it in descending order."
   ]
  },
  {
   "cell_type": "code",
   "execution_count": 5,
   "metadata": {},
   "outputs": [],
   "source": [
    "arr = np.arange(1, 21).reshape(4, 5)\n",
    "ex1_4 = None\n",
    "# Your answer goes here."
   ]
  },
  {
   "cell_type": "markdown",
   "metadata": {
    "nbgrader": {
     "grade": false,
     "grade_id": "cell-cbb88b5728dbc768",
     "locked": true,
     "schema_version": 3,
     "solution": false,
     "task": false
    }
   },
   "source": [
    "## Exercise 2: Vectorizing Geometric Brownian Motion\n",
    "<hr>\n",
    "\n",
    ">**I will demonstrate the solutions to these exercises in lab class and post the video to [Canvas](https://canvas.ubc.ca/courses/53659/external_tools/187).**"
   ]
  },
  {
   "cell_type": "markdown",
   "metadata": {},
   "source": [
    "### 2.1\n",
    "rubric={accuracy:2,quality:2}"
   ]
  },
  {
   "cell_type": "markdown",
   "metadata": {},
   "source": [
    "In Lab 2 you created a function `simulate(S0, σ, T)` that simulates a stock price using geometric Brownian motion. In the model, the current price $S_t$ depends on the previous price $S_{t-1}$ as follows:\n",
    "\n",
    "$$S_t = S_{t-1} \\exp \\left( -0.5\\sigma^2 + \\sigma Z \\right)$$\n",
    "\n",
    "where $Z$ is a random number drawn from a standard [Gaussian distribution](https://en.wikipedia.org/wiki/Normal_distribution) and $\\sigma$ is the _volatility_ of the stock (i.e., if $\\sigma=0$ then the stock price never changes, whereas if $\\sigma$ is large the stock price can change wildly).\n",
    "\n",
    "The function we came up with in Lab 2 is shown below:"
   ]
  },
  {
   "cell_type": "code",
   "execution_count": 6,
   "metadata": {},
   "outputs": [],
   "source": [
    "def simulate(S0=1, σ=0.1, T=1000):\n",
    "    \"\"\"\n",
    "    Simulates a stock price using geometric Brownian motion, \n",
    "    and returns a list containing the results.\n",
    "\n",
    "    Parameters\n",
    "    ----------\n",
    "    S0 : float \n",
    "        the initial stock price\n",
    "    σ : float \n",
    "        the volatility, should be non-negative\n",
    "    T : int\n",
    "        the number of time steps to simulate\n",
    "\n",
    "    Returns\n",
    "    -------\n",
    "    list\n",
    "        The stock price of the stock at each time step \n",
    "\n",
    "    Examples\n",
    "    --------\n",
    "    >>> simulate(3.9, 0.5, 4)\n",
    "    [3.9, 3.16886711, 1.06006414, 0.79470699]\n",
    "    \"\"\"\n",
    "    \n",
    "    S = [S0]\n",
    "    # append to list for each time T\n",
    "    for t in range(1, T):\n",
    "        Z = gauss(0, 1)\n",
    "        S.append(S[t - 1] * math.exp(-0.5 * σ ** 2 + σ * Z))\n",
    "\n",
    "    return S"
   ]
  },
  {
   "cell_type": "markdown",
   "metadata": {},
   "source": [
    "Your task here is to re-write this function as `simulate_np(S0, σ, T)` using NumPy and **without using a for loop**. If you consider the equation above, you'll notice we don't really need a for loop to simulate **T** time steps of geometric Brownian motion. Let's do some math! Let's denote $\\theta = \\exp \\left( -0.5\\sigma^2 + \\sigma Z \\right)$, then:\n",
    "\n",
    "$$S_{t+1} = S_{t} \\theta_t$$\n",
    "\n",
    "$$S_{t+2} = S_{t+1} \\theta_{t+1} = S_{t} \\theta_t \\theta_{t+1}$$\n",
    "\n",
    "$$S_{t+3} = S_{t+2} \\theta_{t+2} = S_{t} \\theta_t \\theta_{t+1} \\theta_{t+2}$$\n",
    "\n",
    "$$\\textrm{...}$$\n",
    "\n",
    "$$S_{T} = S_{0} \\prod_{t=1}^{T} \\theta_{t}$$\n",
    "\n",
    "With the above in mind, use NumPy to create `simulate_np(S0, σ, T)` that calculate geometric Brownian motion **without a for loop**.\n",
    "\n",
    "Hints:\n",
    "- 𝜃 does not depend on the stock price at time `t`, so you can create $\\prod_{t=1}^{T} \\theta_{t}$ without using a loop.\n",
    "- You can create a `Z` with `np.random.randn()`.\n",
    "- You can calculate the cumulative product of an array using `.cumprod()`.\n",
    "- Your function can return an `ndarray` instead of a `list`.\n",
    "- You are given some plotting code to test out your function."
   ]
  },
  {
   "cell_type": "code",
   "execution_count": 7,
   "metadata": {},
   "outputs": [],
   "source": [
    "def simulate_np(S0=1, σ=0.1, T=1000):\n",
    "    pass  # remove if providing a solution\n",
    "# Your answer goes here."
   ]
  },
  {
   "cell_type": "code",
   "execution_count": 8,
   "metadata": {},
   "outputs": [
    {
     "name": "stdout",
     "output_type": "stream",
     "text": [
      "Plotting failed, here's the traceback:\n",
      "x, y, and format string must not be None.\n"
     ]
    },
    {
     "data": {
      "image/png": "[encoded data removed]",
      "text/plain": [
       "<Figure size 576x432 with 1 Axes>"
      ]
     },
     "metadata": {},
     "output_type": "display_data"
    }
   ],
   "source": [
    "# Code you can use for plotting your function \n",
    "try:\n",
    "    trace = simulate_np(S0=1, σ=0.1, T=1000)\n",
    "    plt.plot(trace)\n",
    "    plt.grid()\n",
    "    plt.xlabel(\"Time\")\n",
    "    plt.ylabel(\"Stock price\")\n",
    "except Exception as e:\n",
    "    print(f\"Plotting failed, here's the traceback:\\n{e}.\")"
   ]
  },
  {
   "cell_type": "markdown",
   "metadata": {},
   "source": [
    "### 2.2\n",
    "rubric={accuracy:2}"
   ]
  },
  {
   "cell_type": "markdown",
   "metadata": {},
   "source": [
    "This question is optional but I highly recommend it if you have time (pun intended) - it will really help drive home the power of the NumPy library vs base Python when operating on array-like data! You can use the `time` module to help calculate the time it takes (in [real time](https://communities.sas.com/t5/SAS-Programming/Real-Time-vs-CPU-time/td-p/287743#:~:text=Real%20Time%20is%20the%20actual,the%20step%20utilises%20CPU%20resources.)) for your code to execute. Write code to record how long it takes for `simulate()` and your new-and-improved `simulate_np()` to run 10,000 times (using their default values of `(S0=1, σ=0.1, T=1000)`).\n",
    "\n",
    "Hints:\n",
    "- The `time` module has already been imported for you at the start of the lab.\n",
    "- `time.time()` gives you the current clock time (so you can save a variable `start = time.time()` before you code and `end = time.time()` after your code and compare the difference)."
   ]
  },
  {
   "cell_type": "code",
   "execution_count": 9,
   "metadata": {},
   "outputs": [],
   "source": [
    "# Your answer goes here."
   ]
  },
  {
   "cell_type": "markdown",
   "metadata": {
    "nbgrader": {
     "grade": false,
     "grade_id": "cell-cbb88b5728dbc768",
     "locked": true,
     "schema_version": 3,
     "solution": false,
     "task": false
    }
   },
   "source": [
    "## Exercise 3: NumPy Wrangling\n",
    "<hr>"
   ]
  },
  {
   "cell_type": "markdown",
   "metadata": {},
   "source": [
    "### 3.1\n",
    "rubric={accuracy:1}"
   ]
  },
  {
   "cell_type": "markdown",
   "metadata": {},
   "source": [
    "Below is a 400 x 400 pixel image of me, imported and displayed with `matplotlib` (a plotting library that you'll learn about in DSCI 531)."
   ]
  },
  {
   "cell_type": "code",
   "execution_count": 10,
   "metadata": {},
   "outputs": [
    {
     "name": "stdout",
     "output_type": "stream",
     "text": [
      "Image shape: (400, 400)\n",
      "Max. pixel value: 1.0\n",
      "Min. pixel value: 0.0\n"
     ]
    },
    {
     "data": {
      "image/png": "[encoded data removed]",
      "text/plain": [
       "<Figure size 576x432 with 1 Axes>"
      ]
     },
     "metadata": {},
     "output_type": "display_data"
    }
   ],
   "source": [
    "image = plt.imread('img/tomas_beuzen.png')[:,:,0]\n",
    "plt.imshow(image, cmap='gray')\n",
    "print(f\"Image shape: {image.shape}\")\n",
    "print(f\"Max. pixel value: {image.max()}\")\n",
    "print(f\"Min. pixel value: {image.min()}\")"
   ]
  },
  {
   "cell_type": "markdown",
   "metadata": {},
   "source": [
    "Notice that `image` is just a numpy array of size `(400, 400)`, with values ranging from -1 to 1.\n",
    "\n",
    "Your task is to **rotate and flip the image** so that it looks like this:\n",
    "\n",
    "![](img/tomas_beuzen_flipped.png)\n",
    "\n",
    "Hints:\n",
    "- Plot the image using `plt.imshow(<ndarray>, cmap='gray')`, as I've done above.\n",
    "- Do not overwrite the `image` variable, we will use it in the next few questions.\n",
    "- NumPy has helpful functions for \"flipping\" arrays! In Jupyter, you can try typing `np.flip` and then press tab to see what the auto-complete reveals..."
   ]
  },
  {
   "cell_type": "code",
   "execution_count": 11,
   "metadata": {},
   "outputs": [],
   "source": [
    "# Your answer goes here."
   ]
  },
  {
   "cell_type": "markdown",
   "metadata": {},
   "source": [
    "### 3.2\n",
    "rubric={accuracy:2}"
   ]
  },
  {
   "cell_type": "markdown",
   "metadata": {},
   "source": [
    "I want to prepare this image to post on Instagram and I think a 20 pixel black border will really make my eyes pop. Add a 20 pixel wide border of black pixels to my image so that it looks like this:\n",
    "\n",
    "![](img/tomas_beuzen_border.png)\n",
    "\n",
    "Hints:\n",
    "- The image including the border should remain 400 x 400 pixels (i.e., you are adding the border within the image), **do not** add it to the outside and make the image 440 x 440 pixels.\n",
    "- Black pixels have a value of `0` (i.e., they have 0 brightness).\n",
    "- There are many ways to solve this question so do it however you like, but `np.pad()` might be helpful..."
   ]
  },
  {
   "cell_type": "code",
   "execution_count": 12,
   "metadata": {},
   "outputs": [],
   "source": [
    "# Your answer goes here."
   ]
  },
  {
   "cell_type": "markdown",
   "metadata": {},
   "source": [
    "### (OPTIONAL) 3.3\n",
    "rubric={accuracy:1}"
   ]
  },
  {
   "cell_type": "markdown",
   "metadata": {},
   "source": [
    "In DSCI 572 you'll learn about [Convolutional Neural Networks](https://en.wikipedia.org/wiki/Convolutional_neural_network) (CNN), which are often used when working with image data, e.g., to build image classification models. A common operation in a CNN architecture is [pooling](https://cs231n.github.io/convolutional-networks/#pool), in which you reduce the size of an image by looking at a small window of pixels, say a 4 x 4 window of pixels, and representing that window using e.g., the max/min/mean value of the pixels in the window. Below is an example of mean pooling, transforming a 6 x 6 image into a 3 x 3 image by taking the mean of 2 x 2 pixel windows:\n",
    "\n",
    "![](https://stanford.edu/~shervine/teaching/cs-230/illustrations/average-pooling-a.png?58f9ab6d61248c3ec8d526ef65763d2f)\n",
    "\n",
    "Source: [stanford.edu](https://stanford.edu/~shervine/teaching/cs-230/cheatsheet-convolutional-neural-networks)\n",
    "\n",
    "You'll learn more about CNN architecure and operations in DSCI 572, but for some foreshadowing, let's implement pooling in NumPy here. We can do it by reshaping our image into `n x n` windows and then calculating the `.max()` of each window. Your task here is to implement **mean** pooling on the image of me using a `10 x 10` window, the result will look like this:\n",
    "\n",
    "![](img/tomas_beuzen_mean_pool.png)\n",
    "\n",
    "Hint:\n",
    "- There are plenty of ways you could solve this question but I started by reshaping both axes of the image into shape `(40, 10)`, to end up with a 4D array of shape `(40, 10, 40, 10)`.\n",
    "- Then apply `.mean()` to the reshaped data on both the axes of size 10 (you can specify multiple axes to operate on simultaneously by passing a tuple to the `axis=` argument of `.mean()`)\n",
    "- See [here](https://stackoverflow.com/a/42463514) for more help.\n",
    "- Play around with you code to get a feel for what pooling does. What happens if you increase/decrease the pooling window size? Also feel free to try using `.min()` or `.max()` for a more \"horror-movie\" effect, for example: \n",
    "\n",
    "![](img/tomas_beuzen_min_pool.png)"
   ]
  },
  {
   "cell_type": "code",
   "execution_count": 13,
   "metadata": {},
   "outputs": [],
   "source": [
    "# Your answer goes here."
   ]
  },
  {
   "cell_type": "markdown",
   "metadata": {},
   "source": [
    "### (OPTIONAL) 3.4\n",
    "rubric={accuracy:1}"
   ]
  },
  {
   "cell_type": "markdown",
   "metadata": {},
   "source": [
    "As the name suggests, another common operation in CNNs is convolution. A convolutional layer applies so called \"filters\" to an image. This is kind of like the pooling we saw in the previous question, but instead of representing a window of pixels by some summary statistic, a filter is a window of \"weights\", which is passed over an image and used to create \"new pixels\" by multiplying the original pixels by weights and summing them all together. The idea in CNN's is that these filters can be used to extract useful information from the data; for example, they might highlight the edges in an image, or colour boundaries, which could help a machine learning model classify what that image contains.  \n",
    "\n",
    "In the example below, a 3 x 3 filter with weights of 0's, 1's, 2's and 3's is being passed over an image. [Here is a fun interactive exploration](https://setosa.io/ev/image-kernels/) of convolutional filters if you want to learn more, but you'll learn about CNN's in DSCI 572 so don't worry too much about them here.\n",
    "\n",
    "![](http://deeplearning.net/software/theano/_images/numerical_no_padding_no_strides.gif)\n",
    "\n",
    "Source: [deeplearning.net](http://deeplearning.net/software/theano/tutorial/conv_arithmetic.html#refresher-discrete-convolutions)\n",
    "\n",
    "Your task here is to implement a convolutional layer in NumPy. Apply the filter `f` I've defined in the code below to my image. The result will look like this:\n",
    "\n",
    "![](img/tomas_beuzen_emboss.png)\n",
    "\n",
    "You should pad the image with 0's so that you can apply the filter to the edges and corners, like this:\n",
    "\n",
    "![](http://deeplearning.net/software/theano/_images/numerical_padding_strides.gif)\n",
    "\n",
    "Source: [deeplearning.net](http://deeplearning.net/software/theano/tutorial/conv_arithmetic.html#refresher-discrete-convolutions)\n",
    "\n",
    "There are many ways to solve this problem, but my solution involved leverage strides, here's a hint to get you started: https://jessicastringham.net/2017/12/31/stride-tricks/, and see [here](https://stackoverflow.com/questions/53097952/how-to-understand-numpy-strides-for-layman) for more information in \"strides\" in NumPy."
   ]
  },
  {
   "cell_type": "code",
   "execution_count": 14,
   "metadata": {},
   "outputs": [],
   "source": [
    "f = np.array([[-2, -1, 0],\n",
    "              [-1, 1, 1],\n",
    "              [0, 1, 2]])  # filter to apply\n",
    "# Your answer goes here."
   ]
  },
  {
   "cell_type": "markdown",
   "metadata": {
    "nbgrader": {
     "grade": false,
     "grade_id": "cell-cbb88b5728dbc768",
     "locked": true,
     "schema_version": 3,
     "solution": false,
     "task": false
    }
   },
   "source": [
    "## Exercise 4: Reading Data with Pandas \n",
    "<hr>\n",
    "\n",
    "rubric={autograde:5}"
   ]
  },
  {
   "cell_type": "markdown",
   "metadata": {},
   "source": [
    "Reading data from external sources will be one of the most common things you do in Pandas, so it's good to get some practice doing this. We will use Pandas to read in variants of the Palmer penguins data set that you've already seen in DSCI 523. In this data set there are measures on the three species of penguins shown in this illustration below. You can learn more about the penguins and this data set [here](https://allisonhorst.github.io/palmerpenguins/).\n",
    "\n",
    "![](img/penguins.png)\n",
    "\n",
    "Source: [allisonhorst.github.io](https://github.com/allisonhorst/palmerpenguins/blob/master/man/figures/lter_penguins.png?raw=true)\n",
    "\n",
    "In the data directory of this repository there are 5 different versions of the same data set in different file formats. Your task is to read each of these into a Pandas dataframe. A test has been provided to make sure you've correctly read each file in.\n",
    "\n",
    "Hint: you can compare which rows of two dataframes are not equal using something like `penguins_csv[~penguins_csv.eq(penguins_tsv).any(axis=1)]`."
   ]
  },
  {
   "cell_type": "code",
   "execution_count": 15,
   "metadata": {},
   "outputs": [],
   "source": [
    "# read in file named penguins.csv\n",
    "penguins_csv = None\n",
    "# read in file named penguins.tsv\n",
    "penguins_tsv = None\n",
    "# read in file named penguins-meta-data.csv\n",
    "penguins_meta_data = None\n",
    "# read in file named penguins2.csv\n",
    "penguins2 = None\n",
    "# read in file named penguins.xlsx\n",
    "penguins_excel = None\n",
    "# Your answer goes here."
   ]
  },
  {
   "cell_type": "markdown",
   "metadata": {
    "nbgrader": {
     "grade": false,
     "grade_id": "cell-cbb88b5728dbc768",
     "locked": true,
     "schema_version": 3,
     "solution": false,
     "task": false
    }
   },
   "source": [
    "## Exercise 5: Treasure Hunt with Pandas\n",
    "<hr>\n",
    "\n",
    ">**I will demonstrate solutions to some of these exercises in lab class and post the video to [Canvas](https://canvas.ubc.ca/courses/53659/external_tools/187).**"
   ]
  },
  {
   "cell_type": "markdown",
   "metadata": {},
   "source": [
    "Learning how to index with Pandas is kind of like having to eat your vegetables: it's not the funnest thing, but you need to know it! In this exercise, I'll provide you with clues that you need to use to index a dataframe and find the \"Treasure\". For example, if the clue is \"The first ten rows\" then you might try:\n",
    "\n",
    "```python\n",
    "df.iloc[:10]\n",
    "'TREASURE'\n",
    "```\n",
    "\n",
    "The above is just an example, but the result of your indexing should always be the string `'TREASURE'`."
   ]
  },
  {
   "cell_type": "markdown",
   "metadata": {},
   "source": [
    "### 5.1\n",
    "rubric={autograde:1}"
   ]
  },
  {
   "cell_type": "markdown",
   "metadata": {},
   "source": [
    "Load in the file `treasure_hunt.csv` as a dataframe called `treasure_df`. Read in the first column as the dataframe index column and the first row as the dataframe columns."
   ]
  },
  {
   "cell_type": "code",
   "execution_count": 16,
   "metadata": {},
   "outputs": [],
   "source": [
    "treasure_df = None\n",
    "# Your answer goes here."
   ]
  },
  {
   "cell_type": "markdown",
   "metadata": {},
   "source": [
    "### 5.2\n",
    "rubric={autograde:1}"
   ]
  },
  {
   "cell_type": "markdown",
   "metadata": {},
   "source": [
    "**CLUE:** C20, R1"
   ]
  },
  {
   "cell_type": "code",
   "execution_count": 17,
   "metadata": {},
   "outputs": [],
   "source": [
    "ex5_2 = None\n",
    "# Your answer goes here."
   ]
  },
  {
   "cell_type": "markdown",
   "metadata": {},
   "source": [
    "### 5.3\n",
    "rubric={autograde:1}"
   ]
  },
  {
   "cell_type": "markdown",
   "metadata": {},
   "source": [
    "**CLUE:** thirteenth column, thirteenth row (*hint*: recall that indexing starts at 0!)"
   ]
  },
  {
   "cell_type": "code",
   "execution_count": 18,
   "metadata": {},
   "outputs": [],
   "source": [
    "ex5_3 = None\n",
    "# Your answer goes here."
   ]
  },
  {
   "cell_type": "markdown",
   "metadata": {},
   "source": [
    "### 5.4\n",
    "rubric={autograde:1}"
   ]
  },
  {
   "cell_type": "markdown",
   "metadata": {},
   "source": [
    "**CLUE:** R28, tenth column"
   ]
  },
  {
   "cell_type": "code",
   "execution_count": 19,
   "metadata": {},
   "outputs": [],
   "source": [
    "ex5_4 = None\n",
    "# Your answer goes here."
   ]
  },
  {
   "cell_type": "markdown",
   "metadata": {},
   "source": [
    "### 5.5\n",
    "rubric={autograde:1}"
   ]
  },
  {
   "cell_type": "markdown",
   "metadata": {},
   "source": [
    "**CLUE:** C26, R19 to R26\n",
    "\n",
    "**HINT:** You might need to do a bit of extra wrangling to get a result of \"TREASURE\" here..."
   ]
  },
  {
   "cell_type": "code",
   "execution_count": 20,
   "metadata": {},
   "outputs": [],
   "source": [
    "ex5_5 = None\n",
    "# Your answer goes here."
   ]
  },
  {
   "cell_type": "markdown",
   "metadata": {},
   "source": [
    "### 5.6\n",
    "rubric={autograde:1}"
   ]
  },
  {
   "cell_type": "markdown",
   "metadata": {},
   "source": [
    "**CLUE:** The first rows of C29 *plus* the first row of C30"
   ]
  },
  {
   "cell_type": "code",
   "execution_count": 21,
   "metadata": {},
   "outputs": [],
   "source": [
    "ex5_6 = None\n",
    "# Your answer goes here."
   ]
  },
  {
   "cell_type": "markdown",
   "metadata": {},
   "source": [
    "### 5.7\n",
    "rubric={autograde:1}"
   ]
  },
  {
   "cell_type": "markdown",
   "metadata": {},
   "source": [
    "**CLUE:** The first row of all columns that **do not** have a \"Z\" in the last row.\n",
    "\n",
    "**HINT:** You might need to do a bit of extra wrangling to get a result of \"TREASURE\" here..."
   ]
  },
  {
   "cell_type": "code",
   "execution_count": 22,
   "metadata": {},
   "outputs": [],
   "source": [
    "ex5_7 = None\n",
    "# Your answer goes here."
   ]
  },
  {
   "cell_type": "markdown",
   "metadata": {},
   "source": [
    "### 5.8\n",
    "rubric={autograde:1}"
   ]
  },
  {
   "cell_type": "markdown",
   "metadata": {},
   "source": [
    "**CLUE:** C1 for C1 < C2 (remember, in Python, comparison operators work on string too, e.g., `\"a\" < \"b\" = True` because `a` occurs before `b` alphabetically. Also, don't forget about `.query()`!)\n",
    "\n",
    "**HINT:** You might need to do a bit of extra wrangling to get a result of \"TREASURE\" here..."
   ]
  },
  {
   "cell_type": "code",
   "execution_count": 23,
   "metadata": {},
   "outputs": [],
   "source": [
    "ex5_8 = None\n",
    "# Your answer goes here."
   ]
  },
  {
   "cell_type": "markdown",
   "metadata": {
    "nbgrader": {
     "grade": false,
     "grade_id": "cell-cbb88b5728dbc768",
     "locked": true,
     "schema_version": 3,
     "solution": false,
     "task": false
    }
   },
   "source": [
    "## Exercise 6: Mind the Gap\n",
    "<hr>"
   ]
  },
  {
   "cell_type": "markdown",
   "metadata": {},
   "source": [
    "In this exercise, we'll practice some basic Pandas operations on the [Gapminder dataset](https://www.gapminder.org/about-gapminder/) which you are already familiar with from your DSCI 523 labs. Gapminder is an educational foundation that aims to use data to unbiasedly describe trends in health and socioeconomics; it is a great source of geographical, socioeconomic, and health data - a subset of which we'll be exploring here. In particular, we'll be exploring a dataframe of the following features in this exercise:\n",
    "\n",
    "|     | country     | continent | year | lifeExp | pop      | gdpPercap  |\n",
    "|:---:|:-----------:|:---------:|:----:|:-------:|:--------:|:----------:|\n",
    "|  0  | Afghanistan | Asia      | 1952 | 28.801  | 8425333  | 779.445314 |\n",
    "|  1  | Afghanistan | Asia      | 1957 | 30.332  | 9240934  | 820.853030 |\n",
    "|  2  | Afghanistan | Asia      | 1962 | 31.997  | 10267083 | 853.100710 |\n",
    "|  3  | Afghanistan | Asia      | 1967 | 34.020  | 11537966 | 836.197138 |\n",
    "|  4  | Afghanistan | Asia      | 1972 | 36.088  | 13079460 | 739.981106 |\n",
    "| ... |     ...     |    ...    | ...  |   ...   |   ...    |    ...     |"
   ]
  },
  {
   "cell_type": "markdown",
   "metadata": {},
   "source": [
    "### 6.1\n",
    "rubric={accuracy:1}"
   ]
  },
  {
   "cell_type": "markdown",
   "metadata": {},
   "source": [
    "Read the gapminder dataset into a dataframe called `df` from this url: <https://raw.githubusercontent.com/jstaf/gapminder/master/gapminder/gapminder.csv>"
   ]
  },
  {
   "cell_type": "code",
   "execution_count": 24,
   "metadata": {},
   "outputs": [],
   "source": [
    "# Your answer goes here."
   ]
  },
  {
   "cell_type": "markdown",
   "metadata": {},
   "source": [
    "### 6.2\n",
    "rubric={accuracy:1}"
   ]
  },
  {
   "cell_type": "markdown",
   "metadata": {},
   "source": [
    "Which continent has the most observations in the gapminder dataset? You can leave your answer as the output of a dataframe operation (*hint*: `.value_counts()`)."
   ]
  },
  {
   "cell_type": "code",
   "execution_count": 25,
   "metadata": {},
   "outputs": [],
   "source": [
    "# Your answer goes here."
   ]
  },
  {
   "cell_type": "markdown",
   "metadata": {},
   "source": [
    "### 6.3\n",
    "rubric={accuracy:2}"
   ]
  },
  {
   "cell_type": "markdown",
   "metadata": {},
   "source": [
    "What are the minimum and maximum life expectancies in the dataset, and what are the corresponding countries and the years? (*hint*: `.argmin()`/`.argmax()`)"
   ]
  },
  {
   "cell_type": "code",
   "execution_count": 26,
   "metadata": {},
   "outputs": [],
   "source": [
    "# Your answer goes here."
   ]
  },
  {
   "cell_type": "markdown",
   "metadata": {},
   "source": [
    "### 6.4\n",
    "rubric={accuracy:2}"
   ]
  },
  {
   "cell_type": "markdown",
   "metadata": {},
   "source": [
    "How much larger is the total population in this dataset in 2007 compared to 1952? You can give you answer as a float, e.g., \"the population is 1.8 times larger in 2007 than in 1952.\" (*hint*: I would use `.query()` to subset the dataframe for 1952 and then calculate the `.sum()` of the population, then repeat for 2007)."
   ]
  },
  {
   "cell_type": "code",
   "execution_count": 27,
   "metadata": {},
   "outputs": [],
   "source": [
    "# Your answer goes here."
   ]
  },
  {
   "cell_type": "markdown",
   "metadata": {},
   "source": [
    "### 6.5\n",
    "rubric={accuracy:2}"
   ]
  },
  {
   "cell_type": "markdown",
   "metadata": {},
   "source": [
    "What is the mean life expectancy of countries with the highest 50% of `gdpPercap` and countries with the lowest 50% of `gdpPercap`? (*hint*: try combining `.query()` and `.median()`)"
   ]
  },
  {
   "cell_type": "code",
   "execution_count": 28,
   "metadata": {},
   "outputs": [],
   "source": [
    "# Your answer goes here."
   ]
  },
  {
   "cell_type": "markdown",
   "metadata": {},
   "source": [
    "![](img/super.png)"
   ]
  }
 ],
 "metadata": {
  "celltoolbar": "Create Assignment",
  "kernelspec": {
   "display_name": "Python 3",
   "language": "python",
   "name": "python3"
  },
  "language_info": {
   "codemirror_mode": {
    "name": "ipython",
    "version": 3
   },
   "file_extension": ".py",
   "mimetype": "text/x-python",
   "name": "python",
   "nbconvert_exporter": "python",
   "pygments_lexer": "ipython3",
   "version": "3.7.8"
  },
  "toc": {
   "base_numbering": 1,
   "nav_menu": {},
   "number_sections": false,
   "sideBar": true,
   "skip_h1_title": true,
   "title_cell": "Table of Contents",
   "title_sidebar": "Contents",
   "toc_cell": true,
   "toc_position": {},
   "toc_section_display": true,
   "toc_window_display": true
  },
  "toc-autonumbering": false,
  "toc-showcode": false,
  "toc-showmarkdowntxt": false,
  "toc-showtags": false
 },
 "nbformat": 4,
 "nbformat_minor": 4
}
