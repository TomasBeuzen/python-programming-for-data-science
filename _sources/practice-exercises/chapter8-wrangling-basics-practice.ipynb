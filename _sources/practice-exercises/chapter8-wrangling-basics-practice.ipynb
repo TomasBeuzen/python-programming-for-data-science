{
 "cells": [
  {
   "cell_type": "markdown",
   "metadata": {},
   "source": [
    "![](../docs/banner.png)"
   ]
  },
  {
   "cell_type": "markdown",
   "metadata": {},
   "source": [
    "# Basic Wrangling With Pandas\n",
    "\n",
    "**Tomas Beuzen, September 2020**"
   ]
  },
  {
   "cell_type": "markdown",
   "metadata": {},
   "source": [
    "These exercises complement [Chapter 8](../chapters/chapter8-wrangling-basics.ipynb)."
   ]
  },
  {
   "cell_type": "markdown",
   "metadata": {},
   "source": [
    "## Exercises"
   ]
  },
  {
   "cell_type": "markdown",
   "metadata": {},
   "source": [
    "### 1."
   ]
  },
  {
   "cell_type": "markdown",
   "metadata": {},
   "source": [
    "In this set of practice exercises we'll be again looking at the dataset of consumption and carbon footprints of different foods that we looked at in the last set of practice exercises, which was compiled by [Kasia Kulma](https://r-tastic.co.uk/post/from-messy-to-tidy/) and contributed to [R's Tidy Tuesday project](https://github.com/rfordatascience/tidytuesday).\n",
    "\n",
    "Let's start by importing pandas with the alias `pd`."
   ]
  },
  {
   "cell_type": "code",
   "execution_count": 1,
   "metadata": {},
   "outputs": [],
   "source": [
    "# Your answer here."
   ]
  },
  {
   "cell_type": "markdown",
   "metadata": {},
   "source": [
    "### 2."
   ]
  },
  {
   "cell_type": "markdown",
   "metadata": {},
   "source": [
    "As a reminder, the dataset has the following columns:\n",
    "\n",
    "|column      |description |\n",
    "|:-------------|:-----------|\n",
    "|country       | Country Name |\n",
    "|food_category | Food Category |\n",
    "|consumption   | Consumption (kg/person/year) |\n",
    "|co2_emmission | Co2 Emission (Kg CO2/person/year) |\n",
    "\n",
    "\n",
    "Import the dataset as a dataframe named `df` from this url: <https://raw.githubusercontent.com/rfordatascience/tidytuesday/master/data/2020/2020-02-18/food_consumption.csv>"
   ]
  },
  {
   "cell_type": "code",
   "execution_count": 2,
   "metadata": {},
   "outputs": [],
   "source": [
    "# Your answer here."
   ]
  },
  {
   "cell_type": "markdown",
   "metadata": {},
   "source": [
    "### 3."
   ]
  },
  {
   "cell_type": "markdown",
   "metadata": {},
   "source": [
    "What country consumes the most food per person per year (across all food categories)?"
   ]
  },
  {
   "cell_type": "code",
   "execution_count": 3,
   "metadata": {},
   "outputs": [],
   "source": [
    "# Your answer here."
   ]
  },
  {
   "cell_type": "markdown",
   "metadata": {},
   "source": [
    "### 4."
   ]
  },
  {
   "cell_type": "markdown",
   "metadata": {},
   "source": [
    "Which food category is the biggest contributor to the above country's consumption total?"
   ]
  },
  {
   "cell_type": "code",
   "execution_count": 4,
   "metadata": {},
   "outputs": [],
   "source": [
    "# Your answer here."
   ]
  },
  {
   "cell_type": "markdown",
   "metadata": {},
   "source": [
    "### 5."
   ]
  },
  {
   "cell_type": "markdown",
   "metadata": {},
   "source": [
    "What country produces the most kg C02 per person per year?"
   ]
  },
  {
   "cell_type": "code",
   "execution_count": 5,
   "metadata": {},
   "outputs": [],
   "source": [
    "# Your answer here."
   ]
  },
  {
   "cell_type": "markdown",
   "metadata": {},
   "source": [
    "### 6."
   ]
  },
  {
   "cell_type": "markdown",
   "metadata": {},
   "source": [
    "Which food category is the biggest contributor to the above country's C02 emissions?"
   ]
  },
  {
   "cell_type": "code",
   "execution_count": 6,
   "metadata": {},
   "outputs": [],
   "source": [
    "# Your answer here."
   ]
  },
  {
   "cell_type": "markdown",
   "metadata": {},
   "source": [
    "### 7."
   ]
  },
  {
   "cell_type": "markdown",
   "metadata": {},
   "source": [
    "What food category produces the most C02 per person per year across all countries?"
   ]
  },
  {
   "cell_type": "code",
   "execution_count": 7,
   "metadata": {},
   "outputs": [],
   "source": [
    "# Your answer here."
   ]
  },
  {
   "cell_type": "markdown",
   "metadata": {},
   "source": [
    "### 8."
   ]
  },
  {
   "cell_type": "markdown",
   "metadata": {},
   "source": [
    "What food category is consumed the most across all countries per person per year? What food category is consumed the least across all countries?"
   ]
  },
  {
   "cell_type": "code",
   "execution_count": 8,
   "metadata": {},
   "outputs": [],
   "source": [
    "# Your answer here."
   ]
  },
  {
   "cell_type": "markdown",
   "metadata": {},
   "source": [
    "### 9."
   ]
  },
  {
   "cell_type": "markdown",
   "metadata": {},
   "source": [
    "Make the dataset wide by pivoting on the `food_category` column. You'll end up with a \"multi-index\" dataframe, with multiple levels of columns."
   ]
  },
  {
   "cell_type": "code",
   "execution_count": 9,
   "metadata": {},
   "outputs": [],
   "source": [
    "# Your answer here."
   ]
  },
  {
   "cell_type": "markdown",
   "metadata": {},
   "source": [
    "### 10."
   ]
  },
  {
   "cell_type": "markdown",
   "metadata": {},
   "source": [
    "Now that the dataset is wide, I want you to answer the same question from Question 5 above: \"What country produces the most kg C02 per person per year?\". Specifically, I want you to notice that the way we answer the same data analysis question changes depending on the format of the data (wide vs long). You can form your own opinion on which option you prefer - I prefer long data (and remember that many visualization libraries work best with long data too - more on that in DSCI 531). *Hint*: you can index the outer layer of a multi-index column using the same syntax we've seen previously: `df['co2_emmission']`, if you wanted to access an inner index, you'd have to use a tuple: `df[(\"consumption\", \"Beef\")]`. Read more on multi-indexes (also called \"hierarchical indexes\") in [Chapter 9](../chapters/chapter9-wrangling-advanced.ipynb)."
   ]
  },
  {
   "cell_type": "code",
   "execution_count": 10,
   "metadata": {},
   "outputs": [],
   "source": [
    "# Your answer here."
   ]
  },
  {
   "cell_type": "markdown",
   "metadata": {},
   "source": [
    "<hr>\n",
    "<hr>\n",
    "<hr>"
   ]
  },
  {
   "cell_type": "markdown",
   "metadata": {},
   "source": [
    "## Solutions"
   ]
  },
  {
   "cell_type": "markdown",
   "metadata": {},
   "source": [
    "### 1."
   ]
  },
  {
   "cell_type": "markdown",
   "metadata": {},
   "source": [
    "In this set of practice exercises we'll be again looking at the dataset of consumption and carbon footprints of different foods that we looked at in the last set of practice exercises, which was compiled by [Kasia Kulma](https://r-tastic.co.uk/post/from-messy-to-tidy/) and contributed to [R's Tidy Tuesday project](https://github.com/rfordatascience/tidytuesday).\n",
    "\n",
    "Let's start by importing pandas with the alias `pd`."
   ]
  },
  {
   "cell_type": "code",
   "execution_count": 11,
   "metadata": {},
   "outputs": [],
   "source": [
    "import pandas as pd"
   ]
  },
  {
   "cell_type": "markdown",
   "metadata": {},
   "source": [
    "### 2."
   ]
  },
  {
   "cell_type": "markdown",
   "metadata": {},
   "source": [
    "As a reminder, the dataset has the following columns:\n",
    "\n",
    "|column      |description |\n",
    "|:-------------|:-----------|\n",
    "|country       | Country Name |\n",
    "|food_category | Food Category |\n",
    "|consumption   | Consumption (kg/person/year) |\n",
    "|co2_emmission | Co2 Emission (Kg CO2/person/year) |\n",
    "\n",
    "\n",
    "Import the dataset as a dataframe named `df` from this url: <https://raw.githubusercontent.com/rfordatascience/tidytuesday/master/data/2020/2020-02-18/food_consumption.csv>"
   ]
  },
  {
   "cell_type": "code",
   "execution_count": 12,
   "metadata": {},
   "outputs": [
    {
     "data": {
      "text/html": [
       "<div>\n",
       "<style scoped>\n",
       "    .dataframe tbody tr th:only-of-type {\n",
       "        vertical-align: middle;\n",
       "    }\n",
       "\n",
       "    .dataframe tbody tr th {\n",
       "        vertical-align: top;\n",
       "    }\n",
       "\n",
       "    .dataframe thead th {\n",
       "        text-align: right;\n",
       "    }\n",
       "</style>\n",
       "<table border=\"1\" class=\"dataframe\">\n",
       "  <thead>\n",
       "    <tr style=\"text-align: right;\">\n",
       "      <th></th>\n",
       "      <th>country</th>\n",
       "      <th>food_category</th>\n",
       "      <th>consumption</th>\n",
       "      <th>co2_emmission</th>\n",
       "    </tr>\n",
       "  </thead>\n",
       "  <tbody>\n",
       "    <tr>\n",
       "      <th>0</th>\n",
       "      <td>Argentina</td>\n",
       "      <td>Pork</td>\n",
       "      <td>10.51</td>\n",
       "      <td>37.20</td>\n",
       "    </tr>\n",
       "    <tr>\n",
       "      <th>1</th>\n",
       "      <td>Argentina</td>\n",
       "      <td>Poultry</td>\n",
       "      <td>38.66</td>\n",
       "      <td>41.53</td>\n",
       "    </tr>\n",
       "    <tr>\n",
       "      <th>2</th>\n",
       "      <td>Argentina</td>\n",
       "      <td>Beef</td>\n",
       "      <td>55.48</td>\n",
       "      <td>1712.00</td>\n",
       "    </tr>\n",
       "    <tr>\n",
       "      <th>3</th>\n",
       "      <td>Argentina</td>\n",
       "      <td>Lamb &amp; Goat</td>\n",
       "      <td>1.56</td>\n",
       "      <td>54.63</td>\n",
       "    </tr>\n",
       "    <tr>\n",
       "      <th>4</th>\n",
       "      <td>Argentina</td>\n",
       "      <td>Fish</td>\n",
       "      <td>4.36</td>\n",
       "      <td>6.96</td>\n",
       "    </tr>\n",
       "    <tr>\n",
       "      <th>...</th>\n",
       "      <td>...</td>\n",
       "      <td>...</td>\n",
       "      <td>...</td>\n",
       "      <td>...</td>\n",
       "    </tr>\n",
       "    <tr>\n",
       "      <th>1425</th>\n",
       "      <td>Bangladesh</td>\n",
       "      <td>Milk - inc. cheese</td>\n",
       "      <td>21.91</td>\n",
       "      <td>31.21</td>\n",
       "    </tr>\n",
       "    <tr>\n",
       "      <th>1426</th>\n",
       "      <td>Bangladesh</td>\n",
       "      <td>Wheat and Wheat Products</td>\n",
       "      <td>17.47</td>\n",
       "      <td>3.33</td>\n",
       "    </tr>\n",
       "    <tr>\n",
       "      <th>1427</th>\n",
       "      <td>Bangladesh</td>\n",
       "      <td>Rice</td>\n",
       "      <td>171.73</td>\n",
       "      <td>219.76</td>\n",
       "    </tr>\n",
       "    <tr>\n",
       "      <th>1428</th>\n",
       "      <td>Bangladesh</td>\n",
       "      <td>Soybeans</td>\n",
       "      <td>0.61</td>\n",
       "      <td>0.27</td>\n",
       "    </tr>\n",
       "    <tr>\n",
       "      <th>1429</th>\n",
       "      <td>Bangladesh</td>\n",
       "      <td>Nuts inc. Peanut Butter</td>\n",
       "      <td>0.72</td>\n",
       "      <td>1.27</td>\n",
       "    </tr>\n",
       "  </tbody>\n",
       "</table>\n",
       "<p>1430 rows × 4 columns</p>\n",
       "</div>"
      ],
      "text/plain": [
       "         country             food_category  consumption  co2_emmission\n",
       "0      Argentina                      Pork        10.51          37.20\n",
       "1      Argentina                   Poultry        38.66          41.53\n",
       "2      Argentina                      Beef        55.48        1712.00\n",
       "3      Argentina               Lamb & Goat         1.56          54.63\n",
       "4      Argentina                      Fish         4.36           6.96\n",
       "...          ...                       ...          ...            ...\n",
       "1425  Bangladesh        Milk - inc. cheese        21.91          31.21\n",
       "1426  Bangladesh  Wheat and Wheat Products        17.47           3.33\n",
       "1427  Bangladesh                      Rice       171.73         219.76\n",
       "1428  Bangladesh                  Soybeans         0.61           0.27\n",
       "1429  Bangladesh   Nuts inc. Peanut Butter         0.72           1.27\n",
       "\n",
       "[1430 rows x 4 columns]"
      ]
     },
     "execution_count": 12,
     "metadata": {},
     "output_type": "execute_result"
    }
   ],
   "source": [
    "url = \"https://raw.githubusercontent.com/rfordatascience/tidytuesday/master/data/2020/2020-02-18/food_consumption.csv\"\n",
    "df = pd.read_csv(url)\n",
    "df"
   ]
  },
  {
   "cell_type": "markdown",
   "metadata": {},
   "source": [
    "### 3."
   ]
  },
  {
   "cell_type": "markdown",
   "metadata": {},
   "source": [
    "What country consumes the most food per person per year (across all food categories)?"
   ]
  },
  {
   "cell_type": "code",
   "execution_count": 13,
   "metadata": {},
   "outputs": [
    {
     "data": {
      "text/html": [
       "<div>\n",
       "<style scoped>\n",
       "    .dataframe tbody tr th:only-of-type {\n",
       "        vertical-align: middle;\n",
       "    }\n",
       "\n",
       "    .dataframe tbody tr th {\n",
       "        vertical-align: top;\n",
       "    }\n",
       "\n",
       "    .dataframe thead th {\n",
       "        text-align: right;\n",
       "    }\n",
       "</style>\n",
       "<table border=\"1\" class=\"dataframe\">\n",
       "  <thead>\n",
       "    <tr style=\"text-align: right;\">\n",
       "      <th></th>\n",
       "      <th>consumption</th>\n",
       "      <th>co2_emmission</th>\n",
       "    </tr>\n",
       "    <tr>\n",
       "      <th>country</th>\n",
       "      <th></th>\n",
       "      <th></th>\n",
       "    </tr>\n",
       "  </thead>\n",
       "  <tbody>\n",
       "    <tr>\n",
       "      <th>Finland</th>\n",
       "      <td>639.79</td>\n",
       "      <td>1464.63</td>\n",
       "    </tr>\n",
       "  </tbody>\n",
       "</table>\n",
       "</div>"
      ],
      "text/plain": [
       "         consumption  co2_emmission\n",
       "country                            \n",
       "Finland       639.79        1464.63"
      ]
     },
     "execution_count": 13,
     "metadata": {},
     "output_type": "execute_result"
    }
   ],
   "source": [
    "df.groupby(\"country\").sum().sort_values(by=\"consumption\").tail(1)"
   ]
  },
  {
   "cell_type": "markdown",
   "metadata": {},
   "source": [
    "### 4."
   ]
  },
  {
   "cell_type": "markdown",
   "metadata": {},
   "source": [
    "Which food category is the biggest contributor to the above country's consumption total?"
   ]
  },
  {
   "cell_type": "code",
   "execution_count": 14,
   "metadata": {},
   "outputs": [
    {
     "data": {
      "text/html": [
       "<div>\n",
       "<style scoped>\n",
       "    .dataframe tbody tr th:only-of-type {\n",
       "        vertical-align: middle;\n",
       "    }\n",
       "\n",
       "    .dataframe tbody tr th {\n",
       "        vertical-align: top;\n",
       "    }\n",
       "\n",
       "    .dataframe thead th {\n",
       "        text-align: right;\n",
       "    }\n",
       "</style>\n",
       "<table border=\"1\" class=\"dataframe\">\n",
       "  <thead>\n",
       "    <tr style=\"text-align: right;\">\n",
       "      <th></th>\n",
       "      <th>country</th>\n",
       "      <th>food_category</th>\n",
       "      <th>consumption</th>\n",
       "      <th>co2_emmission</th>\n",
       "    </tr>\n",
       "  </thead>\n",
       "  <tbody>\n",
       "    <tr>\n",
       "      <th>149</th>\n",
       "      <td>Finland</td>\n",
       "      <td>Milk - inc. cheese</td>\n",
       "      <td>430.76</td>\n",
       "      <td>613.57</td>\n",
       "    </tr>\n",
       "  </tbody>\n",
       "</table>\n",
       "</div>"
      ],
      "text/plain": [
       "     country       food_category  consumption  co2_emmission\n",
       "149  Finland  Milk - inc. cheese       430.76         613.57"
      ]
     },
     "execution_count": 14,
     "metadata": {},
     "output_type": "execute_result"
    }
   ],
   "source": [
    "df.query(\"country == 'Finland'\").sort_values(by=\"consumption\").tail(1)"
   ]
  },
  {
   "cell_type": "markdown",
   "metadata": {},
   "source": [
    "### 5."
   ]
  },
  {
   "cell_type": "markdown",
   "metadata": {},
   "source": [
    "What country produces the most kg C02 per person per year?"
   ]
  },
  {
   "cell_type": "code",
   "execution_count": 15,
   "metadata": {},
   "outputs": [
    {
     "data": {
      "text/html": [
       "<div>\n",
       "<style scoped>\n",
       "    .dataframe tbody tr th:only-of-type {\n",
       "        vertical-align: middle;\n",
       "    }\n",
       "\n",
       "    .dataframe tbody tr th {\n",
       "        vertical-align: top;\n",
       "    }\n",
       "\n",
       "    .dataframe thead th {\n",
       "        text-align: right;\n",
       "    }\n",
       "</style>\n",
       "<table border=\"1\" class=\"dataframe\">\n",
       "  <thead>\n",
       "    <tr style=\"text-align: right;\">\n",
       "      <th></th>\n",
       "      <th>consumption</th>\n",
       "      <th>co2_emmission</th>\n",
       "    </tr>\n",
       "    <tr>\n",
       "      <th>country</th>\n",
       "      <th></th>\n",
       "      <th></th>\n",
       "    </tr>\n",
       "  </thead>\n",
       "  <tbody>\n",
       "    <tr>\n",
       "      <th>Argentina</th>\n",
       "      <td>429.41</td>\n",
       "      <td>2172.4</td>\n",
       "    </tr>\n",
       "  </tbody>\n",
       "</table>\n",
       "</div>"
      ],
      "text/plain": [
       "           consumption  co2_emmission\n",
       "country                              \n",
       "Argentina       429.41         2172.4"
      ]
     },
     "execution_count": 15,
     "metadata": {},
     "output_type": "execute_result"
    }
   ],
   "source": [
    "df.groupby(\"country\").sum().sort_values(by=\"co2_emmission\").tail(1)"
   ]
  },
  {
   "cell_type": "markdown",
   "metadata": {},
   "source": [
    "### 6."
   ]
  },
  {
   "cell_type": "markdown",
   "metadata": {},
   "source": [
    "Which food category is the biggest contributor to the above country's C02 emissions?"
   ]
  },
  {
   "cell_type": "code",
   "execution_count": 16,
   "metadata": {},
   "outputs": [
    {
     "data": {
      "text/html": [
       "<div>\n",
       "<style scoped>\n",
       "    .dataframe tbody tr th:only-of-type {\n",
       "        vertical-align: middle;\n",
       "    }\n",
       "\n",
       "    .dataframe tbody tr th {\n",
       "        vertical-align: top;\n",
       "    }\n",
       "\n",
       "    .dataframe thead th {\n",
       "        text-align: right;\n",
       "    }\n",
       "</style>\n",
       "<table border=\"1\" class=\"dataframe\">\n",
       "  <thead>\n",
       "    <tr style=\"text-align: right;\">\n",
       "      <th></th>\n",
       "      <th>country</th>\n",
       "      <th>food_category</th>\n",
       "      <th>consumption</th>\n",
       "      <th>co2_emmission</th>\n",
       "    </tr>\n",
       "  </thead>\n",
       "  <tbody>\n",
       "    <tr>\n",
       "      <th>2</th>\n",
       "      <td>Argentina</td>\n",
       "      <td>Beef</td>\n",
       "      <td>55.48</td>\n",
       "      <td>1712.0</td>\n",
       "    </tr>\n",
       "  </tbody>\n",
       "</table>\n",
       "</div>"
      ],
      "text/plain": [
       "     country food_category  consumption  co2_emmission\n",
       "2  Argentina          Beef        55.48         1712.0"
      ]
     },
     "execution_count": 16,
     "metadata": {},
     "output_type": "execute_result"
    }
   ],
   "source": [
    "df.query(\"country == 'Argentina'\").sort_values(by=\"co2_emmission\").tail(1)"
   ]
  },
  {
   "cell_type": "markdown",
   "metadata": {},
   "source": [
    "### 7."
   ]
  },
  {
   "cell_type": "markdown",
   "metadata": {},
   "source": [
    "What food category produces the most C02 per person per year across all countries?"
   ]
  },
  {
   "cell_type": "code",
   "execution_count": 17,
   "metadata": {},
   "outputs": [
    {
     "data": {
      "text/html": [
       "<div>\n",
       "<style scoped>\n",
       "    .dataframe tbody tr th:only-of-type {\n",
       "        vertical-align: middle;\n",
       "    }\n",
       "\n",
       "    .dataframe tbody tr th {\n",
       "        vertical-align: top;\n",
       "    }\n",
       "\n",
       "    .dataframe thead th {\n",
       "        text-align: right;\n",
       "    }\n",
       "</style>\n",
       "<table border=\"1\" class=\"dataframe\">\n",
       "  <thead>\n",
       "    <tr style=\"text-align: right;\">\n",
       "      <th></th>\n",
       "      <th>consumption</th>\n",
       "      <th>co2_emmission</th>\n",
       "    </tr>\n",
       "    <tr>\n",
       "      <th>food_category</th>\n",
       "      <th></th>\n",
       "      <th></th>\n",
       "    </tr>\n",
       "  </thead>\n",
       "  <tbody>\n",
       "    <tr>\n",
       "      <th>Beef</th>\n",
       "      <td>1576.04</td>\n",
       "      <td>48633.26</td>\n",
       "    </tr>\n",
       "    <tr>\n",
       "      <th>Milk - inc. cheese</th>\n",
       "      <td>16350.71</td>\n",
       "      <td>23290.00</td>\n",
       "    </tr>\n",
       "    <tr>\n",
       "      <th>Lamb &amp; Goat</th>\n",
       "      <td>338.02</td>\n",
       "      <td>11837.38</td>\n",
       "    </tr>\n",
       "    <tr>\n",
       "      <th>Pork</th>\n",
       "      <td>2096.08</td>\n",
       "      <td>7419.11</td>\n",
       "    </tr>\n",
       "    <tr>\n",
       "      <th>Rice</th>\n",
       "      <td>3818.77</td>\n",
       "      <td>4886.91</td>\n",
       "    </tr>\n",
       "    <tr>\n",
       "      <th>Fish</th>\n",
       "      <td>2247.32</td>\n",
       "      <td>3588.22</td>\n",
       "    </tr>\n",
       "    <tr>\n",
       "      <th>Poultry</th>\n",
       "      <td>2758.50</td>\n",
       "      <td>2963.16</td>\n",
       "    </tr>\n",
       "    <tr>\n",
       "      <th>Wheat and Wheat Products</th>\n",
       "      <td>9301.44</td>\n",
       "      <td>1773.78</td>\n",
       "    </tr>\n",
       "    <tr>\n",
       "      <th>Eggs</th>\n",
       "      <td>1061.29</td>\n",
       "      <td>974.95</td>\n",
       "    </tr>\n",
       "    <tr>\n",
       "      <th>Nuts inc. Peanut Butter</th>\n",
       "      <td>537.84</td>\n",
       "      <td>951.99</td>\n",
       "    </tr>\n",
       "    <tr>\n",
       "      <th>Soybeans</th>\n",
       "      <td>111.87</td>\n",
       "      <td>50.35</td>\n",
       "    </tr>\n",
       "  </tbody>\n",
       "</table>\n",
       "</div>"
      ],
      "text/plain": [
       "                          consumption  co2_emmission\n",
       "food_category                                       \n",
       "Beef                          1576.04       48633.26\n",
       "Milk - inc. cheese           16350.71       23290.00\n",
       "Lamb & Goat                    338.02       11837.38\n",
       "Pork                          2096.08        7419.11\n",
       "Rice                          3818.77        4886.91\n",
       "Fish                          2247.32        3588.22\n",
       "Poultry                       2758.50        2963.16\n",
       "Wheat and Wheat Products      9301.44        1773.78\n",
       "Eggs                          1061.29         974.95\n",
       "Nuts inc. Peanut Butter        537.84         951.99\n",
       "Soybeans                       111.87          50.35"
      ]
     },
     "execution_count": 17,
     "metadata": {},
     "output_type": "execute_result"
    }
   ],
   "source": [
    "df.groupby(\"food_category\").sum().sort_values(by=\"co2_emmission\", ascending=False)"
   ]
  },
  {
   "cell_type": "markdown",
   "metadata": {},
   "source": [
    "### 8."
   ]
  },
  {
   "cell_type": "markdown",
   "metadata": {},
   "source": [
    "What food category is consumed the most across all countries per person per year? What food category is consumed the least across all countries?"
   ]
  },
  {
   "cell_type": "code",
   "execution_count": 18,
   "metadata": {},
   "outputs": [
    {
     "name": "stdout",
     "output_type": "stream",
     "text": [
      "Most consumption:\n",
      "                    consumption  co2_emmission\n",
      "food_category                                 \n",
      "Milk - inc. cheese     16350.71        23290.0\n",
      "\n",
      "Least consumption:\n",
      "               consumption  co2_emmission\n",
      "food_category                            \n",
      "Soybeans            111.87          50.35\n"
     ]
    }
   ],
   "source": [
    "print(\"Most consumption:\")\n",
    "print(df.groupby(\"food_category\").sum().sort_values(by=\"consumption\", ascending=False).head(1))\n",
    "print(\"\")\n",
    "print(\"Least consumption:\")\n",
    "print(df.groupby(\"food_category\").sum().sort_values(by=\"consumption\", ascending=False).tail(1))"
   ]
  },
  {
   "cell_type": "markdown",
   "metadata": {},
   "source": [
    "### 9."
   ]
  },
  {
   "cell_type": "markdown",
   "metadata": {},
   "source": [
    "Make the dataset wide by pivoting on the `food_category` column. You'll end up with a \"multi-index\" dataframe, with multiple levels of columns."
   ]
  },
  {
   "cell_type": "code",
   "execution_count": 19,
   "metadata": {},
   "outputs": [
    {
     "data": {
      "text/html": [
       "<div>\n",
       "<style scoped>\n",
       "    .dataframe tbody tr th:only-of-type {\n",
       "        vertical-align: middle;\n",
       "    }\n",
       "\n",
       "    .dataframe tbody tr th {\n",
       "        vertical-align: top;\n",
       "    }\n",
       "\n",
       "    .dataframe thead tr th {\n",
       "        text-align: left;\n",
       "    }\n",
       "\n",
       "    .dataframe thead tr:last-of-type th {\n",
       "        text-align: right;\n",
       "    }\n",
       "</style>\n",
       "<table border=\"1\" class=\"dataframe\">\n",
       "  <thead>\n",
       "    <tr>\n",
       "      <th></th>\n",
       "      <th colspan=\"10\" halign=\"left\">consumption</th>\n",
       "      <th>...</th>\n",
       "      <th colspan=\"10\" halign=\"left\">co2_emmission</th>\n",
       "    </tr>\n",
       "    <tr>\n",
       "      <th>food_category</th>\n",
       "      <th>Beef</th>\n",
       "      <th>Eggs</th>\n",
       "      <th>Fish</th>\n",
       "      <th>Lamb &amp; Goat</th>\n",
       "      <th>Milk - inc. cheese</th>\n",
       "      <th>Nuts inc. Peanut Butter</th>\n",
       "      <th>Pork</th>\n",
       "      <th>Poultry</th>\n",
       "      <th>Rice</th>\n",
       "      <th>Soybeans</th>\n",
       "      <th>...</th>\n",
       "      <th>Eggs</th>\n",
       "      <th>Fish</th>\n",
       "      <th>Lamb &amp; Goat</th>\n",
       "      <th>Milk - inc. cheese</th>\n",
       "      <th>Nuts inc. Peanut Butter</th>\n",
       "      <th>Pork</th>\n",
       "      <th>Poultry</th>\n",
       "      <th>Rice</th>\n",
       "      <th>Soybeans</th>\n",
       "      <th>Wheat and Wheat Products</th>\n",
       "    </tr>\n",
       "    <tr>\n",
       "      <th>country</th>\n",
       "      <th></th>\n",
       "      <th></th>\n",
       "      <th></th>\n",
       "      <th></th>\n",
       "      <th></th>\n",
       "      <th></th>\n",
       "      <th></th>\n",
       "      <th></th>\n",
       "      <th></th>\n",
       "      <th></th>\n",
       "      <th></th>\n",
       "      <th></th>\n",
       "      <th></th>\n",
       "      <th></th>\n",
       "      <th></th>\n",
       "      <th></th>\n",
       "      <th></th>\n",
       "      <th></th>\n",
       "      <th></th>\n",
       "      <th></th>\n",
       "      <th></th>\n",
       "    </tr>\n",
       "  </thead>\n",
       "  <tbody>\n",
       "    <tr>\n",
       "      <th>Albania</th>\n",
       "      <td>22.50</td>\n",
       "      <td>12.45</td>\n",
       "      <td>3.85</td>\n",
       "      <td>15.32</td>\n",
       "      <td>303.72</td>\n",
       "      <td>4.36</td>\n",
       "      <td>10.88</td>\n",
       "      <td>13.23</td>\n",
       "      <td>7.78</td>\n",
       "      <td>0.00</td>\n",
       "      <td>...</td>\n",
       "      <td>11.44</td>\n",
       "      <td>6.15</td>\n",
       "      <td>536.50</td>\n",
       "      <td>432.62</td>\n",
       "      <td>7.72</td>\n",
       "      <td>38.51</td>\n",
       "      <td>14.21</td>\n",
       "      <td>9.96</td>\n",
       "      <td>0.00</td>\n",
       "      <td>26.44</td>\n",
       "    </tr>\n",
       "    <tr>\n",
       "      <th>Algeria</th>\n",
       "      <td>5.60</td>\n",
       "      <td>8.06</td>\n",
       "      <td>3.74</td>\n",
       "      <td>7.69</td>\n",
       "      <td>141.53</td>\n",
       "      <td>2.08</td>\n",
       "      <td>0.00</td>\n",
       "      <td>7.42</td>\n",
       "      <td>2.97</td>\n",
       "      <td>0.00</td>\n",
       "      <td>...</td>\n",
       "      <td>7.40</td>\n",
       "      <td>5.97</td>\n",
       "      <td>269.30</td>\n",
       "      <td>201.60</td>\n",
       "      <td>3.68</td>\n",
       "      <td>0.00</td>\n",
       "      <td>7.97</td>\n",
       "      <td>3.80</td>\n",
       "      <td>0.00</td>\n",
       "      <td>35.36</td>\n",
       "    </tr>\n",
       "    <tr>\n",
       "      <th>Angola</th>\n",
       "      <td>8.42</td>\n",
       "      <td>1.11</td>\n",
       "      <td>15.24</td>\n",
       "      <td>1.08</td>\n",
       "      <td>12.30</td>\n",
       "      <td>2.26</td>\n",
       "      <td>8.89</td>\n",
       "      <td>17.33</td>\n",
       "      <td>8.12</td>\n",
       "      <td>0.52</td>\n",
       "      <td>...</td>\n",
       "      <td>1.02</td>\n",
       "      <td>24.33</td>\n",
       "      <td>37.82</td>\n",
       "      <td>17.52</td>\n",
       "      <td>4.00</td>\n",
       "      <td>31.47</td>\n",
       "      <td>18.62</td>\n",
       "      <td>10.39</td>\n",
       "      <td>0.23</td>\n",
       "      <td>7.77</td>\n",
       "    </tr>\n",
       "    <tr>\n",
       "      <th>Argentina</th>\n",
       "      <td>55.48</td>\n",
       "      <td>11.39</td>\n",
       "      <td>4.36</td>\n",
       "      <td>1.56</td>\n",
       "      <td>195.08</td>\n",
       "      <td>0.49</td>\n",
       "      <td>10.51</td>\n",
       "      <td>38.66</td>\n",
       "      <td>8.77</td>\n",
       "      <td>0.00</td>\n",
       "      <td>...</td>\n",
       "      <td>10.46</td>\n",
       "      <td>6.96</td>\n",
       "      <td>54.63</td>\n",
       "      <td>277.87</td>\n",
       "      <td>0.87</td>\n",
       "      <td>37.20</td>\n",
       "      <td>41.53</td>\n",
       "      <td>11.22</td>\n",
       "      <td>0.00</td>\n",
       "      <td>19.66</td>\n",
       "    </tr>\n",
       "    <tr>\n",
       "      <th>Armenia</th>\n",
       "      <td>19.66</td>\n",
       "      <td>11.69</td>\n",
       "      <td>4.36</td>\n",
       "      <td>3.02</td>\n",
       "      <td>209.03</td>\n",
       "      <td>2.55</td>\n",
       "      <td>9.67</td>\n",
       "      <td>13.35</td>\n",
       "      <td>3.18</td>\n",
       "      <td>0.00</td>\n",
       "      <td>...</td>\n",
       "      <td>10.74</td>\n",
       "      <td>6.96</td>\n",
       "      <td>105.76</td>\n",
       "      <td>297.74</td>\n",
       "      <td>4.51</td>\n",
       "      <td>34.23</td>\n",
       "      <td>14.34</td>\n",
       "      <td>4.07</td>\n",
       "      <td>0.00</td>\n",
       "      <td>24.91</td>\n",
       "    </tr>\n",
       "    <tr>\n",
       "      <th>...</th>\n",
       "      <td>...</td>\n",
       "      <td>...</td>\n",
       "      <td>...</td>\n",
       "      <td>...</td>\n",
       "      <td>...</td>\n",
       "      <td>...</td>\n",
       "      <td>...</td>\n",
       "      <td>...</td>\n",
       "      <td>...</td>\n",
       "      <td>...</td>\n",
       "      <td>...</td>\n",
       "      <td>...</td>\n",
       "      <td>...</td>\n",
       "      <td>...</td>\n",
       "      <td>...</td>\n",
       "      <td>...</td>\n",
       "      <td>...</td>\n",
       "      <td>...</td>\n",
       "      <td>...</td>\n",
       "      <td>...</td>\n",
       "      <td>...</td>\n",
       "    </tr>\n",
       "    <tr>\n",
       "      <th>Uruguay</th>\n",
       "      <td>29.10</td>\n",
       "      <td>13.14</td>\n",
       "      <td>6.53</td>\n",
       "      <td>8.23</td>\n",
       "      <td>210.54</td>\n",
       "      <td>0.95</td>\n",
       "      <td>16.84</td>\n",
       "      <td>27.45</td>\n",
       "      <td>11.50</td>\n",
       "      <td>0.01</td>\n",
       "      <td>...</td>\n",
       "      <td>12.07</td>\n",
       "      <td>10.43</td>\n",
       "      <td>288.21</td>\n",
       "      <td>299.89</td>\n",
       "      <td>1.68</td>\n",
       "      <td>59.61</td>\n",
       "      <td>29.49</td>\n",
       "      <td>14.72</td>\n",
       "      <td>0.00</td>\n",
       "      <td>20.85</td>\n",
       "    </tr>\n",
       "    <tr>\n",
       "      <th>Venezuela</th>\n",
       "      <td>25.89</td>\n",
       "      <td>5.63</td>\n",
       "      <td>8.34</td>\n",
       "      <td>0.32</td>\n",
       "      <td>117.79</td>\n",
       "      <td>0.35</td>\n",
       "      <td>7.23</td>\n",
       "      <td>39.28</td>\n",
       "      <td>23.39</td>\n",
       "      <td>0.00</td>\n",
       "      <td>...</td>\n",
       "      <td>5.17</td>\n",
       "      <td>13.32</td>\n",
       "      <td>11.21</td>\n",
       "      <td>167.78</td>\n",
       "      <td>0.62</td>\n",
       "      <td>25.59</td>\n",
       "      <td>42.19</td>\n",
       "      <td>29.93</td>\n",
       "      <td>0.00</td>\n",
       "      <td>9.38</td>\n",
       "    </tr>\n",
       "    <tr>\n",
       "      <th>Vietnam</th>\n",
       "      <td>7.44</td>\n",
       "      <td>3.84</td>\n",
       "      <td>26.52</td>\n",
       "      <td>0.14</td>\n",
       "      <td>16.36</td>\n",
       "      <td>6.28</td>\n",
       "      <td>35.00</td>\n",
       "      <td>12.36</td>\n",
       "      <td>144.56</td>\n",
       "      <td>5.75</td>\n",
       "      <td>...</td>\n",
       "      <td>3.53</td>\n",
       "      <td>42.34</td>\n",
       "      <td>4.90</td>\n",
       "      <td>23.30</td>\n",
       "      <td>11.12</td>\n",
       "      <td>123.88</td>\n",
       "      <td>13.28</td>\n",
       "      <td>184.99</td>\n",
       "      <td>2.59</td>\n",
       "      <td>2.00</td>\n",
       "    </tr>\n",
       "    <tr>\n",
       "      <th>Zambia</th>\n",
       "      <td>4.76</td>\n",
       "      <td>3.32</td>\n",
       "      <td>6.20</td>\n",
       "      <td>0.68</td>\n",
       "      <td>9.71</td>\n",
       "      <td>5.04</td>\n",
       "      <td>1.66</td>\n",
       "      <td>3.29</td>\n",
       "      <td>3.05</td>\n",
       "      <td>7.30</td>\n",
       "      <td>...</td>\n",
       "      <td>3.05</td>\n",
       "      <td>9.90</td>\n",
       "      <td>23.81</td>\n",
       "      <td>13.83</td>\n",
       "      <td>8.92</td>\n",
       "      <td>5.88</td>\n",
       "      <td>3.53</td>\n",
       "      <td>3.90</td>\n",
       "      <td>3.29</td>\n",
       "      <td>2.31</td>\n",
       "    </tr>\n",
       "    <tr>\n",
       "      <th>Zimbabwe</th>\n",
       "      <td>7.37</td>\n",
       "      <td>1.75</td>\n",
       "      <td>2.80</td>\n",
       "      <td>0.96</td>\n",
       "      <td>31.90</td>\n",
       "      <td>2.22</td>\n",
       "      <td>2.65</td>\n",
       "      <td>4.97</td>\n",
       "      <td>10.09</td>\n",
       "      <td>0.54</td>\n",
       "      <td>...</td>\n",
       "      <td>1.61</td>\n",
       "      <td>4.47</td>\n",
       "      <td>33.62</td>\n",
       "      <td>45.44</td>\n",
       "      <td>3.93</td>\n",
       "      <td>9.38</td>\n",
       "      <td>5.34</td>\n",
       "      <td>12.91</td>\n",
       "      <td>0.24</td>\n",
       "      <td>5.97</td>\n",
       "    </tr>\n",
       "  </tbody>\n",
       "</table>\n",
       "<p>130 rows × 22 columns</p>\n",
       "</div>"
      ],
      "text/plain": [
       "              consumption                                               \\\n",
       "food_category        Beef   Eggs   Fish Lamb & Goat Milk - inc. cheese   \n",
       "country                                                                  \n",
       "Albania             22.50  12.45   3.85       15.32             303.72   \n",
       "Algeria              5.60   8.06   3.74        7.69             141.53   \n",
       "Angola               8.42   1.11  15.24        1.08              12.30   \n",
       "Argentina           55.48  11.39   4.36        1.56             195.08   \n",
       "Armenia             19.66  11.69   4.36        3.02             209.03   \n",
       "...                   ...    ...    ...         ...                ...   \n",
       "Uruguay             29.10  13.14   6.53        8.23             210.54   \n",
       "Venezuela           25.89   5.63   8.34        0.32             117.79   \n",
       "Vietnam              7.44   3.84  26.52        0.14              16.36   \n",
       "Zambia               4.76   3.32   6.20        0.68               9.71   \n",
       "Zimbabwe             7.37   1.75   2.80        0.96              31.90   \n",
       "\n",
       "                                                                       ...  \\\n",
       "food_category Nuts inc. Peanut Butter   Pork Poultry    Rice Soybeans  ...   \n",
       "country                                                                ...   \n",
       "Albania                          4.36  10.88   13.23    7.78     0.00  ...   \n",
       "Algeria                          2.08   0.00    7.42    2.97     0.00  ...   \n",
       "Angola                           2.26   8.89   17.33    8.12     0.52  ...   \n",
       "Argentina                        0.49  10.51   38.66    8.77     0.00  ...   \n",
       "Armenia                          2.55   9.67   13.35    3.18     0.00  ...   \n",
       "...                               ...    ...     ...     ...      ...  ...   \n",
       "Uruguay                          0.95  16.84   27.45   11.50     0.01  ...   \n",
       "Venezuela                        0.35   7.23   39.28   23.39     0.00  ...   \n",
       "Vietnam                          6.28  35.00   12.36  144.56     5.75  ...   \n",
       "Zambia                           5.04   1.66    3.29    3.05     7.30  ...   \n",
       "Zimbabwe                         2.22   2.65    4.97   10.09     0.54  ...   \n",
       "\n",
       "              co2_emmission                                        \\\n",
       "food_category          Eggs   Fish Lamb & Goat Milk - inc. cheese   \n",
       "country                                                             \n",
       "Albania               11.44   6.15      536.50             432.62   \n",
       "Algeria                7.40   5.97      269.30             201.60   \n",
       "Angola                 1.02  24.33       37.82              17.52   \n",
       "Argentina             10.46   6.96       54.63             277.87   \n",
       "Armenia               10.74   6.96      105.76             297.74   \n",
       "...                     ...    ...         ...                ...   \n",
       "Uruguay               12.07  10.43      288.21             299.89   \n",
       "Venezuela              5.17  13.32       11.21             167.78   \n",
       "Vietnam                3.53  42.34        4.90              23.30   \n",
       "Zambia                 3.05   9.90       23.81              13.83   \n",
       "Zimbabwe               1.61   4.47       33.62              45.44   \n",
       "\n",
       "                                                                        \\\n",
       "food_category Nuts inc. Peanut Butter    Pork Poultry    Rice Soybeans   \n",
       "country                                                                  \n",
       "Albania                          7.72   38.51   14.21    9.96     0.00   \n",
       "Algeria                          3.68    0.00    7.97    3.80     0.00   \n",
       "Angola                           4.00   31.47   18.62   10.39     0.23   \n",
       "Argentina                        0.87   37.20   41.53   11.22     0.00   \n",
       "Armenia                          4.51   34.23   14.34    4.07     0.00   \n",
       "...                               ...     ...     ...     ...      ...   \n",
       "Uruguay                          1.68   59.61   29.49   14.72     0.00   \n",
       "Venezuela                        0.62   25.59   42.19   29.93     0.00   \n",
       "Vietnam                         11.12  123.88   13.28  184.99     2.59   \n",
       "Zambia                           8.92    5.88    3.53    3.90     3.29   \n",
       "Zimbabwe                         3.93    9.38    5.34   12.91     0.24   \n",
       "\n",
       "                                        \n",
       "food_category Wheat and Wheat Products  \n",
       "country                                 \n",
       "Albania                          26.44  \n",
       "Algeria                          35.36  \n",
       "Angola                            7.77  \n",
       "Argentina                        19.66  \n",
       "Armenia                          24.91  \n",
       "...                                ...  \n",
       "Uruguay                          20.85  \n",
       "Venezuela                         9.38  \n",
       "Vietnam                           2.00  \n",
       "Zambia                            2.31  \n",
       "Zimbabwe                          5.97  \n",
       "\n",
       "[130 rows x 22 columns]"
      ]
     },
     "execution_count": 19,
     "metadata": {},
     "output_type": "execute_result"
    }
   ],
   "source": [
    "df = df.pivot(index='country', columns='food_category')\n",
    "df"
   ]
  },
  {
   "cell_type": "markdown",
   "metadata": {},
   "source": [
    "### 10."
   ]
  },
  {
   "cell_type": "markdown",
   "metadata": {},
   "source": [
    "Now that the dataset is wide, I want you to answer the same question from Question 5 above: \"What country produces the most kg C02 per person per year?\". Specifically, I want you to notice that the way we answer the same data analysis question changes depending on the format of the data (wide vs long). You can form your own opinion on which option you prefer - I prefer long data (and remember that many visualization libraries work best with long data too - more on that in DSCI 531). *Hint*: you can index the outer layer of a multi-index column using the same syntax we've seen previously: `df['co2_emmission']`, if you wanted to access an inner index, you'd have to use a tuple: `df[(\"consumption\", \"Beef\")]`. Read more on multi-indexes (also called \"hierarchical indexes\") in [Chapter 9](../chapters/chapter9-wrangling-advanced.ipynb)."
   ]
  },
  {
   "cell_type": "code",
   "execution_count": 20,
   "metadata": {},
   "outputs": [
    {
     "data": {
      "text/plain": [
       "country\n",
       "Finland    639.79\n",
       "dtype: float64"
      ]
     },
     "execution_count": 20,
     "metadata": {},
     "output_type": "execute_result"
    }
   ],
   "source": [
    "df[\"consumption\"].sum(axis=1).sort_values().tail(1)"
   ]
  }
 ],
 "metadata": {
  "kernelspec": {
   "display_name": "Python 3",
   "language": "python",
   "name": "python3"
  },
  "language_info": {
   "codemirror_mode": {
    "name": "ipython",
    "version": 3
   },
   "file_extension": ".py",
   "mimetype": "text/x-python",
   "name": "python",
   "nbconvert_exporter": "python",
   "pygments_lexer": "ipython3",
   "version": "3.7.8"
  }
 },
 "nbformat": 4,
 "nbformat_minor": 4
}
