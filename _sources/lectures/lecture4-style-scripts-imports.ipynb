{
 "cells": [
  {
   "cell_type": "markdown",
   "metadata": {},
   "source": [
    "![](img/511_banner.png)"
   ]
  },
  {
   "cell_type": "markdown",
   "metadata": {},
   "source": [
    "# Lecture 4: Style Guides, Scripts, Imports\n",
    "\n",
    "**Tomas Beuzen, September 2020**"
   ]
  },
  {
   "cell_type": "markdown",
   "metadata": {
    "toc": true
   },
   "source": [
    "<h2>Lecture Outline<span class=\"tocSkip\"></span></h2>\n",
    "<div class=\"toc\"><ul class=\"toc-item\"><li><span><a href=\"#1.-Style-Guide\" data-toc-modified-id=\"1.-Style-Guide-1\">1. Style Guide</a></span></li><li><span><a href=\"#2.-Python-Scripts\" data-toc-modified-id=\"2.-Python-Scripts-2\">2. Python Scripts</a></span></li><li><span><a href=\"#3.-Importing\" data-toc-modified-id=\"3.-Importing-3\">3. Importing</a></span></li><li><span><a href=\"#4.-Intriguing-Behaviour-in-Python\" data-toc-modified-id=\"4.-Intriguing-Behaviour-in-Python-4\">4. Intriguing Behaviour in Python</a></span></li></ul></div>"
   ]
  },
  {
   "cell_type": "markdown",
   "metadata": {},
   "source": [
    "## Lecture Learning Objectives"
   ]
  },
  {
   "cell_type": "markdown",
   "metadata": {},
   "source": [
    "- Describe why code style is important\n",
    "- Differentiate between the role of a linter like `flake8` and an autoformatter like `black`\n",
    "- Implement linting and formatting from the command line or within Jupyter or another IDE\n",
    "- Write a Python module (`.py` file) in VSCode or other IDE of your choice\n",
    "- Import installed or custom packages using the `import` syntax\n",
    "- Explain the notion of a reference in Python\n",
    "- Explain the notion of scoping in Python\n",
    "- Anticipate whether changing one variable will change another in Python\n",
    "- Anticipate whether a function changes the caller's version of an argument variable in Python\n",
    "- Select the appropriate choice between `==` and `is` in Python"
   ]
  },
  {
   "cell_type": "markdown",
   "metadata": {},
   "source": [
    "## 1. Style Guide\n",
    "<hr>"
   ]
  },
  {
   "cell_type": "markdown",
   "metadata": {},
   "source": [
    "![](https://imgs.xkcd.com/comics/code_quality.png)"
   ]
  },
  {
   "cell_type": "markdown",
   "metadata": {},
   "source": [
    "- It is incorrect to think that if your code works then you are done.\n",
    "- Code has two \"users\" - the computer (which turns it into machine instructions) and humans, who will likely read and/or modify the code in the future.\n",
    "- This section is about how to make your code suitable to that second audience, humans.\n",
    "- Styling is particularly important for sharing your code to other users (including your future self!)\n",
    "- Remember: \"Code is read much more often than it is written.\"\n",
    "- [PEP8](https://www.python.org/dev/peps/pep-0008/) is the Python Style Guide\n",
    "- It is worth skimming through PEP 8, but here are some highlights:\n",
    "  - Indent using 4 spaces\n",
    "  - Have whitespace around operators, e.g. `x = 1` not `x=1`\n",
    "  - But avoid extra whitespace, e.g. `f(1)` not `f (1)`\n",
    "  - Single and double quotes both fine for strings, but use `\"\"\"`triple double quotes`\"\"\"` for docstrings, not `'''`triple single quotes`'''`\n",
    "  - Variable and function names use `underscores_between_words`\n",
    "  - And much more...\n",
    "- There's lots to remember but luckily **linters** & **formatters** can help you adhere to uniform styling!"
   ]
  },
  {
   "cell_type": "markdown",
   "metadata": {},
   "source": [
    "### Linters\n",
    "\n",
    "- **Linting**: highlights programmatic and stylistic problems in your Python source code.\n",
    "- Think of it like \"spell check\" in word processing software\n",
    "- Common linters: pycodestyle, pylint, pyflakes, flake8, etc.\n",
    "- We'll use [**flake8**](https://flake8.pycqa.org/en/latest/) in MDS, which, if you don't have it, you can install with:\n",
    "\n",
    "```\n",
    "conda install -c anaconda flake8\n",
    "```"
   ]
  },
  {
   "cell_type": "markdown",
   "metadata": {},
   "source": [
    "- `flake8` can be used from the command line to check files\n",
    "\n",
    "```\n",
    "flake8 path/file_to_check.py\n",
    "```\n",
    "\n",
    "- You can execute shell commands in Jupyter by prepending a command with an exclamation mark `!`\n",
    "- I've included an example script called `bad_style.py` in the lectures folder, let's use `flake8` on that now:"
   ]
  },
  {
   "cell_type": "code",
   "execution_count": 1,
   "metadata": {},
   "outputs": [
    {
     "name": "stdout",
     "output_type": "stream",
     "text": [
      "lecture4-bad_style.py:1:6: E201 whitespace after '{'\n",
      "lecture4-bad_style.py:1:11: E231 missing whitespace after ':'\n",
      "lecture4-bad_style.py:1:14: E231 missing whitespace after ','\n",
      "lecture4-bad_style.py:1:18: E231 missing whitespace after ':'\n",
      "lecture4-bad_style.py:2:1: E128 continuation line under-indented for visual indent\n",
      "lecture4-bad_style.py:2:4: E231 missing whitespace after ':'\n",
      "lecture4-bad_style.py:4:25: E128 continuation line under-indented for visual indent\n",
      "lecture4-bad_style.py:5:5: E225 missing whitespace around operator\n",
      "lecture4-bad_style.py:7:80: E501 line too long (119 > 79 characters)\n",
      "lecture4-bad_style.py:8:2: E111 indentation is not a multiple of four\n",
      "lecture4-bad_style.py:10:2: E111 indentation is not a multiple of four\n",
      "lecture4-bad_style.py:11:2: E111 indentation is not a multiple of four\n",
      "lecture4-bad_style.py:12:2: E111 indentation is not a multiple of four\n",
      "lecture4-bad_style.py:13:10: E701 multiple statements on one line (colon)\n",
      "lecture4-bad_style.py:13:31: E261 at least two spaces before inline comment\n",
      "lecture4-bad_style.py:13:31: E262 inline comment should start with '# '\n",
      "lecture4-bad_style.py:14:1: E302 expected 2 blank lines, found 0\n",
      "lecture4-bad_style.py:14:13: E201 whitespace after '('\n",
      "lecture4-bad_style.py:14:25: E202 whitespace before ')'\n",
      "lecture4-bad_style.py:15:3: E111 indentation is not a multiple of four\n",
      "lecture4-bad_style.py:15:8: E211 whitespace before '('\n",
      "lecture4-bad_style.py:15:19: E202 whitespace before ')'\n",
      "lecture4-bad_style.py:16:11: E271 multiple spaces after keyword\n",
      "lecture4-bad_style.py:17:3: E301 expected 1 blank line, found 0\n",
      "lecture4-bad_style.py:17:3: E111 indentation is not a multiple of four\n",
      "lecture4-bad_style.py:17:16: E231 missing whitespace after ','\n",
      "lecture4-bad_style.py:18:7: E111 indentation is not a multiple of four\n",
      "lecture4-bad_style.py:20:1: E305 expected 2 blank lines after class or function definition, found 0\n",
      "lecture4-bad_style.py:28:2: W292 no newline at end of file\n"
     ]
    }
   ],
   "source": [
    "!flake8 lecture4-bad_style.py"
   ]
  },
  {
   "cell_type": "markdown",
   "metadata": {},
   "source": [
    "- You can also instruct your Python editor of choice to automatically lint your code as your write (I'll show this in VSCode a little later)"
   ]
  },
  {
   "cell_type": "markdown",
   "metadata": {},
   "source": [
    "### Formatters\n",
    "\n",
    "- **Formatting**: restructures how code appears by applying specific rules for line spacing, indents, line length, etc.\n",
    "- Common linters: autopep8, black, yapf, etc.\n",
    "- We'll use [**black**](https://black.readthedocs.io/en/stable/?badge=stable) in MDS, which, if you don't have it, you can install with:\n",
    "\n",
    "```\n",
    "conda install -c conda-forge black\n",
    "```\n",
    "\n",
    "- `black` can also be used from the command line to format your files:\n",
    "\n",
    "```\n",
    "black path/file_to_check.py --check\n",
    "```\n",
    "\n",
    "- The `--check` argument just checks if your code conforms to black style but doesn't reformat it in place, if you want your file reformatted, remove the argument."
   ]
  },
  {
   "cell_type": "code",
   "execution_count": 2,
   "metadata": {},
   "outputs": [
    {
     "name": "stdout",
     "output_type": "stream",
     "text": [
      "\u001b[1mwould reformat lecture4-bad_style.py\u001b[0m\n",
      "\u001b[1mOh no! 💥 💔 💥\u001b[0m\n",
      "\u001b[1m1 file would be reformatted\u001b[0m.\u001b[0m\n"
     ]
    }
   ],
   "source": [
    "!black lecture4-bad_style.py --check"
   ]
  },
  {
   "cell_type": "markdown",
   "metadata": {},
   "source": [
    "- You can instruct your IDE to use `black` to format your code automatically too (I'll show this in VSCode a little later)\n",
    "- There's also a great `black` [extension for JupyterLab](https://jupyterlab-code-formatter.readthedocs.io/en/latest/index.html) which I'll use to demonstrate `black` usage below:"
   ]
  },
  {
   "cell_type": "markdown",
   "metadata": {},
   "source": [
    "- BEFORE FORMATTING:"
   ]
  },
  {
   "cell_type": "code",
   "execution_count": 3,
   "metadata": {},
   "outputs": [],
   "source": [
    "x = {  'a':37,'b':42,\n",
    "'c':927}\n",
    "very_long_variable_name = {'field': 1,\n",
    "                        'is_debug': True}\n",
    "this=True\n",
    "\n",
    "if very_long_variable_name is not None and very_long_variable_name[\"field\"] > 0 or very_long_variable_name['is_debug']:\n",
    " z = 'hello '+'world'\n",
    "else:\n",
    " world = 'world'\n",
    " a = 'hello {}'.format(world)\n",
    " f = rf'hello {world}'\n",
    "if (this): y = 'hello ''world'#FIXME: https://github.com/python/black/issues/26\n",
    "class Foo  (     object  ):\n",
    "  def f    (self   ):\n",
    "    return       37*-2\n",
    "  def g(self, x,y=42):\n",
    "      return y\n",
    "# fmt: off\n",
    "custom_formatting = [\n",
    "    0,  1,  2,\n",
    "    3,  4,  5\n",
    "]\n",
    "# fmt: on\n",
    "regular_formatting = [\n",
    "    0,  1,  2,\n",
    "    3,  4,  5\n",
    "]"
   ]
  },
  {
   "cell_type": "markdown",
   "metadata": {},
   "source": [
    "- AFTER FORMATTING (if you have the extension installed in JupyterLab: `Edit` -> `Apply Black Formatter`)\n",
    "- Note how you can toggle formatting on or off in your code using the `# fmt: off`/`# fmt: on` tags"
   ]
  },
  {
   "cell_type": "code",
   "execution_count": 4,
   "metadata": {},
   "outputs": [],
   "source": [
    "x = {\"a\": 37, \"b\": 42, \"c\": 927}\n",
    "very_long_variable_name = {\"field\": 1, \"is_debug\": True}\n",
    "this = True\n",
    "\n",
    "if (\n",
    "    very_long_variable_name is not None\n",
    "    and very_long_variable_name[\"field\"] > 0\n",
    "    or very_long_variable_name[\"is_debug\"]\n",
    "):\n",
    "    z = \"hello \" + \"world\"\n",
    "else:\n",
    "    world = \"world\"\n",
    "    a = \"hello {}\".format(world)\n",
    "    f = rf\"hello {world}\"\n",
    "if this:\n",
    "    y = \"hello \" \"world\"  # FIXME: https://github.com/python/black/issues/26\n",
    "\n",
    "\n",
    "class Foo(object):\n",
    "    def f(self):\n",
    "        return 37 * -2\n",
    "\n",
    "    def g(self, x, y=42):\n",
    "        return y\n",
    "\n",
    "\n",
    "# fmt: off\n",
    "custom_formatting = [\n",
    "    0,  1,  2,\n",
    "    3,  4,  5\n",
    "]\n",
    "# fmt: on\n",
    "regular_formatting = [0, 1, 2, 3, 4, 5]"
   ]
  },
  {
   "cell_type": "markdown",
   "metadata": {},
   "source": [
    "### Guidelines That Cannot Be Checked Automatically\n",
    "\n",
    "- Variable names should use underscores (PEP 8), but also need to make sense.\n",
    "  - e.g. `spin_times` is a reasonable variable name\n",
    "  - `my_list_of_thingies` adheres to PEP 8 but is NOT a reasonable variable name\n",
    "  - same for `lst` - fine for explaining a concept, but not as part of a script that will be reused\n",
    "- DRY (we talked about this last week)\n",
    "- Magic numbers\n",
    "- Comments"
   ]
  },
  {
   "cell_type": "markdown",
   "metadata": {},
   "source": [
    "### Magic numbers"
   ]
  },
  {
   "cell_type": "markdown",
   "metadata": {},
   "source": [
    "- \"[Magic numbers](https://en.wikipedia.org/wiki/Magic_number_(programming))\" refer to the use of numbers directly wihtin source code that probably *should* be replaced with meaningfully, named constants"
   ]
  },
  {
   "cell_type": "code",
   "execution_count": 5,
   "metadata": {},
   "outputs": [],
   "source": [
    "# Here \"4\" is a \"magic number\"\n",
    "\n",
    "def num_labs(num_weeks):\n",
    "    \"\"\"Compute the number of labs and MDS student attends per week.\"\"\"\n",
    "    return num_weeks * 4"
   ]
  },
  {
   "cell_type": "markdown",
   "metadata": {},
   "source": [
    "- In this function, the `num_weeks` you pass in will always be multipled by 4, you have no control\n",
    "- And if you did want to change how the function works, you'd have to go into the source code and change the number 4"
   ]
  },
  {
   "cell_type": "code",
   "execution_count": 6,
   "metadata": {},
   "outputs": [],
   "source": [
    "# Better\n",
    "\n",
    "def num_labs(num_weeks, labs_per_week=4):\n",
    "    \"\"\"Compute the number of labs and MDS student attends per week.\"\"\"\n",
    "    return num_weeks * labs_per_week"
   ]
  },
  {
   "cell_type": "code",
   "execution_count": 7,
   "metadata": {},
   "outputs": [],
   "source": [
    "# Also fine but I don't do this as much\n",
    "\n",
    "LABS_PER_WEEK = 4 \n",
    "\n",
    "def num_labs(num_weeks):\n",
    "    \"\"\"Compute the number of labs and MDS student attends per week.\"\"\"\n",
    "    return num_weeks * LABS_PER_WEEK"
   ]
  },
  {
   "cell_type": "markdown",
   "metadata": {},
   "source": [
    "- In the above, `LABS_PER_WEEK` is being set as a \"global constant\"\n",
    "- So, why avoid magic numbers?\n",
    "\n",
    "1. They make the code hard to read. Once you give the number a name, the code is much clearer.\n",
    "2. You may need to use them in multiple places, in which case you'd be violating DRY."
   ]
  },
  {
   "cell_type": "markdown",
   "metadata": {},
   "source": [
    "- The worst situation:"
   ]
  },
  {
   "cell_type": "code",
   "execution_count": 8,
   "metadata": {},
   "outputs": [],
   "source": [
    "def num_labs(num_weeks):\n",
    "    \"\"\"Compute the number of labs and MDS student attends per week.\"\"\"\n",
    "    return num_weeks * 4\n",
    "\n",
    "def num_wheels(num_cars):\n",
    "    \"\"\"Compute the number of wheels in a collection of num_cars cars.\"\"\"\n",
    "    return num_cars * 4"
   ]
  },
  {
   "cell_type": "markdown",
   "metadata": {},
   "source": [
    "- And then one day MDS students take 3 labs per week so you, or someone else, goes and changes all the 4's to 3's:"
   ]
  },
  {
   "cell_type": "code",
   "execution_count": 9,
   "metadata": {},
   "outputs": [],
   "source": [
    "def num_labs(num_weeks):\n",
    "    \"\"\"Compute the number of labs and MDS student attends per week.\"\"\"\n",
    "    return num_weeks * 3\n",
    "\n",
    "def num_wheels(num_cars):\n",
    "    \"\"\"Compute the number of wheels in a collection of num_cars cars.\"\"\"\n",
    "    return num_cars * 3"
   ]
  },
  {
   "cell_type": "markdown",
   "metadata": {},
   "source": [
    "- That's bad..."
   ]
  },
  {
   "cell_type": "markdown",
   "metadata": {},
   "source": [
    "### Comments\n",
    "\n",
    "- Comments are important for understanding your code.\n",
    "- While docstrings cover what a function _does_, your comments will help document _how_ your code achieves its goal.\n",
    "- There are PEP 8 guidelines on the length, spacing, etc of comments.\n",
    "    - **Comments**: should start with a `#` followed by a single space and be preceded by at least two spaces.\n",
    "    - **Block Comments**: each line of a block comment should start with a `#` followed by a single space and should be indented to the same level as the code it precedes.\n",
    "    - Generally, comments should not be unnecessarily verbose or just state the obvious, as this can be distracting and can actually make your code more difficult to read!"
   ]
  },
  {
   "cell_type": "markdown",
   "metadata": {},
   "source": [
    "- Here is an example of a reasonable comment:"
   ]
  },
  {
   "cell_type": "code",
   "execution_count": 10,
   "metadata": {},
   "outputs": [],
   "source": [
    "def random_walker(T):\n",
    "    x = 0\n",
    "    y = 0\n",
    "\n",
    "    for i in range(T): \n",
    "        \n",
    "        # Generate a random number between 0 and 1.\n",
    "        # Then, go right, left, up or down if the number\n",
    "        # is in the interval [0,0.25), [0.25,0.5),\n",
    "        # [0.5,0.75) or [0.75,1) respectively.\n",
    "        \n",
    "        r = random() \n",
    "        if r < 0.25:\n",
    "            x += 1      # Go right\n",
    "        elif r < 0.5:\n",
    "            x -= 1      # Go left\n",
    "        elif r < 0.75:\n",
    "            y += 1      # Go up\n",
    "        else:\n",
    "            y -= 1      # Go down\n",
    "\n",
    "        print((x,y))\n",
    "\n",
    "    return x**2 + y**2"
   ]
  },
  {
   "cell_type": "markdown",
   "metadata": {},
   "source": [
    "- Here are some **BAD EXAMPLES** of comments, because they are unnecessary or poorly formatted:"
   ]
  },
  {
   "cell_type": "code",
   "execution_count": 11,
   "metadata": {},
   "outputs": [],
   "source": [
    "def random_walker(T):\n",
    "    # intalize coords\n",
    "    x = 0\n",
    "    y = 0\n",
    "\n",
    "    for i in range(T):# loop T times\n",
    "        r = random()\n",
    "        if r < 0.25:\n",
    "            x += 1  # go right\n",
    "        elif r < 0.5:\n",
    "            x -= 1  # go left\n",
    "        elif r < 0.75:\n",
    "            y += 1       # go up\n",
    "        else:\n",
    "            y -= 1\n",
    "\n",
    "        # Print the location\n",
    "        print((x, y))\n",
    "\n",
    "    # In Python, the ** operator means exponentiation.\n",
    "    return x ** 2 + y ** 2"
   ]
  },
  {
   "cell_type": "markdown",
   "metadata": {},
   "source": [
    "## 2. Python Scripts\n",
    "<hr>"
   ]
  },
  {
   "cell_type": "markdown",
   "metadata": {},
   "source": [
    "- Jupyter is a fantastic data science tool which allows you to code and create visualisations alongside text and images to create narratives\n",
    "- However, as your project grows, eventually you're going to need to create python scripts, `.py` files\n",
    "- `.py` files are also called \"modules\" in Python and may contain functions, classes, variables, and/or runnable code\n",
    "- I typically start my projects in Jupyter, and then begin to offload my functions, classes, scripts, etc to `.py` files as I formalise, structure and streamline my code"
   ]
  },
  {
   "cell_type": "markdown",
   "metadata": {},
   "source": [
    "### IDEs\n",
    "\n",
    "- You don't need any special software to write Python modules, you can write your code using any text editor and just save your file with a `.py` extension.\n",
    "- But software exists to make your life much easier!\n",
    "- IDE stands for \"integrated development environment\" and refers to software that provides comprehensive functionality for code development (e.g., compiling, debugging, formatting, testing, linting, etc). \n",
    "- In my experience the most popular out-of-the-box Python IDEs are [PyCharm](https://www.jetbrains.com/pycharm/) and [Spyder](https://www.spyder-ide.org/)\n",
    "- There are also many editors available that can be customized with extensions to act as Python IDEs, e.g., [VSCode](https://code.visualstudio.com/), [Atom](https://atom.io/), [Sublime Text](https://www.sublimetext.com/)\n",
    "- The benefit of these customisable editors is that they are light-weight and you can choose only the extensions you really need (as opposed to downloading a big, full-blown IDE like PyCharm).\n",
    "- The one we'll be using in MDS is [VSCode](https://code.visualstudio.com/), which you should already have set up with necessary extensions per the [MDS DS Stack Install Instructions](https://ubc-mds.github.io/resources_pages/installation_instructions/)."
   ]
  },
  {
   "cell_type": "markdown",
   "metadata": {},
   "source": [
    "### VSCode"
   ]
  },
  {
   "cell_type": "markdown",
   "metadata": {},
   "source": [
    "- Now I'm going to switch over to VSCode for a demo (we're going to make a class in a file `wallet.py` which you'll actually use in lab 2!)\n",
    "\n",
    "![](img/lecture4/vscode.png)"
   ]
  },
  {
   "cell_type": "markdown",
   "metadata": {},
   "source": [
    "## 3. Importing\n",
    "<hr>"
   ]
  },
  {
   "cell_type": "markdown",
   "metadata": {},
   "source": [
    "- Python can access code in another module by the process of importing it\n",
    "- This is done using the `import` statement, which you've probably seen a few times already\n",
    "- We'll discuss importing more in DSCI 524 and you can read all about it in the [Python documentation](https://docs.python.org/3/reference/import.html) but for now, it's easiest to see it in action"
   ]
  },
  {
   "cell_type": "markdown",
   "metadata": {},
   "source": [
    "### Ways of importing things\n",
    "\n",
    "- Let's `import` the code we wrote previously in VSCode so that we can use it here\n",
    "- We can import our `.py` file (our module) simply by:"
   ]
  },
  {
   "cell_type": "code",
   "execution_count": 12,
   "metadata": {},
   "outputs": [],
   "source": [
    "import wallet"
   ]
  },
  {
   "cell_type": "markdown",
   "metadata": {},
   "source": [
    "- We can take a look at all the useable parts of that module by typing `dir(wallet)`:"
   ]
  },
  {
   "cell_type": "code",
   "execution_count": 13,
   "metadata": {},
   "outputs": [
    {
     "data": {
      "text/plain": [
       "['InsufficientCashError',\n",
       " 'Wallet',\n",
       " '__builtins__',\n",
       " '__cached__',\n",
       " '__doc__',\n",
       " '__file__',\n",
       " '__loader__',\n",
       " '__name__',\n",
       " '__package__',\n",
       " '__spec__']"
      ]
     },
     "execution_count": 13,
     "metadata": {},
     "output_type": "execute_result"
    }
   ],
   "source": [
    "dir(wallet)"
   ]
  },
  {
   "cell_type": "markdown",
   "metadata": {},
   "source": [
    "- Or in Jupyter, you can just type `wallet.` and then press tab to see what the autocomplete gives you!"
   ]
  },
  {
   "cell_type": "markdown",
   "metadata": {},
   "source": [
    "- We can import a package using an alias with the `as` keyword:"
   ]
  },
  {
   "cell_type": "code",
   "execution_count": 14,
   "metadata": {},
   "outputs": [],
   "source": [
    "import wallet as w"
   ]
  },
  {
   "cell_type": "code",
   "execution_count": 15,
   "metadata": {},
   "outputs": [
    {
     "data": {
      "text/plain": [
       "<wallet.Wallet at 0x106139f10>"
      ]
     },
     "execution_count": 15,
     "metadata": {},
     "output_type": "execute_result"
    }
   ],
   "source": [
    "w.Wallet(100)"
   ]
  },
  {
   "cell_type": "code",
   "execution_count": 16,
   "metadata": {},
   "outputs": [
    {
     "data": {
      "text/plain": [
       "wallet.InsufficientCashError()"
      ]
     },
     "execution_count": 16,
     "metadata": {},
     "output_type": "execute_result"
    }
   ],
   "source": [
    "w.InsufficientCashError()"
   ]
  },
  {
   "cell_type": "markdown",
   "metadata": {},
   "source": [
    "- And we can import just a specific function/class/variable from our module:"
   ]
  },
  {
   "cell_type": "code",
   "execution_count": 17,
   "metadata": {},
   "outputs": [],
   "source": [
    "from wallet import Wallet"
   ]
  },
  {
   "cell_type": "code",
   "execution_count": 18,
   "metadata": {},
   "outputs": [
    {
     "data": {
      "text/plain": [
       "<wallet.Wallet at 0x10615f850>"
      ]
     },
     "execution_count": 18,
     "metadata": {},
     "output_type": "execute_result"
    }
   ],
   "source": [
    "Wallet(100) # now I can refer to it without the module name prefix"
   ]
  },
  {
   "cell_type": "markdown",
   "metadata": {},
   "source": [
    "- You can even mix up all these methods:"
   ]
  },
  {
   "cell_type": "code",
   "execution_count": 19,
   "metadata": {},
   "outputs": [],
   "source": [
    "from wallet import Wallet as w"
   ]
  },
  {
   "cell_type": "code",
   "execution_count": 20,
   "metadata": {},
   "outputs": [
    {
     "data": {
      "text/plain": [
       "<wallet.Wallet at 0x10615e790>"
      ]
     },
     "execution_count": 20,
     "metadata": {},
     "output_type": "execute_result"
    }
   ],
   "source": [
    "w(100)"
   ]
  },
  {
   "cell_type": "markdown",
   "metadata": {},
   "source": [
    "- It's also possible to import everything in a module, though this is generally not recommended:"
   ]
  },
  {
   "cell_type": "code",
   "execution_count": 21,
   "metadata": {},
   "outputs": [],
   "source": [
    "from wallet import *"
   ]
  },
  {
   "cell_type": "code",
   "execution_count": 22,
   "metadata": {},
   "outputs": [
    {
     "data": {
      "text/plain": [
       "<wallet.Wallet at 0x10615b950>"
      ]
     },
     "execution_count": 22,
     "metadata": {},
     "output_type": "execute_result"
    }
   ],
   "source": [
    "Wallet(100)"
   ]
  },
  {
   "cell_type": "code",
   "execution_count": 23,
   "metadata": {},
   "outputs": [
    {
     "data": {
      "text/plain": [
       "wallet.InsufficientCashError()"
      ]
     },
     "execution_count": 23,
     "metadata": {},
     "output_type": "execute_result"
    }
   ],
   "source": [
    "InsufficientCashError()"
   ]
  },
  {
   "cell_type": "markdown",
   "metadata": {},
   "source": [
    "#### Importing functions from outside your working directory"
   ]
  },
  {
   "cell_type": "markdown",
   "metadata": {},
   "source": [
    "- I could do `import wallet` above because `wallet.py` is in my current working directory\n",
    "- But there are a few extra steps needed if it is in a different location\n",
    "- I've included a script called `hello.py` in the `data/` folder of this repository\n",
    "- All it has in it is:\n",
    "\n",
    "```python\n",
    "PLANET = \"Earth\"\n",
    "\n",
    "\n",
    "def hello_world():\n",
    "    print(f\"Hello {PLANET}!\")\n",
    "```\n",
    "\n",
    "- But unfortunately I can't do this:"
   ]
  },
  {
   "cell_type": "code",
   "execution_count": 24,
   "metadata": {
    "tags": [
     "raises-exception"
    ]
   },
   "outputs": [
    {
     "ename": "ModuleNotFoundError",
     "evalue": "No module named 'hello'",
     "output_type": "error",
     "traceback": [
      "\u001b[0;31m---------------------------------------------------------------------------\u001b[0m",
      "\u001b[0;31mModuleNotFoundError\u001b[0m                       Traceback (most recent call last)",
      "\u001b[0;32m<ipython-input-24-20bbd0c111a6>\u001b[0m in \u001b[0;36m<module>\u001b[0;34m\u001b[0m\n\u001b[0;32m----> 1\u001b[0;31m \u001b[0;32mfrom\u001b[0m \u001b[0mhello\u001b[0m \u001b[0;32mimport\u001b[0m \u001b[0mhello_world\u001b[0m\u001b[0;34m\u001b[0m\u001b[0;34m\u001b[0m\u001b[0m\n\u001b[0m",
      "\u001b[0;31mModuleNotFoundError\u001b[0m: No module named 'hello'"
     ]
    }
   ],
   "source": [
    "from hello import hello_world"
   ]
  },
  {
   "cell_type": "markdown",
   "metadata": {},
   "source": [
    "- What I need to do is add this directory location to the paths that Python searches through when looking to import something\n",
    "- I usually do this using the `sys` module:"
   ]
  },
  {
   "cell_type": "code",
   "execution_count": 25,
   "metadata": {},
   "outputs": [
    {
     "data": {
      "text/plain": [
       "['/Users/tbeuzen/GitHub/MDS/511/students_511/lectures',\n",
       " '/opt/miniconda3/lib/python37.zip',\n",
       " '/opt/miniconda3/lib/python3.7',\n",
       " '/opt/miniconda3/lib/python3.7/lib-dynload',\n",
       " '',\n",
       " '/Users/tbeuzen/.local/lib/python3.7/site-packages',\n",
       " '/opt/miniconda3/lib/python3.7/site-packages',\n",
       " '/opt/miniconda3/lib/python3.7/site-packages/IPython/extensions',\n",
       " '/Users/tbeuzen/.ipython',\n",
       " 'data/']"
      ]
     },
     "execution_count": 25,
     "metadata": {},
     "output_type": "execute_result"
    }
   ],
   "source": [
    "import sys\n",
    "sys.path.append('data/')\n",
    "sys.path # display the current paths Python is looking through"
   ]
  },
  {
   "cell_type": "markdown",
   "metadata": {},
   "source": [
    "- See that `data/` is now a valid path \n",
    "- So now I can import from `hello.py`"
   ]
  },
  {
   "cell_type": "code",
   "execution_count": 26,
   "metadata": {},
   "outputs": [],
   "source": [
    "from hello import hello_world, PLANET"
   ]
  },
  {
   "cell_type": "code",
   "execution_count": 27,
   "metadata": {},
   "outputs": [
    {
     "data": {
      "text/plain": [
       "'Earth'"
      ]
     },
     "execution_count": 27,
     "metadata": {},
     "output_type": "execute_result"
    }
   ],
   "source": [
    "PLANET  # note that I can import variable defined in a .py file!"
   ]
  },
  {
   "cell_type": "code",
   "execution_count": 28,
   "metadata": {},
   "outputs": [
    {
     "name": "stdout",
     "output_type": "stream",
     "text": [
      "Hello Earth!\n"
     ]
    }
   ],
   "source": [
    "hello_world()"
   ]
  },
  {
   "cell_type": "markdown",
   "metadata": {},
   "source": [
    "### Packages"
   ]
  },
  {
   "cell_type": "markdown",
   "metadata": {},
   "source": [
    "- As your code gets more complex, grows in modules, and you wish to share it, you'll want to turn it into a Python package\n",
    "- Packages are logical collections of modules that can be easily imported\n",
    "- You'll learn about packages in DSCI 524 and will even create your own!\n",
    "- In the meantime, feel free to take a look at the [py-pkgs book](https://ubc-mds.github.io/py-pkgs/) that Tiffany and I wrote\n",
    "- For now, we'll be using other people's packages popular data science packages, specifically, next lecture we'll look at `numpy`: \"the fundamental package for scientific computing with Python\""
   ]
  },
  {
   "cell_type": "markdown",
   "metadata": {},
   "source": [
    "#### Importing installed packages"
   ]
  },
  {
   "cell_type": "markdown",
   "metadata": {},
   "source": [
    "- In the next few lectures we'll be using the `numpy` and `pandas` packages which you installed in the [MDS software stack install instructions](https://ubc-mds.github.io/resources_pages/install_ds_stack_mac/)\n",
    "- When you installed those, they were put in a location on your computer that Python already knows about, so we can simply import them at will"
   ]
  },
  {
   "cell_type": "code",
   "execution_count": 29,
   "metadata": {},
   "outputs": [],
   "source": [
    "import numpy as np"
   ]
  },
  {
   "cell_type": "code",
   "execution_count": 30,
   "metadata": {},
   "outputs": [
    {
     "data": {
      "text/plain": [
       "array([1, 2, 3])"
      ]
     },
     "execution_count": 30,
     "metadata": {},
     "output_type": "execute_result"
    }
   ],
   "source": [
    "np.array([1, 2, 3])"
   ]
  },
  {
   "cell_type": "code",
   "execution_count": 31,
   "metadata": {},
   "outputs": [
    {
     "data": {
      "text/plain": [
       "array([5, 1, 0])"
      ]
     },
     "execution_count": 31,
     "metadata": {},
     "output_type": "execute_result"
    }
   ],
   "source": [
    "np.random.randint(0, 10, 3)"
   ]
  },
  {
   "cell_type": "markdown",
   "metadata": {},
   "source": [
    "- There are plenty of packages that come with the [Python Standard Library](https://docs.python.org/3/library/) - these do not require installation with `conda` and you'll come across them throughout your data science journey, I'll show one example, `random`, below\n",
    "- But for more advanced stuff you'll to install and use packages like `numpy`, `pandas` and others\n",
    "- If you need some specific functionality, make sure you check if there's a package for it (there often is!)\n",
    "- For example, one functionality I often want is a progress bar when looping over a `for` loop:\n",
    "- This is available in the [tqdm package](https://github.com/tqdm/tqdm):"
   ]
  },
  {
   "cell_type": "code",
   "execution_count": 32,
   "metadata": {},
   "outputs": [
    {
     "name": "stderr",
     "output_type": "stream",
     "text": [
      "100%|██████████| 1000000/1000000 [00:00<00:00, 1864210.51it/s]\n"
     ]
    }
   ],
   "source": [
    "from tqdm import tqdm\n",
    "for i in tqdm(range(int(10e5))):\n",
    "    i ** 2"
   ]
  },
  {
   "cell_type": "markdown",
   "metadata": {},
   "source": [
    "### Some annoying facts of life"
   ]
  },
  {
   "cell_type": "markdown",
   "metadata": {},
   "source": [
    "- Sometimes, the module and the function you want to import might have the same name:"
   ]
  },
  {
   "cell_type": "code",
   "execution_count": 33,
   "metadata": {},
   "outputs": [],
   "source": [
    "import random  # this module is in the standard library!"
   ]
  },
  {
   "cell_type": "code",
   "execution_count": 34,
   "metadata": {},
   "outputs": [
    {
     "data": {
      "text/plain": [
       "0.9683813636961646"
      ]
     },
     "execution_count": 34,
     "metadata": {},
     "output_type": "execute_result"
    }
   ],
   "source": [
    "random.random()"
   ]
  },
  {
   "cell_type": "code",
   "execution_count": 35,
   "metadata": {},
   "outputs": [],
   "source": [
    "from random import random"
   ]
  },
  {
   "cell_type": "code",
   "execution_count": 36,
   "metadata": {},
   "outputs": [
    {
     "data": {
      "text/plain": [
       "0.5053924740216049"
      ]
     },
     "execution_count": 36,
     "metadata": {},
     "output_type": "execute_result"
    }
   ],
   "source": [
    "random()"
   ]
  },
  {
   "cell_type": "markdown",
   "metadata": {},
   "source": [
    "- Sometimes you may need to explicitly import submodules to use them\n",
    "- This is because some large packages don't import all contained modules automatically, they need to be imported directly:"
   ]
  },
  {
   "cell_type": "code",
   "execution_count": 37,
   "metadata": {},
   "outputs": [],
   "source": [
    "import scipy"
   ]
  },
  {
   "cell_type": "code",
   "execution_count": 38,
   "metadata": {
    "tags": [
     "raises-exception"
    ]
   },
   "outputs": [
    {
     "ename": "AttributeError",
     "evalue": "module 'scipy' has no attribute 'stats'",
     "output_type": "error",
     "traceback": [
      "\u001b[0;31m---------------------------------------------------------------------------\u001b[0m",
      "\u001b[0;31mAttributeError\u001b[0m                            Traceback (most recent call last)",
      "\u001b[0;32m<ipython-input-38-d2e1a58f1dd7>\u001b[0m in \u001b[0;36m<module>\u001b[0;34m\u001b[0m\n\u001b[0;32m----> 1\u001b[0;31m \u001b[0mscipy\u001b[0m\u001b[0;34m.\u001b[0m\u001b[0mstats\u001b[0m\u001b[0;34m\u001b[0m\u001b[0;34m\u001b[0m\u001b[0m\n\u001b[0m",
      "\u001b[0;31mAttributeError\u001b[0m: module 'scipy' has no attribute 'stats'"
     ]
    }
   ],
   "source": [
    "scipy.stats"
   ]
  },
  {
   "cell_type": "code",
   "execution_count": 39,
   "metadata": {},
   "outputs": [],
   "source": [
    "import scipy.stats"
   ]
  },
  {
   "cell_type": "code",
   "execution_count": 40,
   "metadata": {},
   "outputs": [
    {
     "data": {
      "text/plain": [
       "<module 'scipy.stats' from '/opt/miniconda3/lib/python3.7/site-packages/scipy/stats/__init__.py'>"
      ]
     },
     "execution_count": 40,
     "metadata": {},
     "output_type": "execute_result"
    }
   ],
   "source": [
    "scipy.stats"
   ]
  },
  {
   "cell_type": "markdown",
   "metadata": {},
   "source": [
    "- Finally, the import name and the install may not necessarily match (this is rare though)\n",
    "- scikit-learn (Python's main machine learning library) is a good example, it is installed with (you'll install this in DSCI 571):\n",
    "\n",
    "```\n",
    "conda install scikit-learn\n",
    "```\n",
    "- But is imported with `import sklearn` 🤷‍♂️"
   ]
  },
  {
   "cell_type": "markdown",
   "metadata": {},
   "source": [
    "## 4. Intriguing Behaviour in Python\n",
    "<hr>"
   ]
  },
  {
   "cell_type": "markdown",
   "metadata": {},
   "source": [
    "### References"
   ]
  },
  {
   "cell_type": "markdown",
   "metadata": {},
   "source": [
    "- What do you think the code below will print?"
   ]
  },
  {
   "cell_type": "code",
   "execution_count": 41,
   "metadata": {
    "collapsed": false,
    "jupyter": {
     "outputs_hidden": false
    }
   },
   "outputs": [
    {
     "data": {
      "text/plain": [
       "1"
      ]
     },
     "execution_count": 41,
     "metadata": {},
     "output_type": "execute_result"
    }
   ],
   "source": [
    "x = 1\n",
    "y = x\n",
    "x = 2\n",
    "y"
   ]
  },
  {
   "cell_type": "markdown",
   "metadata": {},
   "source": [
    "- And how about the next one?"
   ]
  },
  {
   "cell_type": "code",
   "execution_count": 42,
   "metadata": {},
   "outputs": [
    {
     "data": {
      "text/plain": [
       "[2]"
      ]
     },
     "execution_count": 42,
     "metadata": {},
     "output_type": "execute_result"
    }
   ],
   "source": [
    "x = [1]\n",
    "y = x\n",
    "x[0] = 2\n",
    "y"
   ]
  },
  {
   "cell_type": "markdown",
   "metadata": {},
   "source": [
    "- In Python, the list `x` is a **reference** to an object in the computer's memory. \n",
    "- When you set `y = x` these two variables now refer to the same object in memory - the one that `x` referred to.\n",
    "- Setting `x[0] = 2` modifies the object in memory. So `x` and `y` are both modified. \n",
    "  - It makes no different if you set `x[0] = 2` or `y[0] = 2`, both modify the same memory.\n",
    "- However, some basic built-in types `int`, `float`, `bool` etc are _exceptions_ to this logic:\n",
    "  - When you set `y = x` it actually copies the value `1`, so `x` and `y` are decoupled.\n",
    "  - Thus, the list example is actually the typical case, the integer example is the \"special\" case.  \n",
    "- Analogy:\n",
    "  - I share a Dropbox folder (or git repo) with you, and you modify it -- I sent you _the location of the stuff_ (this is like the list case)\n",
    "  - I send you an email with a file attached, you download it and modify the file -- I sent you _the stuff itself_ (this is like the integer case)\n",
    "- [This article](https://realpython.com/pointers-in-python/#names-in-python) does a great job of explaining all this in detail if you'd like to know more\n",
    "- What do you think will happen here:"
   ]
  },
  {
   "cell_type": "code",
   "execution_count": 43,
   "metadata": {},
   "outputs": [
    {
     "data": {
      "text/plain": [
       "[1]"
      ]
     },
     "execution_count": 43,
     "metadata": {},
     "output_type": "execute_result"
    }
   ],
   "source": [
    "x = [1]\n",
    "y = x\n",
    "x = [2] # before we had x[0] = 2\n",
    "y"
   ]
  },
  {
   "cell_type": "markdown",
   "metadata": {},
   "source": [
    "- Here we are not modifying the contents of `x`, we are setting `x` to refer to a new list `[2]`."
   ]
  },
  {
   "cell_type": "markdown",
   "metadata": {},
   "source": [
    "### Additional weirdness"
   ]
  },
  {
   "cell_type": "markdown",
   "metadata": {},
   "source": [
    "- We can use `id()` to return the unique id of an object in memory"
   ]
  },
  {
   "cell_type": "code",
   "execution_count": 44,
   "metadata": {},
   "outputs": [
    {
     "name": "stdout",
     "output_type": "stream",
     "text": [
      "x has the value: [ 6  7  8  9 10], id: 5740743696\n",
      "y has the value: [1 2 3 4 5], id: 5740743056\n"
     ]
    }
   ],
   "source": [
    "x = np.array([1, 2, 3, 4, 5])  # this is a numpy array which we'll see next lecture\n",
    "y = x\n",
    "x = x + 5\n",
    "\n",
    "print(f\"x has the value: {x}, id: {id(x)}\")\n",
    "print(f\"y has the value: {y}, id: {id(y)}\")"
   ]
  },
  {
   "cell_type": "code",
   "execution_count": 45,
   "metadata": {},
   "outputs": [
    {
     "name": "stdout",
     "output_type": "stream",
     "text": [
      "x has the value: [ 6  7  8  9 10], id: 4396733984\n",
      "y has the value: [ 6  7  8  9 10], id: 4396733984\n"
     ]
    }
   ],
   "source": [
    "x = np.array([1, 2, 3, 4, 5])\n",
    "y = x\n",
    "x += 5\n",
    "\n",
    "print(f\"x has the value: {x}, id: {id(x)}\")\n",
    "print(f\"y has the value: {y}, id: {id(y)}\")"
   ]
  },
  {
   "cell_type": "markdown",
   "metadata": {},
   "source": [
    "- So, it turns out `x += 5` is not identical `x = x + 5`.\n",
    "- The former modifies the contents of `x`.\n",
    "- The latter first evaluates `x + 5` to a new array of the same size, and then overwrites the name `x` with a reference to this new array."
   ]
  },
  {
   "cell_type": "markdown",
   "metadata": {},
   "source": [
    "- **But there's good news**: we don't need to memorize special rules for calling functions. \n",
    "- Copying happens with `int`, `float`, `bool`, (maybe some other ones I'm forgetting?),  the rest is \"by reference\"\n",
    "- Now you see why we care if objects are mutable or immutable... passing around a reference can be dangerous!\n",
    "- **General rule**: if you do `x = ...` then you're not modifying the original, but if you do `x.SOMETHING = y` or `x[SOMETHING] = y` or `x *= y` then you probably are."
   ]
  },
  {
   "cell_type": "markdown",
   "metadata": {},
   "source": [
    "### `copy` and `deepcopy`"
   ]
  },
  {
   "cell_type": "markdown",
   "metadata": {},
   "source": [
    "- We can force the certain copying behaviour using the `copy` library if we want to"
   ]
  },
  {
   "cell_type": "code",
   "execution_count": 46,
   "metadata": {},
   "outputs": [],
   "source": [
    "import copy  # part of the standard library"
   ]
  },
  {
   "cell_type": "code",
   "execution_count": 47,
   "metadata": {
    "collapsed": false,
    "jupyter": {
     "outputs_hidden": false
    }
   },
   "outputs": [
    {
     "data": {
      "text/plain": [
       "[2]"
      ]
     },
     "execution_count": 47,
     "metadata": {},
     "output_type": "execute_result"
    }
   ],
   "source": [
    "x = [1]\n",
    "y = x\n",
    "x[0] = 2\n",
    "y"
   ]
  },
  {
   "cell_type": "code",
   "execution_count": 48,
   "metadata": {},
   "outputs": [
    {
     "data": {
      "text/plain": [
       "[1]"
      ]
     },
     "execution_count": 48,
     "metadata": {},
     "output_type": "execute_result"
    }
   ],
   "source": [
    "x = [1]\n",
    "y = copy.copy(x)  # We \"copied\" x and saved that new object as y\n",
    "x[0] = 2\n",
    "y"
   ]
  },
  {
   "cell_type": "markdown",
   "metadata": {},
   "source": [
    "- Ok, so what do you think will happen here?"
   ]
  },
  {
   "cell_type": "code",
   "execution_count": 49,
   "metadata": {
    "collapsed": false,
    "jupyter": {
     "outputs_hidden": false
    }
   },
   "outputs": [
    {
     "name": "stdout",
     "output_type": "stream",
     "text": [
      "After copy.copy():\n",
      "[[1], [2, 99], [3, 'hi']]\n",
      "[[1], [2, 99], [3, 'hi']]\n",
      "\n",
      "After modifying x:\n",
      "[['pikachu'], [2, 99], [3, 'hi']]\n",
      "[['pikachu'], [2, 99], [3, 'hi']]\n"
     ]
    }
   ],
   "source": [
    "x = [[1], [2, 99], [3, \"hi\"]]  # a list of lists\n",
    "\n",
    "y = copy.copy(x)\n",
    "print(\"After copy.copy():\")\n",
    "print(x)\n",
    "print(y)\n",
    "\n",
    "x[0][0] = \"pikachu\"\n",
    "print(\"\")\n",
    "print(\"After modifying x:\")\n",
    "print(x)\n",
    "print(y)"
   ]
  },
  {
   "cell_type": "markdown",
   "metadata": {},
   "source": [
    "- But wait.. we used `copy`, why are `x` and `y` both changed in the latter example?\n",
    "- `copy` makes the _containers_ different, i.e., only the outer list. \n",
    "- But the outer lists contain references to objects which were not copied!\n",
    "- This is what happens after `y = copy.copy(x)`:\n",
    "\n",
    "![](img/lecture4/copy.png)"
   ]
  },
  {
   "cell_type": "markdown",
   "metadata": {},
   "source": [
    "- We can use `is` to tell apart these scenarios (as opposed to `==`)\n",
    "- `is` tells us if two objects are referring to the same object in memory, while `==` tells us if their contents are the same"
   ]
  },
  {
   "cell_type": "code",
   "execution_count": 50,
   "metadata": {},
   "outputs": [
    {
     "data": {
      "text/plain": [
       "True"
      ]
     },
     "execution_count": 50,
     "metadata": {},
     "output_type": "execute_result"
    }
   ],
   "source": [
    "x == y # they are both lists containing the same lists"
   ]
  },
  {
   "cell_type": "code",
   "execution_count": 51,
   "metadata": {},
   "outputs": [
    {
     "data": {
      "text/plain": [
       "False"
      ]
     },
     "execution_count": 51,
     "metadata": {},
     "output_type": "execute_result"
    }
   ],
   "source": [
    "x is y # but they are not the *same* lists of lists"
   ]
  },
  {
   "cell_type": "markdown",
   "metadata": {},
   "source": [
    "- So, by that logic we should be able to append to `y` without affecting `x`"
   ]
  },
  {
   "cell_type": "code",
   "execution_count": 52,
   "metadata": {},
   "outputs": [
    {
     "name": "stdout",
     "output_type": "stream",
     "text": [
      "[['pikachu'], [2, 99], [3, 'hi']]\n",
      "[['pikachu'], [2, 99], [3, 'hi'], 5]\n"
     ]
    }
   ],
   "source": [
    "y.append(5)\n",
    "\n",
    "print(x)\n",
    "print(y)"
   ]
  },
  {
   "cell_type": "code",
   "execution_count": 53,
   "metadata": {},
   "outputs": [
    {
     "data": {
      "text/plain": [
       "False"
      ]
     },
     "execution_count": 53,
     "metadata": {},
     "output_type": "execute_result"
    }
   ],
   "source": [
    "x == y"
   ]
  },
  {
   "cell_type": "markdown",
   "metadata": {},
   "source": [
    "- That makes sense, as weird as it seems:\n",
    "\n",
    "![](img/lecture4/copy-append.png)"
   ]
  },
  {
   "cell_type": "markdown",
   "metadata": {},
   "source": [
    "- In short, `copy` only copies one level down.\n",
    "- What if we want to copy everything? i.e., even the inner lists in our outer list...\n",
    "- Enter our friend `deepcopy`:"
   ]
  },
  {
   "cell_type": "code",
   "execution_count": 54,
   "metadata": {
    "collapsed": false,
    "jupyter": {
     "outputs_hidden": false
    }
   },
   "outputs": [
    {
     "name": "stdout",
     "output_type": "stream",
     "text": [
      "[['pikachu'], [2, 99], [3, 'hi']]\n",
      "[[1], [2, 99], [3, 'hi']]\n"
     ]
    }
   ],
   "source": [
    "x = [[1], [2, 99], [3, \"hi\"]]\n",
    "\n",
    "y = copy.deepcopy(x)\n",
    "\n",
    "x[0][0] = \"pikachu\"\n",
    "print(x)\n",
    "print(y)"
   ]
  },
  {
   "cell_type": "markdown",
   "metadata": {},
   "source": [
    "![](img/lecture4/deep-copy.png)"
   ]
  },
  {
   "cell_type": "markdown",
   "metadata": {},
   "source": [
    "- Find a whole compilation of more intriguing behaviour in Python [here](https://github.com/satwikkansal/wtfpython/blob/master/README.md)!"
   ]
  }
 ],
 "metadata": {
  "kernelspec": {
   "display_name": "Python 3",
   "language": "python",
   "name": "python3"
  },
  "language_info": {
   "codemirror_mode": {
    "name": "ipython",
    "version": 3
   },
   "file_extension": ".py",
   "mimetype": "text/x-python",
   "name": "python",
   "nbconvert_exporter": "python",
   "pygments_lexer": "ipython3",
   "version": "3.7.8"
  },
  "toc": {
   "base_numbering": 1,
   "nav_menu": {},
   "number_sections": false,
   "sideBar": true,
   "skip_h1_title": true,
   "title_cell": "Lecture Outline",
   "title_sidebar": "Contents",
   "toc_cell": true,
   "toc_position": {},
   "toc_section_display": true,
   "toc_window_display": true
  }
 },
 "nbformat": 4,
 "nbformat_minor": 4
}
