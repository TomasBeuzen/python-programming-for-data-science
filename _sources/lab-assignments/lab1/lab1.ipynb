{
 "cells": [
  {
   "cell_type": "markdown",
   "metadata": {},
   "source": [
    "![](img/511_banner.png)"
   ]
  },
  {
   "cell_type": "markdown",
   "metadata": {},
   "source": [
    "# Lab 1: Python Basics, Loops & Functions\n",
    "\n",
    "**Tomas Beuzen, September 2020**"
   ]
  },
  {
   "cell_type": "markdown",
   "metadata": {},
   "source": [
    "In this lab, you'll complete various exercises related to Python basics, loops & functions. Many of these exercises require you to combine multiple different Python data types, functions, and concepts to solve them."
   ]
  },
  {
   "cell_type": "markdown",
   "metadata": {
    "toc": true
   },
   "source": [
    "<h2>Table of Contents<span class=\"tocSkip\"></span></h2>\n",
    "<div class=\"toc\"><ul class=\"toc-item\"><li><span><a href=\"#Exercise-1:-Warming-Up\" data-toc-modified-id=\"Exercise-1:-Warming-Up-2\">Exercise 1: Warming Up</a></span></li><li><span><a href=\"#Exercise-2:-Treasure-Hunt\" data-toc-modified-id=\"Exercise-2:-Treasure-Hunt-3\">Exercise 2: Treasure Hunt</a></span></li><li><span><a href=\"#Exercise-3:-Practice-with-Loops\" data-toc-modified-id=\"Exercise-3:-Practice-with-Loops-4\">Exercise 3: Practice with Loops</a></span></li><li><span><a href=\"#(OPTIONAL)-Exercise-4:-Making-Sushi\" data-toc-modified-id=\"(OPTIONAL)-Exercise-4:-Making-Sushi-5\">(OPTIONAL) Exercise 4: Making Sushi</a></span></li><li><span><a href=\"#Exercise-5:-Working-with-Strings\" data-toc-modified-id=\"Exercise-5:-Working-with-Strings-6\">Exercise 5: Working with Strings</a></span></li><li><span><a href=\"#(OPTIONAL)-Exercise-6:-Python-Picasso\" data-toc-modified-id=\"(OPTIONAL)-Exercise-6:-Python-Picasso-7\">(OPTIONAL) Exercise 6: Python Picasso</a></span></li><li><span><a href=\"#Exercise-7:-Simulating-a-Random-Walk-in-2D\" data-toc-modified-id=\"Exercise-7:-Simulating-a-Random-Walk-in-2D-8\">Exercise 7: Simulating a Random Walk in 2D</a></span></li><li><span><a href=\"#Run-Autograding\" data-toc-modified-id=\"Run-Autograding-9\">Run Autograding</a></span></li><li><span><a href=\"#Submission-to-Canvas\" data-toc-modified-id=\"Submission-to-Canvas-10\">Submission to Canvas</a></span></li></ul></div>"
   ]
  },
  {
   "cell_type": "code",
   "execution_count": 1,
   "metadata": {},
   "outputs": [],
   "source": [
    "# These imports are required to build some of the questions in this lab and run tests.\n",
    "# You will not have to use them in your solutions, but you do need to run this cell.\n",
    "# We'll learn more about imports in a later lectuer.\n",
    "import string\n",
    "import numpy as np\n",
    "from random import random"
   ]
  },
  {
   "cell_type": "markdown",
   "metadata": {
    "nbgrader": {
     "grade": false,
     "grade_id": "cell-e4924cf1f1f748f6",
     "locked": true,
     "schema_version": 3,
     "solution": false,
     "task": false
    }
   },
   "source": [
    "## Exercise 1: Warming Up\n",
    "<hr>"
   ]
  },
  {
   "cell_type": "markdown",
   "metadata": {
    "nbgrader": {
     "grade": false,
     "grade_id": "cell-a2c6dbcd34b94600",
     "locked": true,
     "schema_version": 3,
     "solution": false,
     "task": false
    }
   },
   "source": [
    "### 1.1\n",
    "rubric={autograde:1}"
   ]
  },
  {
   "cell_type": "markdown",
   "metadata": {},
   "source": [
    "Given the list `numbers` below, use a `for` loop and `if/else` statement that squares the even numbers in `numbers` and cubes the odd numbers in `numbers`."
   ]
  },
  {
   "cell_type": "code",
   "execution_count": 2,
   "metadata": {
    "nbgrader": {
     "grade": false,
     "grade_id": "cell-1060ef13f5288a42",
     "locked": false,
     "schema_version": 3,
     "solution": true,
     "task": false
    }
   },
   "outputs": [],
   "source": [
    "numbers = [1, 4, 7, 10]\n",
    "for n in numbers:\n",
    "    pass  # remove if providing a solution"
   ]
  },
  {
   "cell_type": "code",
   "execution_count": 3,
   "metadata": {},
   "outputs": [],
   "source": [
    "# Your answer goes here."
   ]
  },
  {
   "cell_type": "markdown",
   "metadata": {
    "nbgrader": {
     "grade": false,
     "grade_id": "cell-8bd589dc14de17c9",
     "locked": true,
     "schema_version": 3,
     "solution": false,
     "task": false
    }
   },
   "source": [
    "### 1.2\n",
    "rubric={autograde:1}"
   ]
  },
  {
   "cell_type": "markdown",
   "metadata": {},
   "source": [
    "Given this sentence: \"Make this sentence more Pythonic!\". Do the following:\n",
    "1. Make all letters lowercase; \n",
    "2. Replace spaces with underscores (`_`);\n",
    "3. Remove punctuation.\n",
    "\n",
    "`sentence` should look like this:\n",
    "\n",
    "```python\n",
    "'make_this_sentence_more_pythonic'\n",
    "```\n",
    "\n",
    "Be sure to save your result back as the variable `sentence`."
   ]
  },
  {
   "cell_type": "code",
   "execution_count": 4,
   "metadata": {
    "nbgrader": {
     "grade": false,
     "grade_id": "cell-b0464db7e81161c8",
     "locked": false,
     "schema_version": 3,
     "solution": true,
     "task": false
    }
   },
   "outputs": [],
   "source": [
    "sentence = \"Make this sentence more Pythonic!\""
   ]
  },
  {
   "cell_type": "code",
   "execution_count": 5,
   "metadata": {},
   "outputs": [],
   "source": [
    "# Your answer goes here."
   ]
  },
  {
   "cell_type": "markdown",
   "metadata": {
    "nbgrader": {
     "grade": false,
     "grade_id": "cell-ff81b6db72de052d",
     "locked": true,
     "schema_version": 3,
     "solution": false,
     "task": false
    }
   },
   "source": [
    "### 1.3\n",
    "rubric={autograde:1}"
   ]
  },
  {
   "cell_type": "markdown",
   "metadata": {},
   "source": [
    "Combine all the values of the dictionary below (not the keys) into a single list called `d_list`. Your final list should contain a string, a list, and a float respectively and look like this:\n",
    "\n",
    "```python\n",
    "['MDS 2020', [4, 2, 1], 3.141]\n",
    "```"
   ]
  },
  {
   "cell_type": "code",
   "execution_count": 6,
   "metadata": {
    "nbgrader": {
     "grade": false,
     "grade_id": "cell-81b468e7cf64c58f",
     "locked": false,
     "schema_version": 3,
     "solution": true,
     "task": false
    }
   },
   "outputs": [],
   "source": [
    "d = {\"a\": \"MDS 2020\",\n",
    "     \"b\": [4, 2, 1],\n",
    "     \"c\": 3.141}\n",
    "d_list = None"
   ]
  },
  {
   "cell_type": "code",
   "execution_count": 7,
   "metadata": {},
   "outputs": [],
   "source": [
    "# Your answer goes here."
   ]
  },
  {
   "cell_type": "markdown",
   "metadata": {
    "nbgrader": {
     "grade": false,
     "grade_id": "cell-85f9481be8568374",
     "locked": true,
     "schema_version": 3,
     "solution": false,
     "task": false
    }
   },
   "source": [
    "### 1.4\n",
    "rubric={autograde:1}"
   ]
  },
  {
   "cell_type": "markdown",
   "metadata": {},
   "source": [
    "For the `messy_list` below, remove all duplicate values, sort them in ascending order and store in a new list variable called `clean_list`, which should look like:\n",
    "\n",
    "```python\n",
    "[1, 2, 3, 4, 5, 6]\n",
    "```"
   ]
  },
  {
   "cell_type": "code",
   "execution_count": 8,
   "metadata": {
    "nbgrader": {
     "grade": false,
     "grade_id": "cell-2dbe03716cc136b7",
     "locked": false,
     "schema_version": 3,
     "solution": true,
     "task": false
    }
   },
   "outputs": [],
   "source": [
    "messy_list = [1, 1, 1, 2, 3, 4, 5, 5, 5, 6]\n",
    "clean_list = None"
   ]
  },
  {
   "cell_type": "code",
   "execution_count": 9,
   "metadata": {},
   "outputs": [],
   "source": [
    "# Your answer goes here."
   ]
  },
  {
   "cell_type": "markdown",
   "metadata": {},
   "source": [
    "## Exercise 2: Treasure Hunt\n",
    "<hr>"
   ]
  },
  {
   "cell_type": "markdown",
   "metadata": {},
   "source": [
    "For each of the following cases, index into the Python object to obtain the \"T\" (for Treasure). **Your code should always print out just \"T\" at the end**. In these questions, the goal is not to understand the code itself, which may be confusing. Instead, try to probe the types of the various objects. An example is shown below:\n",
    "\n",
    "```python\n",
    "x = (\"nothing\", {-i : l for i, l in enumerate(letters)})\n",
    "x[1][-19]\n",
    "'T'\n",
    "```\n",
    "\n",
    "In the example above, `type(x)` would reveal that `x` is a tuple, and `len(x)` would reveal that it has two elements. Element 0 just contains the string `\"nothing\"`, but Element 1 contains more stuff, hence `x[1]`. Then we can again probe `type(x[1])` and see that it's a dictionary. If you `print(x[1])` you'll see that the letter \"T\" corresponds to the key -19, hence `x[1][-19]`."
   ]
  },
  {
   "cell_type": "markdown",
   "metadata": {
    "nbgrader": {
     "grade": false,
     "grade_id": "cell-da17a18e9ddc003d",
     "locked": true,
     "schema_version": 3,
     "solution": false,
     "task": false
    }
   },
   "source": [
    "### 2.1\n",
    "rubric={accuracy:1}"
   ]
  },
  {
   "cell_type": "code",
   "execution_count": 10,
   "metadata": {},
   "outputs": [],
   "source": [
    "letters = string.ascii_uppercase\n",
    "x = [[letters[i] for i in range(26) if i % 2 == 0], [letters[i] for i in range(26) if i % 2 == 1]]"
   ]
  },
  {
   "cell_type": "code",
   "execution_count": 11,
   "metadata": {
    "nbgrader": {
     "grade": true,
     "grade_id": "cell-ff7015e9568b536b",
     "locked": false,
     "points": 0,
     "schema_version": 3,
     "solution": true,
     "task": false
    }
   },
   "outputs": [],
   "source": [
    "# Your answer goes here."
   ]
  },
  {
   "cell_type": "markdown",
   "metadata": {},
   "source": [
    "### 2.2\n",
    "rubric={accuracy:1}"
   ]
  },
  {
   "cell_type": "code",
   "execution_count": 12,
   "metadata": {},
   "outputs": [],
   "source": [
    "np.random.seed(1)\n",
    "x = np.random.choice(list(set(letters)-set(\"T\")),size=(100, 26),replace=True)\n",
    "x[np.random.randint(100), np.random.randint(26)] = \"T\""
   ]
  },
  {
   "cell_type": "code",
   "execution_count": 13,
   "metadata": {
    "nbgrader": {
     "grade": true,
     "grade_id": "cell-c4c99e07e2d841e2",
     "locked": false,
     "points": 0,
     "schema_version": 3,
     "solution": true,
     "task": false
    }
   },
   "outputs": [],
   "source": [
    "# Your answer goes here."
   ]
  },
  {
   "cell_type": "markdown",
   "metadata": {
    "nbgrader": {
     "grade": false,
     "grade_id": "cell-65b42f6332559d38",
     "locked": true,
     "schema_version": 3,
     "solution": false,
     "task": false
    }
   },
   "source": [
    "### 2.3\n",
    "rubric={accuracy:1}"
   ]
  },
  {
   "cell_type": "code",
   "execution_count": 14,
   "metadata": {},
   "outputs": [],
   "source": [
    "n = 26\n",
    "x = dict()\n",
    "for i in range(n):\n",
    "    x[string.ascii_lowercase[i]] = {string.ascii_lowercase[(j+1)%n] : [[letters[j]] if j-2==i else None] for j in range(n)}"
   ]
  },
  {
   "cell_type": "code",
   "execution_count": 15,
   "metadata": {
    "nbgrader": {
     "grade": true,
     "grade_id": "cell-bc7a5cf442da7357",
     "locked": false,
     "points": 0,
     "schema_version": 3,
     "solution": true,
     "task": false
    }
   },
   "outputs": [],
   "source": [
    "# Your answer goes here."
   ]
  },
  {
   "cell_type": "markdown",
   "metadata": {},
   "source": [
    "## Exercise 3: Practice with Loops\n",
    "<hr>"
   ]
  },
  {
   "cell_type": "markdown",
   "metadata": {
    "nbgrader": {
     "grade": false,
     "grade_id": "cell-e7e6bdf410567bab",
     "locked": true,
     "schema_version": 3,
     "solution": false,
     "task": false
    }
   },
   "source": [
    "### 3.1\n",
    "rubric={autograde:1}"
   ]
  },
  {
   "cell_type": "markdown",
   "metadata": {},
   "source": [
    "The [additive persistence](https://mathworld.wolfram.com/AdditivePersistence.html) of a number is the amount of times you have to consecutively sum the digits of the number until you are left with only a single digit number. For example:\n",
    "\n",
    "```python\n",
    "n = 9257\n",
    "9257 = 9 + 2 + 5 + 7 = 23\n",
    "23 = 2 + 3 = 5\n",
    "```\n",
    "\n",
    "The above took two repetitions so the additive persistence is 2. For a given number `n` use a `while` loop to calculate its additive persistence. Some starter code has been provided for you.\n",
    "\n",
    "*Hint*: you can determine the sum of the digits in a number using this code:\n",
    "\n",
    "```python\n",
    "number = 12345\n",
    "sum([int(digit) for digit in str(number)])\n",
    "15\n",
    "```"
   ]
  },
  {
   "cell_type": "code",
   "execution_count": 16,
   "metadata": {
    "nbgrader": {
     "grade": false,
     "grade_id": "cell-70a51d24e5e5f716",
     "locked": false,
     "schema_version": 3,
     "solution": true,
     "task": false
    }
   },
   "outputs": [],
   "source": [
    "def add_persistence(n):\n",
    "    pass\n",
    "# Uncomment the starter code below\n",
    "#     additive_persistence = 0\n",
    "#     while ...:\n",
    "#         ...\n",
    "#     return additive_persistence\n",
    "\n",
    "# Your answer goes here."
   ]
  },
  {
   "cell_type": "markdown",
   "metadata": {
    "nbgrader": {
     "grade": false,
     "grade_id": "cell-f1c669afecd48960",
     "locked": true,
     "schema_version": 3,
     "solution": false,
     "task": false
    }
   },
   "source": [
    "### 3.2\n",
    "rubric={autograde:1}"
   ]
  },
  {
   "cell_type": "markdown",
   "metadata": {},
   "source": [
    "The object `nested_list` below contains three lists as elements. Write a nested loop (i.e., a loop within a loop) to \"flatten\" `nested_list`, and store the result in a variable named `flat_list`. By \"flatten\", we mean to remove the nested structure so that `flat_list` contains the elements of the sub-lists, in the order seen below e.g., `[Sam, Sarah, Darcy, 34, 32, etc.]`."
   ]
  },
  {
   "cell_type": "code",
   "execution_count": 17,
   "metadata": {
    "nbgrader": {
     "grade": false,
     "grade_id": "cell-46a597d7c6fa01a1",
     "locked": false,
     "schema_version": 3,
     "solution": true
    }
   },
   "outputs": [],
   "source": [
    "nested_list = [[\"Tom\", \"Mike\", \"Tiffany\"], [34, 32, 30], [\"Strawberry\", \"Chocoloate\", \"Salted Caramel\"]]\n",
    "flat_list = None\n",
    "# Your answer goes here."
   ]
  },
  {
   "cell_type": "markdown",
   "metadata": {
    "nbgrader": {
     "grade": false,
     "grade_id": "cell-1fb19eea348f66b4",
     "locked": true,
     "schema_version": 3,
     "solution": false,
     "task": false
    }
   },
   "source": [
    "## (OPTIONAL) Exercise 4: Making Sushi\n",
    "<hr>\n",
    "\n",
    "rubric={accuracy:1}"
   ]
  },
  {
   "cell_type": "markdown",
   "metadata": {},
   "source": [
    "You have just taken over a sushi restaurant in Vancouver. As a data scientist you want to optimize the way you produce sushi for your customers, such that you never waste ingredients. Your most popular sushi is an Unagi (eel) roll. In a given night, you have access to different amounts of small pieces of Unagi (1 inch long), and big pieces of Unagi (5 inches long). Write a function to determine if you can create a roll of sushi of length `length` inches with only the given amount of small and big pieces of Unagi.\n",
    "\n",
    "**You may use as many or as few of the available pieces given, but you may not cut a big piece onto smaller pieces**.\n",
    "\n",
    "For example:\n",
    "\n",
    "```python\n",
    "def make_sushi(small, big, length):\n",
    "    # code\n",
    "\n",
    "# Example cases\n",
    "make_sushi(3, 1, 8)  # (use 3 small and 1 big)\n",
    "True\n",
    "make_sushi(3, 1, 9)  # (not possible)\n",
    "False\n",
    "make_sushi(3, 2, 10) # (use 0 small and 2 big)\n",
    "True\n",
    "make_sushi(2, 1, 8)  # (not possible)\n",
    "False\n",
    "```"
   ]
  },
  {
   "cell_type": "code",
   "execution_count": 18,
   "metadata": {
    "nbgrader": {
     "grade": false,
     "grade_id": "cell-d1a96bf464fd312f",
     "locked": false,
     "schema_version": 3,
     "solution": true,
     "task": false
    }
   },
   "outputs": [],
   "source": [
    "def make_sushi(small, big, length):\n",
    "    pass  # remove this line if providing a solution\n",
    "# Your answer goes here."
   ]
  },
  {
   "cell_type": "markdown",
   "metadata": {},
   "source": [
    "## Exercise 5: Working with Strings\n",
    "<hr>"
   ]
  },
  {
   "cell_type": "markdown",
   "metadata": {},
   "source": [
    "In this exercise, you'll practice working with strings and string methods."
   ]
  },
  {
   "cell_type": "markdown",
   "metadata": {
    "nbgrader": {
     "grade": false,
     "grade_id": "cell-765cfdd3054cced5",
     "locked": true,
     "schema_version": 3,
     "solution": false,
     "task": false
    }
   },
   "source": [
    "### 5.1\n",
    "rubric={autograde:1}"
   ]
  },
  {
   "cell_type": "markdown",
   "metadata": {},
   "source": [
    "Write a function `string_sorter(string)` that takes a string as an argument and returns the string in alphabetical order, with only the first letter capitalized. Assume that only english-language letters will be included in the passed string (i.e., no punctuation, numbers, spaces, etc).\n",
    "\n",
    "Here are some example inputs/outputs:\n",
    "\n",
    "```python\n",
    "string_sorter(\"dbeca\")\n",
    "\"Abcde\"\n",
    "string_sorter(\"HELLO\")\n",
    "\"Ehllo\"\n",
    "```"
   ]
  },
  {
   "cell_type": "code",
   "execution_count": 19,
   "metadata": {
    "nbgrader": {
     "grade": false,
     "grade_id": "cell-58f98a25184d0aa2",
     "locked": false,
     "schema_version": 3,
     "solution": true,
     "task": false
    }
   },
   "outputs": [],
   "source": [
    "def string_sorter(string):\n",
    "    pass  # remove this line if providing a solution\n",
    "# Your answer goes here."
   ]
  },
  {
   "cell_type": "markdown",
   "metadata": {
    "nbgrader": {
     "grade": false,
     "grade_id": "cell-075dc1c12e33ea92",
     "locked": true,
     "schema_version": 3,
     "solution": false,
     "task": false
    }
   },
   "source": [
    "### 5.2\n",
    "rubric={autograde:1}"
   ]
  },
  {
   "cell_type": "markdown",
   "metadata": {},
   "source": [
    "Write a function `longest_word(sentence)` that takes a sentence as input and returns the longest word. If there are two or more words that are the same length, return the first word from the string with that length. Ignore punctuation in the sentence.\n",
    "\n",
    "*Hint: the `isalpha()` method might be helpful here to determine if a word contains punctuation or not.**\n",
    "\n",
    "Here are some example inputs/outputs:\n",
    "\n",
    "```python\n",
    "longest_word(\"My name is Tom.\")\n",
    "\"name\"\n",
    "longest_word(\"I love Python & R!!!\")\n",
    "\"Python\"\n",
    "```"
   ]
  },
  {
   "cell_type": "code",
   "execution_count": 20,
   "metadata": {
    "nbgrader": {
     "grade": false,
     "grade_id": "cell-dc8f2bbecd6725e8",
     "locked": false,
     "schema_version": 3,
     "solution": true,
     "task": false
    }
   },
   "outputs": [],
   "source": [
    "def longest_word(sentence):\n",
    "    pass  # remove this line if providing a solution\n",
    "# Your answer goes here."
   ]
  },
  {
   "cell_type": "markdown",
   "metadata": {
    "nbgrader": {
     "grade": false,
     "grade_id": "cell-2501aec05da7e3ef",
     "locked": true,
     "schema_version": 3,
     "solution": false,
     "task": false
    }
   },
   "source": [
    "### 5.3\n",
    "rubric={autograde:1}"
   ]
  },
  {
   "cell_type": "markdown",
   "metadata": {},
   "source": [
    "Writing readable and consistent docstrings are important for documenting your code, but also for helping other applications/software read and parse your documentation (for example, how Jupyter renders a docstring to html and displays it when you use `shift + tab`). Your task is to write a function called `parse_docstring(function)` that accepts another function as an argument, and returns a list of the passed function's input arguments.\n",
    "\n",
    "As an example, recall the `make_palindrome()` function from Lecture 2:"
   ]
  },
  {
   "cell_type": "code",
   "execution_count": 21,
   "metadata": {},
   "outputs": [],
   "source": [
    "def make_palindrome(string):\n",
    "    \"\"\"Turns the string into a palindrome by concatenating \n",
    "    itself with a reversed version of itself.\n",
    "    \n",
    "    Parameters\n",
    "    ----------\n",
    "    string : str\n",
    "        The string to turn into a palindrome.\n",
    "        \n",
    "    Returns\n",
    "    -------\n",
    "    str\n",
    "        string concatenated with a reversed version of string\n",
    "        \n",
    "    Examples\n",
    "    --------\n",
    "    >>> make_palindrome('tom')\n",
    "    'tommot'\n",
    "    \"\"\"\n",
    "    return string + string[::-1]"
   ]
  },
  {
   "cell_type": "markdown",
   "metadata": {},
   "source": [
    "Your function should behave as follows:\n",
    "\n",
    "```python\n",
    "parse_docstring(make_palindrome)\n",
    "[\"string\"]  # only one input argument to extract here\n",
    "```\n",
    "\n",
    "Here are some other examples:\n",
    "\n",
    "```python\n",
    "import numpy as np  # we'll learn about what this line is and what \"import\" means in a later lecture\n",
    "\n",
    "parse_docstring(np.arange)\n",
    "['start', 'stop', 'step', 'dtype']\n",
    "parse_docstring(np.array)\n",
    "['object', 'dtype', 'copy', 'order', 'subok', 'ndmin']\n",
    "```\n",
    "\n",
    "*Hint*: you can read a function's docstring as a string using `docstring = function.__doc__`, you should then take a look at the variable `docstring` and look for patterns you can use to extract input arguments using string methods like `.find()`, `.replace()`, etc\n",
    "\n",
    "*Note: we'll learn how to parse these docstrings much more efficiently using regular expressions (regex) in a later lecture.*"
   ]
  },
  {
   "cell_type": "code",
   "execution_count": 22,
   "metadata": {
    "nbgrader": {
     "grade": false,
     "grade_id": "cell-8c44199f2785fe1d",
     "locked": false,
     "schema_version": 3,
     "solution": true,
     "task": false
    }
   },
   "outputs": [],
   "source": [
    "def parse_docstring(function):\n",
    "    pass  # remove this line if providing a solution\n",
    "# Your answer goes here."
   ]
  },
  {
   "cell_type": "markdown",
   "metadata": {},
   "source": [
    "## (OPTIONAL) Exercise 6: Python Picasso\n",
    "<hr>"
   ]
  },
  {
   "cell_type": "markdown",
   "metadata": {
    "nbgrader": {
     "grade": false,
     "grade_id": "cell-c1e316ad92946fe6",
     "locked": true,
     "schema_version": 3,
     "solution": false,
     "task": false
    }
   },
   "source": [
    "### 6.1\n",
    "rubric={accuracy:1}"
   ]
  },
  {
   "cell_type": "markdown",
   "metadata": {},
   "source": [
    "You're an up-and-coming abstract artist that uses Python to print artwork to your computer screen. Your artwork mostly involves printing the characters `*`, `O`, and `-` in various patterns. Let's start with some line art. Write a function `line_art(n)` that prints `n` characters to the screen with the following conditions:\n",
    "- The first and last character are printed as \"*\";\n",
    "- Every odd character is printed as \"-\";\n",
    "- Every even character is printed as \"O\" (the letter);\n",
    "- Each character is separated by a space \" \".\n",
    "\n",
    "You can assume that n is always > 3.\n",
    "\n",
    "For example:\n",
    "\n",
    "```python\n",
    "line_art(11)\n",
    "* O - O - O - O - O *\n",
    "line_art(3)\n",
    "* O *\n",
    "```\n",
    "\n",
    "*Hint: my solution combines list comprehenssion, an if/else statement, and converting a list to a string using `\"\".join(some_list)`.*"
   ]
  },
  {
   "cell_type": "code",
   "execution_count": 23,
   "metadata": {
    "nbgrader": {
     "grade": true,
     "grade_id": "cell-ef451a15f3e24512",
     "locked": false,
     "points": 0,
     "schema_version": 3,
     "solution": true,
     "task": false
    }
   },
   "outputs": [],
   "source": [
    "def line_art(n):\n",
    "    pass  # remove this line if providing a solution\n",
    "# Your answer goes here."
   ]
  },
  {
   "cell_type": "markdown",
   "metadata": {
    "nbgrader": {
     "grade": false,
     "grade_id": "cell-695dc749bd5e3141",
     "locked": true,
     "schema_version": 3,
     "solution": false,
     "task": false
    }
   },
   "source": [
    "### 6.2\n",
    "rubric={accuracy:1}"
   ]
  },
  {
   "cell_type": "markdown",
   "metadata": {},
   "source": [
    "You're Python \"line art\" was a total hit and your customers are now asking for square art. Write a function `square_art(n)` that prints a square of \"artwork\" to the screen of size `n` rows and `n` columns, with the following conditions:\n",
    "- The border of the artwork must be \"*\";\n",
    "- If the row and column are both odd, print \"-\";\n",
    "- Otherwise print \"O\".\n",
    "\n",
    "Here's an example:\n",
    "\n",
    "```python\n",
    "square_art(5)\n",
    "* * * * * \n",
    "* O O O *\n",
    "* O - O *\n",
    "* O O O *\n",
    "* * * * * \n",
    "\n",
    "square_art(15)\n",
    "* * * * * * * * * * * * * * * \n",
    "* O O O O O O O O O O O O O *\n",
    "* O - O - O - O - O - O - O *\n",
    "* O O O O O O O O O O O O O *\n",
    "* O - O - O - O - O - O - O *\n",
    "* O O O O O O O O O O O O O *\n",
    "* O - O - O - O - O - O - O *\n",
    "* O O O O O O O O O O O O O *\n",
    "* O - O - O - O - O - O - O *\n",
    "* O O O O O O O O O O O O O *\n",
    "* O - O - O - O - O - O - O *\n",
    "* O O O O O O O O O O O O O *\n",
    "* O - O - O - O - O - O - O *\n",
    "* O O O O O O O O O O O O O *\n",
    "* * * * * * * * * * * * * * * \n",
    "```\n",
    "\n",
    "\n",
    "*Hint: I recommend printing one row/column at a time.*"
   ]
  },
  {
   "cell_type": "code",
   "execution_count": 24,
   "metadata": {
    "nbgrader": {
     "grade": true,
     "grade_id": "cell-574ecb0a4e78f5bb",
     "locked": false,
     "points": 0,
     "schema_version": 3,
     "solution": true,
     "task": false
    }
   },
   "outputs": [],
   "source": [
    "def square_art(n):\n",
    "    pass  # remove this line if providing a solution\n",
    "# Your answer goes here."
   ]
  },
  {
   "cell_type": "markdown",
   "metadata": {
    "nbgrader": {
     "grade": false,
     "grade_id": "cell-5b05868fe8a29357",
     "locked": true,
     "schema_version": 3,
     "solution": false,
     "task": false
    }
   },
   "source": [
    "## Exercise 7: Simulating a Random Walk in 2D\n",
    "rubric={accuracy:3,quality:3}\n",
    "\n",
    "An MDS student falls asleep watching Tom's lecture online and begins sleepwalking randomly, starting outside of their home. The student repeatedly takes one step at random, either north, east, south, or west, each with probability 25%. How far will the student be from the classroom after $T$ steps? \n",
    "\n",
    "Write a function\n",
    "`random_walker(T)` that takes an integer argument `T` and simulates the motion of this random sleepwalker for $T$ steps. After each step, print the location of the random walker, treating the front door as the origin $(0, 0)$. The function should return the Euclidean distance from the origin **rounded to 2 decimal places** (hint: use the `round()` function), i.e.:\n",
    "\n",
    "$$ distance = \\sqrt{x^2+y^2} $$\n",
    "\n",
    "An example run is shown below, and illustrated in the figure below (you do **NOT** need to produce a plot as part of this assignment, this is just for illustration purposes). \n",
    "\n",
    "![](img/random-walk.png)\n",
    "\n",
    "For the random part, you can generate a random number between $0$ and $1$ using `random()` (which we loaded at the top of this lab with `from random import random`). Then, to make something happen with 25% probability, you can check if this number is less than $0.25$ - if yes, step a direction, if not, is it less than $0.50$ - if yes, step a different direction, if not, etc.\n",
    "\n",
    "Here is an example output for one run of the code called with `random_walker(10)` (keep in mind that, due to randomness, your program will not produce the same output every time you run it!).\n",
    "\n",
    "```python\n",
    "random_walker(10)\n",
    "(0, -1)\n",
    "(0, -2)\n",
    "(1, -2)\n",
    "(1, -3)\n",
    "(2, -3)\n",
    "(2, -2)\n",
    "(2, -3)\n",
    "(2, -4)\n",
    "(1, -4)\n",
    "(0, -4)\n",
    "4\n",
    "```\n",
    "\n",
    "Attribution: This exercise adapted with permission from COS 126, [Conditionals and Loops](http://www.cs.princeton.edu/courses/archive/fall10/cos126/assignments/loops.html)."
   ]
  },
  {
   "cell_type": "code",
   "execution_count": 25,
   "metadata": {},
   "outputs": [
    {
     "data": {
      "text/plain": [
       "0.9844857650879724"
      ]
     },
     "execution_count": 25,
     "metadata": {},
     "output_type": "execute_result"
    }
   ],
   "source": [
    "# example of generating a random number\n",
    "random()"
   ]
  },
  {
   "cell_type": "code",
   "execution_count": 26,
   "metadata": {
    "nbgrader": {
     "grade": true,
     "grade_id": "cell-a9dc7bd38c91f94c",
     "locked": false,
     "points": 0,
     "schema_version": 3,
     "solution": true,
     "task": false
    }
   },
   "outputs": [],
   "source": [
    "def random_walker(n):\n",
    "    pass  # remove this line if providing a solution\n",
    "\n",
    "# Your answer goes here."
   ]
  }
 ],
 "metadata": {
  "celltoolbar": "Create Assignment",
  "kernelspec": {
   "display_name": "Python 3",
   "language": "python",
   "name": "python3"
  },
  "language_info": {
   "codemirror_mode": {
    "name": "ipython",
    "version": 3
   },
   "file_extension": ".py",
   "mimetype": "text/x-python",
   "name": "python",
   "nbconvert_exporter": "python",
   "pygments_lexer": "ipython3",
   "version": "3.7.8"
  },
  "toc": {
   "base_numbering": 1,
   "nav_menu": {},
   "number_sections": false,
   "sideBar": true,
   "skip_h1_title": true,
   "title_cell": "Table of Contents",
   "title_sidebar": "Contents",
   "toc_cell": true,
   "toc_position": {},
   "toc_section_display": true,
   "toc_window_display": true
  }
 },
 "nbformat": 4,
 "nbformat_minor": 4
}
