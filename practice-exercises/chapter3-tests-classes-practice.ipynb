{
 "cells": [
  {
   "cell_type": "markdown",
   "metadata": {},
   "source": [
    "![](../docs/banner.png)"
   ]
  },
  {
   "cell_type": "markdown",
   "metadata": {},
   "source": [
    "# Unit Tests & Classes\n",
    "\n",
    "**Tomas Beuzen, September 2020**"
   ]
  },
  {
   "cell_type": "markdown",
   "metadata": {},
   "source": [
    "These exercises complement [Chapter 3](../chapters/chapter3-tests-classes.ipynb)."
   ]
  },
  {
   "cell_type": "code",
   "execution_count": 1,
   "metadata": {},
   "outputs": [],
   "source": [
    "import math"
   ]
  },
  {
   "cell_type": "markdown",
   "metadata": {},
   "source": [
    "## Exercises"
   ]
  },
  {
   "cell_type": "markdown",
   "metadata": {},
   "source": [
    "### 1."
   ]
  },
  {
   "cell_type": "markdown",
   "metadata": {},
   "source": [
    "The function `area()` accepts the argument `radius` and calculates the area of a circle. Write three tests using `assert` statements for the following conditions:\n",
    "1. Assert that `area(1)` returns a `float`;\n",
    "2. Assert that `area(0)` returns a value of 0;\n",
    "3. Assert that `area(5)` is approximately equal to 78.5 (hint: `math.isclose(..., abs_tol=0.1)`)"
   ]
  },
  {
   "cell_type": "code",
   "execution_count": 2,
   "metadata": {},
   "outputs": [],
   "source": [
    "def area(radius):\n",
    "    \"\"\"Calculate the area of a circle based on the given radius.\"\"\"\n",
    "    return math.pi * radius ** 2"
   ]
  },
  {
   "cell_type": "code",
   "execution_count": 3,
   "metadata": {},
   "outputs": [],
   "source": [
    "# Your answer here."
   ]
  },
  {
   "cell_type": "markdown",
   "metadata": {},
   "source": [
    "### 2."
   ]
  },
  {
   "cell_type": "markdown",
   "metadata": {},
   "source": [
    "In the spirit of the EAFP (easier to ask for forgiveness than permission) philosophy. Modify the code of the function `area()` and add a `try`/`except` statement to catch the type error raised by passing a string to `area()` as shown below:"
   ]
  },
  {
   "cell_type": "code",
   "execution_count": 4,
   "metadata": {
    "tags": [
     "raises-exception"
    ]
   },
   "outputs": [
    {
     "ename": "TypeError",
     "evalue": "unsupported operand type(s) for ** or pow(): 'str' and 'int'",
     "output_type": "error",
     "traceback": [
      "\u001b[0;31m---------------------------------------------------------------------------\u001b[0m",
      "\u001b[0;31mTypeError\u001b[0m                                 Traceback (most recent call last)",
      "\u001b[0;32m<ipython-input-4-28e1bc493b84>\u001b[0m in \u001b[0;36m<module>\u001b[0;34m\u001b[0m\n\u001b[0;32m----> 1\u001b[0;31m \u001b[0marea\u001b[0m\u001b[0;34m(\u001b[0m\u001b[0;34m'10'\u001b[0m\u001b[0;34m)\u001b[0m\u001b[0;34m\u001b[0m\u001b[0;34m\u001b[0m\u001b[0m\n\u001b[0m",
      "\u001b[0;32m<ipython-input-2-13e66cca8177>\u001b[0m in \u001b[0;36marea\u001b[0;34m(radius)\u001b[0m\n\u001b[1;32m      1\u001b[0m \u001b[0;32mdef\u001b[0m \u001b[0marea\u001b[0m\u001b[0;34m(\u001b[0m\u001b[0mradius\u001b[0m\u001b[0;34m)\u001b[0m\u001b[0;34m:\u001b[0m\u001b[0;34m\u001b[0m\u001b[0;34m\u001b[0m\u001b[0m\n\u001b[1;32m      2\u001b[0m     \u001b[0;34m\"\"\"Calculate the area of a circle based on the given radius.\"\"\"\u001b[0m\u001b[0;34m\u001b[0m\u001b[0;34m\u001b[0m\u001b[0m\n\u001b[0;32m----> 3\u001b[0;31m     \u001b[0;32mreturn\u001b[0m \u001b[0mmath\u001b[0m\u001b[0;34m.\u001b[0m\u001b[0mpi\u001b[0m \u001b[0;34m*\u001b[0m \u001b[0mradius\u001b[0m \u001b[0;34m**\u001b[0m \u001b[0;36m2\u001b[0m\u001b[0;34m\u001b[0m\u001b[0;34m\u001b[0m\u001b[0m\n\u001b[0m",
      "\u001b[0;31mTypeError\u001b[0m: unsupported operand type(s) for ** or pow(): 'str' and 'int'"
     ]
    }
   ],
   "source": [
    "area('10')"
   ]
  },
  {
   "cell_type": "code",
   "execution_count": 5,
   "metadata": {},
   "outputs": [],
   "source": [
    "def area(radius):\n",
    "    \"\"\"Calculate the area of a circle based on the given radius.\"\"\"\n",
    "    pass # Remove this line and add your answer here."
   ]
  },
  {
   "cell_type": "markdown",
   "metadata": {},
   "source": [
    "### 3."
   ]
  },
  {
   "cell_type": "markdown",
   "metadata": {},
   "source": [
    "In the spirit of the LBYL (look before you leap) philosophy. Modify the code of the function `area()` and add a conditional `if`/`else` statement to make sure that a user has passed a number (`int` or `float`) to the `area()` function. If they pass something else, raise a `TypeError`."
   ]
  },
  {
   "cell_type": "code",
   "execution_count": 6,
   "metadata": {},
   "outputs": [],
   "source": [
    "def area(radius):\n",
    "    \"\"\"Calculate the area of a circle based on the given radius.\"\"\"\n",
    "    pass # Remove this line and add your answer here."
   ]
  },
  {
   "cell_type": "markdown",
   "metadata": {},
   "source": [
    "### 4."
   ]
  },
  {
   "cell_type": "markdown",
   "metadata": {},
   "source": [
    "For this exercise I want you to create a class called `Circle`. It should have the following characteristics:\n",
    "1. It should be initiated with the argument `radius` and store this as an instance attribute.\n",
    "2. Have a method `area()` which calculates the area of the circle.\n",
    "3. Have a method `circumference()` which calculates the circumference of the circle.\n",
    "4. Have the method `__str__()` which is a special method in Python and controls what is output to the screen when you `print()` an instance of your class (learn more [here](https://realpython.com/lessons/how-and-when-use-__str__/)). The `print()` statement should print the string `f\"A Circle with radius {self.radius}\"`.\n",
    "\n",
    "I've provided some tests for you to check your class."
   ]
  },
  {
   "cell_type": "code",
   "execution_count": 7,
   "metadata": {},
   "outputs": [],
   "source": [
    "class Circle:\n",
    "    \"\"\"A circle with a radius r.\"\"\"\n",
    "\n",
    "    pass # Remove this line and add your answer here."
   ]
  },
  {
   "cell_type": "code",
   "execution_count": 8,
   "metadata": {
    "tags": [
     "raises-exception"
    ]
   },
   "outputs": [
    {
     "ename": "TypeError",
     "evalue": "Circle() takes no arguments",
     "output_type": "error",
     "traceback": [
      "\u001b[0;31m---------------------------------------------------------------------------\u001b[0m",
      "\u001b[0;31mTypeError\u001b[0m                                 Traceback (most recent call last)",
      "\u001b[0;32m<ipython-input-8-5dbdbcaa4346>\u001b[0m in \u001b[0;36m<module>\u001b[0;34m\u001b[0m\n\u001b[0;32m----> 1\u001b[0;31m \u001b[0;32massert\u001b[0m \u001b[0mCircle\u001b[0m\u001b[0;34m(\u001b[0m\u001b[0;36m3\u001b[0m\u001b[0;34m)\u001b[0m\u001b[0;34m.\u001b[0m\u001b[0mradius\u001b[0m \u001b[0;34m==\u001b[0m \u001b[0;36m3\u001b[0m\u001b[0;34m,\u001b[0m \u001b[0;34m\"Test 1 failed.\"\u001b[0m\u001b[0;34m\u001b[0m\u001b[0;34m\u001b[0m\u001b[0m\n\u001b[0m\u001b[1;32m      2\u001b[0m \u001b[0;32massert\u001b[0m \u001b[0mmath\u001b[0m\u001b[0;34m.\u001b[0m\u001b[0misclose\u001b[0m\u001b[0;34m(\u001b[0m\u001b[0mCircle\u001b[0m\u001b[0;34m(\u001b[0m\u001b[0;36m3\u001b[0m\u001b[0;34m)\u001b[0m\u001b[0;34m.\u001b[0m\u001b[0marea\u001b[0m\u001b[0;34m(\u001b[0m\u001b[0;34m)\u001b[0m\u001b[0;34m,\u001b[0m \u001b[0;36m28.3\u001b[0m\u001b[0;34m,\u001b[0m \u001b[0mabs_tol\u001b[0m\u001b[0;34m=\u001b[0m\u001b[0;36m0.1\u001b[0m\u001b[0;34m)\u001b[0m\u001b[0;34m,\u001b[0m \u001b[0;34m\"Test 2 failed.\"\u001b[0m\u001b[0;34m\u001b[0m\u001b[0;34m\u001b[0m\u001b[0m\n\u001b[1;32m      3\u001b[0m \u001b[0;32massert\u001b[0m \u001b[0mmath\u001b[0m\u001b[0;34m.\u001b[0m\u001b[0misclose\u001b[0m\u001b[0;34m(\u001b[0m\u001b[0mCircle\u001b[0m\u001b[0;34m(\u001b[0m\u001b[0;36m3\u001b[0m\u001b[0;34m)\u001b[0m\u001b[0;34m.\u001b[0m\u001b[0mcircumference\u001b[0m\u001b[0;34m(\u001b[0m\u001b[0;34m)\u001b[0m\u001b[0;34m,\u001b[0m \u001b[0;36m18.8\u001b[0m\u001b[0;34m,\u001b[0m \u001b[0mabs_tol\u001b[0m\u001b[0;34m=\u001b[0m\u001b[0;36m0.1\u001b[0m\u001b[0;34m)\u001b[0m\u001b[0;34m,\u001b[0m \u001b[0;34m\"Test 3 failed.\"\u001b[0m\u001b[0;34m\u001b[0m\u001b[0;34m\u001b[0m\u001b[0m\n\u001b[1;32m      4\u001b[0m \u001b[0;32massert\u001b[0m \u001b[0mCircle\u001b[0m\u001b[0;34m(\u001b[0m\u001b[0;36m3\u001b[0m\u001b[0;34m)\u001b[0m\u001b[0;34m.\u001b[0m\u001b[0m__str__\u001b[0m\u001b[0;34m(\u001b[0m\u001b[0;34m)\u001b[0m \u001b[0;34m==\u001b[0m \u001b[0;34m\"A Circle with radius 3\"\u001b[0m\u001b[0;34m,\u001b[0m \u001b[0;34m\"Test 4 failed.\"\u001b[0m\u001b[0;34m\u001b[0m\u001b[0;34m\u001b[0m\u001b[0m\n",
      "\u001b[0;31mTypeError\u001b[0m: Circle() takes no arguments"
     ]
    }
   ],
   "source": [
    "assert Circle(3).radius == 3, \"Test 1 failed.\"\n",
    "assert math.isclose(Circle(3).area(), 28.3, abs_tol=0.1), \"Test 2 failed.\"\n",
    "assert math.isclose(Circle(3).circumference(), 18.8, abs_tol=0.1), \"Test 3 failed.\"\n",
    "assert Circle(3).__str__() == \"A Circle with radius 3\", \"Test 4 failed.\""
   ]
  },
  {
   "cell_type": "markdown",
   "metadata": {},
   "source": [
    "### 5."
   ]
  },
  {
   "cell_type": "markdown",
   "metadata": {},
   "source": [
    "Now, let's create a new class `sphere` that inherits from the `circle` class we created above. It should have the following characteristics:\n",
    "\n",
    "1. It should be initiated exactly the same as `Circle` was, with the single argument `radius` which is stored as an instance attribute.\n",
    "2. Have a method `volume()` which calculates the volume of the sphere ($\\frac{4}{3}{\\pi}{r^3}$).\n",
    "3. Outputs the string `f\"A Sphere with volume 4.19\"` when you call `print(Sphere(1))` (hint: recall the `__str__()` method from the previous question).\n",
    "\n",
    "I've provided some tests for you to check your class."
   ]
  },
  {
   "cell_type": "code",
   "execution_count": 9,
   "metadata": {},
   "outputs": [],
   "source": [
    "# Your answer here."
   ]
  },
  {
   "cell_type": "code",
   "execution_count": 10,
   "metadata": {
    "tags": [
     "raises-exception"
    ]
   },
   "outputs": [
    {
     "ename": "NameError",
     "evalue": "name 'Sphere' is not defined",
     "output_type": "error",
     "traceback": [
      "\u001b[0;31m---------------------------------------------------------------------------\u001b[0m",
      "\u001b[0;31mNameError\u001b[0m                                 Traceback (most recent call last)",
      "\u001b[0;32m<ipython-input-10-605d8a1c6bb6>\u001b[0m in \u001b[0;36m<module>\u001b[0;34m\u001b[0m\n\u001b[0;32m----> 1\u001b[0;31m \u001b[0;32massert\u001b[0m \u001b[0mSphere\u001b[0m\u001b[0;34m(\u001b[0m\u001b[0;36m3\u001b[0m\u001b[0;34m)\u001b[0m\u001b[0;34m.\u001b[0m\u001b[0mradius\u001b[0m \u001b[0;34m==\u001b[0m \u001b[0;36m3\u001b[0m\u001b[0;34m,\u001b[0m \u001b[0;34m\"Test 1 failed.\"\u001b[0m\u001b[0;34m\u001b[0m\u001b[0;34m\u001b[0m\u001b[0m\n\u001b[0m\u001b[1;32m      2\u001b[0m \u001b[0;32massert\u001b[0m \u001b[0mmath\u001b[0m\u001b[0;34m.\u001b[0m\u001b[0misclose\u001b[0m\u001b[0;34m(\u001b[0m\u001b[0mSphere\u001b[0m\u001b[0;34m(\u001b[0m\u001b[0;36m3\u001b[0m\u001b[0;34m)\u001b[0m\u001b[0;34m.\u001b[0m\u001b[0marea\u001b[0m\u001b[0;34m(\u001b[0m\u001b[0;34m)\u001b[0m\u001b[0;34m,\u001b[0m \u001b[0;36m28.3\u001b[0m\u001b[0;34m,\u001b[0m \u001b[0mabs_tol\u001b[0m\u001b[0;34m=\u001b[0m\u001b[0;36m0.1\u001b[0m\u001b[0;34m)\u001b[0m\u001b[0;34m,\u001b[0m \u001b[0;34m\"Test 2 failed.\"\u001b[0m\u001b[0;34m\u001b[0m\u001b[0;34m\u001b[0m\u001b[0m\n\u001b[1;32m      3\u001b[0m \u001b[0;32massert\u001b[0m \u001b[0mmath\u001b[0m\u001b[0;34m.\u001b[0m\u001b[0misclose\u001b[0m\u001b[0;34m(\u001b[0m\u001b[0mSphere\u001b[0m\u001b[0;34m(\u001b[0m\u001b[0;36m3\u001b[0m\u001b[0;34m)\u001b[0m\u001b[0;34m.\u001b[0m\u001b[0mcircumference\u001b[0m\u001b[0;34m(\u001b[0m\u001b[0;34m)\u001b[0m\u001b[0;34m,\u001b[0m \u001b[0;36m18.8\u001b[0m\u001b[0;34m,\u001b[0m \u001b[0mabs_tol\u001b[0m\u001b[0;34m=\u001b[0m\u001b[0;36m0.1\u001b[0m\u001b[0;34m)\u001b[0m\u001b[0;34m,\u001b[0m \u001b[0;34m\"Test 3 failed.\"\u001b[0m\u001b[0;34m\u001b[0m\u001b[0;34m\u001b[0m\u001b[0m\n\u001b[1;32m      4\u001b[0m \u001b[0;32massert\u001b[0m \u001b[0mmath\u001b[0m\u001b[0;34m.\u001b[0m\u001b[0misclose\u001b[0m\u001b[0;34m(\u001b[0m\u001b[0mSphere\u001b[0m\u001b[0;34m(\u001b[0m\u001b[0;36m3\u001b[0m\u001b[0;34m)\u001b[0m\u001b[0;34m.\u001b[0m\u001b[0mvolume\u001b[0m\u001b[0;34m(\u001b[0m\u001b[0;34m)\u001b[0m\u001b[0;34m,\u001b[0m \u001b[0;36m113.1\u001b[0m\u001b[0;34m,\u001b[0m \u001b[0mabs_tol\u001b[0m\u001b[0;34m=\u001b[0m\u001b[0;36m0.1\u001b[0m\u001b[0;34m)\u001b[0m\u001b[0;34m,\u001b[0m \u001b[0;34m\"Test 3 failed.\"\u001b[0m\u001b[0;34m\u001b[0m\u001b[0;34m\u001b[0m\u001b[0m\n\u001b[1;32m      5\u001b[0m \u001b[0;32massert\u001b[0m \u001b[0mSphere\u001b[0m\u001b[0;34m(\u001b[0m\u001b[0;36m1\u001b[0m\u001b[0;34m)\u001b[0m\u001b[0;34m.\u001b[0m\u001b[0m__str__\u001b[0m\u001b[0;34m(\u001b[0m\u001b[0;34m)\u001b[0m \u001b[0;34m==\u001b[0m \u001b[0;34m\"A Sphere with volume 4.19\"\u001b[0m\u001b[0;34m,\u001b[0m \u001b[0;34m\"Test 4 failed.\"\u001b[0m\u001b[0;34m\u001b[0m\u001b[0;34m\u001b[0m\u001b[0m\n",
      "\u001b[0;31mNameError\u001b[0m: name 'Sphere' is not defined"
     ]
    }
   ],
   "source": [
    "assert Sphere(3).radius == 3, \"Test 1 failed.\"\n",
    "assert math.isclose(Sphere(3).area(), 28.3, abs_tol=0.1), \"Test 2 failed.\"\n",
    "assert math.isclose(Sphere(3).circumference(), 18.8, abs_tol=0.1), \"Test 3 failed.\"\n",
    "assert math.isclose(Sphere(3).volume(), 113.1, abs_tol=0.1), \"Test 3 failed.\"\n",
    "assert Sphere(1).__str__() == \"A Sphere with volume 4.19\", \"Test 4 failed.\""
   ]
  },
  {
   "cell_type": "markdown",
   "metadata": {},
   "source": [
    "### 6."
   ]
  },
  {
   "cell_type": "markdown",
   "metadata": {},
   "source": [
    "Imagine that users of our `Sphere` class often want to instantiate our class with a `circumference` instead of a `radius`. Add a [class method](https://pages.github.ubc.ca/MDS-2020-21/DSCI_511_py-prog_students/lectures/lecture3-tests-classes.html#methods-class-methods-static-methods) called `from_circ()` to the `Sphere` class that allows users to do this. The method should calculate the `radius` from the passed `circumference`, and then use that `radius` to make an instance of `Sphere`.\n",
    "\n",
    "I've provided some tests for you to check your modified class."
   ]
  },
  {
   "cell_type": "code",
   "execution_count": 11,
   "metadata": {},
   "outputs": [],
   "source": [
    "# Your answer here."
   ]
  },
  {
   "cell_type": "code",
   "execution_count": 12,
   "metadata": {
    "tags": [
     "raises-exception"
    ]
   },
   "outputs": [
    {
     "ename": "NameError",
     "evalue": "name 'Sphere' is not defined",
     "output_type": "error",
     "traceback": [
      "\u001b[0;31m---------------------------------------------------------------------------\u001b[0m",
      "\u001b[0;31mNameError\u001b[0m                                 Traceback (most recent call last)",
      "\u001b[0;32m<ipython-input-12-c64f2af0ae75>\u001b[0m in \u001b[0;36m<module>\u001b[0;34m\u001b[0m\n\u001b[0;32m----> 1\u001b[0;31m \u001b[0;32massert\u001b[0m \u001b[0mSphere\u001b[0m\u001b[0;34m.\u001b[0m\u001b[0mfrom_circ\u001b[0m\u001b[0;34m(\u001b[0m\u001b[0;36m0\u001b[0m\u001b[0;34m)\u001b[0m\u001b[0;34m.\u001b[0m\u001b[0mradius\u001b[0m \u001b[0;34m==\u001b[0m \u001b[0;36m0\u001b[0m\u001b[0;34m,\u001b[0m \u001b[0;34m\"Test 1 failed.\"\u001b[0m\u001b[0;34m\u001b[0m\u001b[0;34m\u001b[0m\u001b[0m\n\u001b[0m\u001b[1;32m      2\u001b[0m \u001b[0;32massert\u001b[0m \u001b[0mSphere\u001b[0m\u001b[0;34m.\u001b[0m\u001b[0mfrom_circ\u001b[0m\u001b[0;34m(\u001b[0m\u001b[0;36m3\u001b[0m \u001b[0;34m*\u001b[0m \u001b[0mmath\u001b[0m\u001b[0;34m.\u001b[0m\u001b[0mpi\u001b[0m\u001b[0;34m)\u001b[0m\u001b[0;34m.\u001b[0m\u001b[0mradius\u001b[0m \u001b[0;34m==\u001b[0m \u001b[0;36m1.5\u001b[0m\u001b[0;34m,\u001b[0m \u001b[0;34m\"Test 2 failed.\"\u001b[0m\u001b[0;34m\u001b[0m\u001b[0;34m\u001b[0m\u001b[0m\n\u001b[1;32m      3\u001b[0m \u001b[0;32massert\u001b[0m \u001b[0mmath\u001b[0m\u001b[0;34m.\u001b[0m\u001b[0misclose\u001b[0m\u001b[0;34m(\u001b[0m\u001b[0mSphere\u001b[0m\u001b[0;34m.\u001b[0m\u001b[0mfrom_circ\u001b[0m\u001b[0;34m(\u001b[0m\u001b[0;36m6\u001b[0m\u001b[0;34m)\u001b[0m\u001b[0;34m.\u001b[0m\u001b[0mradius\u001b[0m\u001b[0;34m,\u001b[0m \u001b[0;36m0.95\u001b[0m\u001b[0;34m,\u001b[0m \u001b[0mabs_tol\u001b[0m\u001b[0;34m=\u001b[0m\u001b[0;36m0.1\u001b[0m\u001b[0;34m)\u001b[0m\u001b[0;34m,\u001b[0m \u001b[0;34m\"Test 3 failed.\"\u001b[0m\u001b[0;34m\u001b[0m\u001b[0;34m\u001b[0m\u001b[0m\n\u001b[1;32m      4\u001b[0m \u001b[0;32massert\u001b[0m \u001b[0mmath\u001b[0m\u001b[0;34m.\u001b[0m\u001b[0misclose\u001b[0m\u001b[0;34m(\u001b[0m\u001b[0mSphere\u001b[0m\u001b[0;34m.\u001b[0m\u001b[0mfrom_circ\u001b[0m\u001b[0;34m(\u001b[0m\u001b[0;36m6\u001b[0m\u001b[0;34m)\u001b[0m\u001b[0;34m.\u001b[0m\u001b[0mvolume\u001b[0m\u001b[0;34m(\u001b[0m\u001b[0;34m)\u001b[0m\u001b[0;34m,\u001b[0m \u001b[0;36m3.65\u001b[0m\u001b[0;34m,\u001b[0m \u001b[0mabs_tol\u001b[0m\u001b[0;34m=\u001b[0m\u001b[0;36m0.1\u001b[0m\u001b[0;34m)\u001b[0m\u001b[0;34m,\u001b[0m \u001b[0;34m\"Test 4 failed.\"\u001b[0m\u001b[0;34m\u001b[0m\u001b[0;34m\u001b[0m\u001b[0m\n\u001b[1;32m      5\u001b[0m \u001b[0;32massert\u001b[0m \u001b[0mSphere\u001b[0m\u001b[0;34m.\u001b[0m\u001b[0mfrom_circ\u001b[0m\u001b[0;34m(\u001b[0m\u001b[0;36m6\u001b[0m\u001b[0;34m)\u001b[0m\u001b[0;34m.\u001b[0m\u001b[0m__str__\u001b[0m\u001b[0;34m(\u001b[0m\u001b[0;34m)\u001b[0m \u001b[0;34m==\u001b[0m \u001b[0;34m\"A Sphere with volume 3.65\"\u001b[0m\u001b[0;34m,\u001b[0m \u001b[0;34m\"Test 5 failed.\"\u001b[0m\u001b[0;34m\u001b[0m\u001b[0;34m\u001b[0m\u001b[0m\n",
      "\u001b[0;31mNameError\u001b[0m: name 'Sphere' is not defined"
     ]
    }
   ],
   "source": [
    "assert Sphere.from_circ(0).radius == 0, \"Test 1 failed.\"\n",
    "assert Sphere.from_circ(3 * math.pi).radius == 1.5, \"Test 2 failed.\" \n",
    "assert math.isclose(Sphere.from_circ(6).radius, 0.95, abs_tol=0.1), \"Test 3 failed.\"\n",
    "assert math.isclose(Sphere.from_circ(6).volume(), 3.65, abs_tol=0.1), \"Test 4 failed.\"\n",
    "assert Sphere.from_circ(6).__str__() == \"A Sphere with volume 3.65\", \"Test 5 failed.\""
   ]
  },
  {
   "cell_type": "markdown",
   "metadata": {},
   "source": [
    "<hr>\n",
    "<hr>\n",
    "<hr>"
   ]
  },
  {
   "cell_type": "markdown",
   "metadata": {},
   "source": [
    "## Solutions"
   ]
  },
  {
   "cell_type": "markdown",
   "metadata": {},
   "source": [
    "### 1."
   ]
  },
  {
   "cell_type": "markdown",
   "metadata": {},
   "source": [
    "The function `area()` accepts the argument `radius` and calculates the area of a circle. Write three tests using `assert` statements for the following conditions:\n",
    "1. Assert that `area(1)` returns a `float`;\n",
    "2. Assert that `area(0)` returns a value of 0;\n",
    "3. Assert that `area(5)` is approximately equal to 78.5 (hint: `math.isclose(..., abs_tol=0.1)`)"
   ]
  },
  {
   "cell_type": "code",
   "execution_count": 13,
   "metadata": {},
   "outputs": [],
   "source": [
    "def area(radius):\n",
    "    \"\"\"Calculate the area of a circle based on the given radius.\"\"\"\n",
    "    return math.pi * radius ** 2"
   ]
  },
  {
   "cell_type": "code",
   "execution_count": 14,
   "metadata": {},
   "outputs": [],
   "source": [
    "assert isinstance(area(1), float), 'Test 1 failed!'\n",
    "assert area(0) == 0, 'Test 2 failed!'\n",
    "assert math.isclose(area(5), 78.5, abs_tol=0.1)"
   ]
  },
  {
   "cell_type": "markdown",
   "metadata": {},
   "source": [
    "### 2."
   ]
  },
  {
   "cell_type": "markdown",
   "metadata": {},
   "source": [
    "In the spirit of the EAFP (easier to ask for forgiveness than permission) philosophy. Modify the code of the function `area()` and add a `try`/`except` statement to catch the type error raised by passing a string to `area()` as shown below:"
   ]
  },
  {
   "cell_type": "code",
   "execution_count": 15,
   "metadata": {
    "tags": [
     "raises-exception"
    ]
   },
   "outputs": [
    {
     "ename": "TypeError",
     "evalue": "unsupported operand type(s) for ** or pow(): 'str' and 'int'",
     "output_type": "error",
     "traceback": [
      "\u001b[0;31m---------------------------------------------------------------------------\u001b[0m",
      "\u001b[0;31mTypeError\u001b[0m                                 Traceback (most recent call last)",
      "\u001b[0;32m<ipython-input-15-28e1bc493b84>\u001b[0m in \u001b[0;36m<module>\u001b[0;34m\u001b[0m\n\u001b[0;32m----> 1\u001b[0;31m \u001b[0marea\u001b[0m\u001b[0;34m(\u001b[0m\u001b[0;34m'10'\u001b[0m\u001b[0;34m)\u001b[0m\u001b[0;34m\u001b[0m\u001b[0;34m\u001b[0m\u001b[0m\n\u001b[0m",
      "\u001b[0;32m<ipython-input-13-13e66cca8177>\u001b[0m in \u001b[0;36marea\u001b[0;34m(radius)\u001b[0m\n\u001b[1;32m      1\u001b[0m \u001b[0;32mdef\u001b[0m \u001b[0marea\u001b[0m\u001b[0;34m(\u001b[0m\u001b[0mradius\u001b[0m\u001b[0;34m)\u001b[0m\u001b[0;34m:\u001b[0m\u001b[0;34m\u001b[0m\u001b[0;34m\u001b[0m\u001b[0m\n\u001b[1;32m      2\u001b[0m     \u001b[0;34m\"\"\"Calculate the area of a circle based on the given radius.\"\"\"\u001b[0m\u001b[0;34m\u001b[0m\u001b[0;34m\u001b[0m\u001b[0m\n\u001b[0;32m----> 3\u001b[0;31m     \u001b[0;32mreturn\u001b[0m \u001b[0mmath\u001b[0m\u001b[0;34m.\u001b[0m\u001b[0mpi\u001b[0m \u001b[0;34m*\u001b[0m \u001b[0mradius\u001b[0m \u001b[0;34m**\u001b[0m \u001b[0;36m2\u001b[0m\u001b[0;34m\u001b[0m\u001b[0;34m\u001b[0m\u001b[0m\n\u001b[0m",
      "\u001b[0;31mTypeError\u001b[0m: unsupported operand type(s) for ** or pow(): 'str' and 'int'"
     ]
    }
   ],
   "source": [
    "area('10')"
   ]
  },
  {
   "cell_type": "code",
   "execution_count": 16,
   "metadata": {},
   "outputs": [],
   "source": [
    "def area(radius):\n",
    "    \"\"\"Calculate the area of a circle based on the given radius.\"\"\"\n",
    "    try:\n",
    "        return math.pi * radius ** 2\n",
    "    except TypeError:\n",
    "        print(f\"radius should be a number but you entered a {type(radius)}\")\n",
    "    except:\n",
    "        print(\"Some other error occurred!\")"
   ]
  },
  {
   "cell_type": "markdown",
   "metadata": {},
   "source": [
    "### 3."
   ]
  },
  {
   "cell_type": "markdown",
   "metadata": {},
   "source": [
    "In the spirit of the LBYL (look before you leap) philosophy. Modify the code of the function `area()` and add a conditional `if`/`else` statement to make sure that a user has passed a number (`int` or `float`) to the `area()` function. If they pass something else, raise a `TypeError`."
   ]
  },
  {
   "cell_type": "code",
   "execution_count": 17,
   "metadata": {},
   "outputs": [],
   "source": [
    "def area(radius):\n",
    "    \"\"\"Calculate the area of a circle based on the given radius.\"\"\"\n",
    "    if isinstance(radius, (int, float)):\n",
    "        return math.pi * radius ** 2\n",
    "    else:\n",
    "        raise TypeError(f\"radius should be a number but you entered a {type(radius)}\")"
   ]
  },
  {
   "cell_type": "markdown",
   "metadata": {},
   "source": [
    "### 4."
   ]
  },
  {
   "cell_type": "markdown",
   "metadata": {},
   "source": [
    "For this exercise I want you to create a class called `circle`. It should have the following characteristics:\n",
    "1. It should be initiated with the argument `radius` and store this as an instance attribute.\n",
    "2. Have a method `area()` which calculates the area of the circle.\n",
    "3. Have a method `circumference()` which calculates the circumference of the circle.\n",
    "4. Have the method `__str__()` which is a special method in Python and controls what is output to the screen when you `print()` an instance of your class (learn more [here](https://realpython.com/lessons/how-and-when-use-__str__/)). The `print()` statement should print the string `f\"A Circle with radius {self.radius}\"`.\n",
    "\n",
    "I've provided some tests for you to check your class."
   ]
  },
  {
   "cell_type": "code",
   "execution_count": 18,
   "metadata": {},
   "outputs": [],
   "source": [
    "class Circle:\n",
    "    \"\"\"A circle with a radius r.\"\"\"\n",
    "\n",
    "    def __init__(self, radius):\n",
    "        self.radius = radius\n",
    "\n",
    "    def area(self):\n",
    "        \"\"\"Calculate the area of the circle.\"\"\"\n",
    "        return math.pi * self.radius ** 2\n",
    "\n",
    "    def circumference(self):\n",
    "        \"\"\"Calculate the circumference of the circle.\"\"\"\n",
    "        return 2.0 * math.pi * self.radius\n",
    "\n",
    "    def __str__(self):\n",
    "        return f\"A Circle with radius {self.radius}\""
   ]
  },
  {
   "cell_type": "code",
   "execution_count": 19,
   "metadata": {},
   "outputs": [],
   "source": [
    "assert Circle(3).radius == 3, \"Test 1 failed.\"\n",
    "assert math.isclose(Circle(3).area(), 28.3, abs_tol=0.1), \"Test 2 failed.\"\n",
    "assert math.isclose(Circle(3).circumference(), 18.8, abs_tol=0.1), \"Test 3 failed.\"\n",
    "assert Circle(3).__str__() == \"A Circle with radius 3\", \"Test 4 failed.\""
   ]
  },
  {
   "cell_type": "markdown",
   "metadata": {},
   "source": [
    "### 5."
   ]
  },
  {
   "cell_type": "markdown",
   "metadata": {},
   "source": [
    "Now, let's create a new class `sphere` that inherits from the `circle` class we created above. It should have the following characteristics:\n",
    "\n",
    "1. It should be initiated exactly the same as `Circle` was, with the single argument `radius` which is stored as an instance attribute.\n",
    "2. Have a method `volume()` which calculates the volume of the sphere ($\\frac{4}{3}{\\pi}{r^3}$).\n",
    "3. Outputs the string `f\"A Sphere with volume 4.19\"` when you call `print(Sphere(1))` (hint: recall the `__str__()` method from the previous question).\n",
    "\n",
    "I've provided some tests for you to check your class."
   ]
  },
  {
   "cell_type": "code",
   "execution_count": 20,
   "metadata": {},
   "outputs": [],
   "source": [
    "class Sphere(Circle):\n",
    "    \"\"\"A sphere with a radius r.\"\"\"\n",
    "    \n",
    "    def volume(self):\n",
    "        \"\"\"Calculate the volume of the sphere.\"\"\"\n",
    "        return 4 / 3 * math.pi * self.radius ** 3\n",
    "\n",
    "    def __str__(self):\n",
    "        return f\"A Sphere with volume {self.volume():.2f}\""
   ]
  },
  {
   "cell_type": "code",
   "execution_count": 21,
   "metadata": {},
   "outputs": [],
   "source": [
    "assert Sphere(3).radius == 3, \"Test 1 failed.\"\n",
    "assert math.isclose(Sphere(3).area(), 28.3, abs_tol=0.1), \"Test 2 failed.\"\n",
    "assert math.isclose(Sphere(3).circumference(), 18.8, abs_tol=0.1), \"Test 3 failed.\"\n",
    "assert math.isclose(Sphere(3).volume(), 113.1, abs_tol=0.1), \"Test 3 failed.\"\n",
    "assert Sphere(1).__str__() == \"A Sphere with volume 4.19\", \"Test 4 failed.\""
   ]
  },
  {
   "cell_type": "markdown",
   "metadata": {},
   "source": [
    "### 6."
   ]
  },
  {
   "cell_type": "markdown",
   "metadata": {},
   "source": [
    "Imagine that users of our `Sphere` class often want to instantiate our class with a `circumference` instead of a `radius`. Add a [class method](https://pages.github.ubc.ca/MDS-2020-21/DSCI_511_py-prog_students/lectures/lecture3-tests-classes.html#methods-class-methods-static-methods) called `from_circ()` to the `Sphere` class that allows users to do this. The method should calculate the `radius` from the passed `circumference`, and then use that `radius` to make an instance of `Sphere`.\n",
    "\n",
    "I've provided some tests for you to check your modified class."
   ]
  },
  {
   "cell_type": "code",
   "execution_count": 22,
   "metadata": {},
   "outputs": [],
   "source": [
    "class Sphere(Circle):\n",
    "    \"\"\"A sphere with a radius r.\"\"\"\n",
    "    \n",
    "    def volume(self):\n",
    "        \"\"\"Calculate the volume of the sphere.\"\"\"\n",
    "        return 4 / 3 * math.pi * self.radius ** 3\n",
    "    \n",
    "    @classmethod\n",
    "    def from_circ(cls, circumference):\n",
    "        \"\"\"Make an instance of Sphere from a circumference.\"\"\"\n",
    "        radius = circumference / (2 * math.pi)\n",
    "        return cls(radius)\n",
    "\n",
    "    def __str__(self):\n",
    "        return f\"A Sphere with volume {self.volume():.2f}\""
   ]
  },
  {
   "cell_type": "code",
   "execution_count": 23,
   "metadata": {},
   "outputs": [],
   "source": [
    "assert Sphere.from_circ(0).radius == 0, \"Test 1 failed.\"\n",
    "assert Sphere.from_circ(3 * math.pi).radius == 1.5, \"Test 2 failed.\" \n",
    "assert math.isclose(Sphere.from_circ(6).radius, 0.95, abs_tol=0.1), \"Test 3 failed.\"\n",
    "assert math.isclose(Sphere.from_circ(6).volume(), 3.65, abs_tol=0.1), \"Test 4 failed.\"\n",
    "assert Sphere.from_circ(6).__str__() == \"A Sphere with volume 3.65\", \"Test 5 failed.\""
   ]
  }
 ],
 "metadata": {
  "kernelspec": {
   "display_name": "Python 3",
   "language": "python",
   "name": "python3"
  },
  "language_info": {
   "codemirror_mode": {
    "name": "ipython",
    "version": 3
   },
   "file_extension": ".py",
   "mimetype": "text/x-python",
   "name": "python",
   "nbconvert_exporter": "python",
   "pygments_lexer": "ipython3",
   "version": "3.7.8"
  }
 },
 "nbformat": 4,
 "nbformat_minor": 4
}
